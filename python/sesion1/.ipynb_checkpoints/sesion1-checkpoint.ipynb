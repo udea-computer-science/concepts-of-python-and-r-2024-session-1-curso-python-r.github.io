{
 "cells": [
  {
   "cell_type": "markdown",
   "metadata": {},
   "source": [
    "# SESION 1 \n",
    "* Introducion al curso\n",
    "* Breve Historia\n",
    "* Entornos: Interprete, scripts, Jupyter\n",
    "* Instalacion Anaconda\n",
    "* Numpy: Arreglos\n",
    "\n",
    "\n",
    "## Instalacion y Configuracion de [Ananconda](https://www.anaconda.com/distribution/)\n",
    "The open-source Anaconda Distribution is the easiest way to perform Python/R data science and machine learning on Linux, Windows, and Mac OS X. With over 19 million users worldwide, it is the industry standard for developing, testing, and training on a single machine, enabling individual data scientists to:\n",
    "* Quickly download 7,500+ Python/R data science packages\n",
    "* Manage libraries, dependencies, and environments with Conda\n",
    "* Develop and train machine learning and deep learning models with scikit-learn, TensorFlow, and Theano\n",
    "* Analyze data with scalability and performance with Dask, NumPy, pandas, and Numba\n",
    "* Visualize results with Matplotlib, Bokeh, Datashader, and Holoviews\n",
    "\n",
    "## [Python Version](https://www.python.org/doc/versions/)\n",
    "\n",
    "Some previous versions of the documentation remain available online. Use the list below to select a version to view.\n",
    "\n",
    "For unreleased (in development) documentation, see In Development Versions.\n",
    "\n",
    "* Python 3.8.1, documentation released on 18 December 2019.\n",
    "* Python 3.8.0, documentation released on 14 October 2019.\n",
    "* Python 3.7.6, documentation released on 18 December 2019.\n",
    "* Python 3.7.5, documentation released on 15 October 2019.\n",
    "* Python 3.7.4, documentation released on 08 July 2019.\n",
    "* Python 3.7.3, documentation released on 25 March 2019.\n",
    "* Python 3.7.2, documentation released on 24 December 2018.\n",
    "* Python 3.7.1, documentation released on 20 October 2018.\n",
    "* Python 3.7.0, documentation released on 27 June 2018.\n",
    "* Python 3.3.7, documentation released on 19 September 2017.\n",
    "* Python 3.3.6, documentation released on 12 October 2014.\n",
    "* Python 3.3.5, documentation released on 9 March 2014.\n",
    "* Python 3.2.2, documentation released on 4 September 2011.\n",
    "* Python 3.0.1, documentation released on 13 February 2009.\n",
    "* Python 3.0, documentation released on 3 December 2008.\n",
    "* Python 2.7.17, documentation released on 19 October 2019\n",
    "* Python 2.7.16, documentation released on 02 March 2019\n",
    "* Python 2.7.15, documentation released on 30 April 2018\n",
    "* Python 2.7.7, documentation released on 31 May 2014.\n",
    "* Python 2.7.6, documentation released on 10 November 2013.\n",
    "* Python 2.6.9, documentation released on 29 October 2013.\n",
    "* Python 2.6.8, documentation released on 10 April 2012.\n",
    "* Python 2.6, documentation released on 1 October 2008.\n",
    "* Python 2.5.4, documentation released on 23 December 2008.\n",
    "* Python 2.2.3, documentation released on 30 May 2003.\n",
    "* Python 2.2.2, documentation released on 14 October 2002.\n",
    "* Python 2.2.1, documentation released on 10 April 2002.\n",
    "* Python 2.0.1, documentation released on 22 June 2001.\n",
    "* Python 2.0, documentation released on 16 October 2000.\n",
    "* Python 1.6, documentation released on 5 September 2000.\n",
    "* Python 1.4, documentation released on 25 October 1996.\n",
    "\n",
    "## Instalacion de librerias\n",
    "conda  y pip son herramientas para manejar y desplegar aplicaciones, ambientes y paquetes.\n",
    "\n",
    "Se puede usar el comando  `conda` para instalar librerias asi:\n",
    "```{bash}\n",
    "conda install seaborn\n",
    "```\n",
    "\n",
    "Tambien se puede usar el comando `pip` para instalar librerias asi:\n",
    "```{bash}\n",
    "pip install seaborn\n",
    "```\n",
    "\n",
    "Se puede forzar la instalacion de paquetes de la siguiente forma:\n",
    "```{bash}\n",
    "conda install -c conda-forge statsmodels\n",
    "```\n",
    "\n",
    "## Importar librerias\n",
    "\n",
    "La forma mas directa de importar una librerias es:\n",
    "```{python}\n",
    "import sys\n",
    "import os\n",
    "import numpy\n",
    "```\n",
    "\n",
    "Otra forma que puede ser mas util, es instalar y dar un alias al nombre de la libreria:\n",
    "```{python}\n",
    "import numpy as np\n",
    "```\n",
    "\n",
    "Igualmente se puede instalar un submodulo en vez de toda la libreria:\n",
    "```{python}\n",
    "import matplotlib.pyplot as plt\n",
    "```\n",
    "\n",
    "O se puede importar una o varias funciones de la libreria:\n",
    "```{python}\n",
    "from random import random, uniform, gauss\n",
    "```\n",
    "\n",
    "Para revisar si un modulo esta instalado:\n",
    "```{python}\n",
    "'numpy' in sys.modules\n",
    "'scipy' in sys.modules\n",
    "```\n",
    "\n",
    "Se puede revisar si un modulo esta instalado asi:\n",
    "```{python}\n",
    "'numpy' in sys.modules\n",
    "'scipy' in sys.modules\n",
    "```\n",
    "\n",
    "## Python Kernel  \n",
    "[Referencia](https://www.dummies.com/programming/python/interacting-kernel-python-programming/)\n",
    "The kernel is the server that enables Python programmers to run cells within Notebook. You typically see the kernel commands in a separate command or terminal window.\n",
    "\n",
    "Each entry shows the time the kernel executed the task, which application the command executed, the task it performed, and any resources affected. In most cases, you don’t need to do anything with this window, but viewing it can be helpful when you run into problems because you often see error messages that can help you resolve an issue.\n",
    "\n",
    "You control the kernel in a number of ways. For example, saving a file issues a command to the kernel, which carries the task out for you. However, you also find some kernel-specific commands on the Kernel menu, which are described in the following list:\n",
    "\n",
    "* **Interrupt**: Causes the kernel to stop performing the current task without actually shutting the kernel down. You can use this option when you want to do something like stop processing a large dataset.\n",
    "\n",
    "* **Restart**: Stops the kernel and starts it again. This option causes you to lose all the variable data. However, in some cases, this is precisely what you need to do when the environment has become dirty with old data.\n",
    "\n",
    "* **Restart & Clear Output**: Stops the kernel, starts it again, and clears all the existing cell outputs.\n",
    "\n",
    "* **Restart & Run All**: Stops the kernel, starts it again, and then runs every cell starting from the top cell and ending with the last cell. When Notebook reaches the bottom, it selects the last cell but doesn’t insert a new one.\n",
    "\n",
    "* **Reconnect**: Recreates the connection to the kernel. In some cases, environmental or other issues could cause the application to lose its connection, so you use this option to reestablish the connection without loss of variable data.\n",
    "\n",
    "* **Shutdown**: Shuts the kernel down. You may perform this step in preparation for using a different kernel.\n",
    "\n",
    "* **Change Kernel**: Selects a different kernel from the list of kernels you have installed. For example, you may want to test an application using various Python versions to ensure that it runs on all of them.\n",
    "\n",
    "\n",
    "## SHORTCUTS\n",
    "* New cell below: \"Esc+b\"\n",
    "* New cell above: \"Esc+a\"\n",
    "* Delete cell: \"Esc+D+D\"\n",
    "* Comment region:\"Crtl+/\" or \"Ctrl+}\"\n",
    "* SHIFT + M = It merges multiple selected cells into one cell. \n",
    "* CTRL + SHIFT + – = It splits the current cell into two cells from where your cursor is. \n",
    "\n",
    "## Magics\n",
    "```{python}\n",
    "%ls\n",
    "%dirs\n",
    "%lsmagic\n",
    "%matplotlib inline ## It allows the output of plotting command to be displayed inline i.e. in Jupyter lab UI.\n",
    "%who ## will list all variables that exist in the global scope. \n",
    "%time ## will give you information about the time taken in a single run of the code in your cell.\n",
    "```\n",
    "\n",
    "## [Tipos de Variable](https://docs.python.org/3/reference/datamodel.html)\n",
    "* Tipos de Variables: Enteros, flotantes, cadenas de caracteres, boleanos, bytes, flotantes, complejos\n",
    "\n",
    "### [Enteros y Flotantes](https://docs.python.org/3/reference/datamodel.html)"
   ]
  },
  {
   "cell_type": "code",
   "execution_count": 8,
   "metadata": {},
   "outputs": [
    {
     "data": {
      "text/plain": [
       "4"
      ]
     },
     "execution_count": 8,
     "metadata": {},
     "output_type": "execute_result"
    }
   ],
   "source": [
    "a=1\n",
    "b=3\n",
    "a+b"
   ]
  },
  {
   "cell_type": "code",
   "execution_count": 3,
   "metadata": {
    "collapsed": true
   },
   "outputs": [],
   "source": [
    "a+b;"
   ]
  },
  {
   "cell_type": "code",
   "execution_count": 4,
   "metadata": {},
   "outputs": [
    {
     "name": "stdout",
     "output_type": "stream",
     "text": [
      "4\n"
     ]
    }
   ],
   "source": [
    "print(a+b)"
   ]
  },
  {
   "cell_type": "code",
   "execution_count": 5,
   "metadata": {},
   "outputs": [
    {
     "data": {
      "text/plain": [
       "0"
      ]
     },
     "execution_count": 5,
     "metadata": {},
     "output_type": "execute_result"
    }
   ],
   "source": [
    "a-1"
   ]
  },
  {
   "cell_type": "code",
   "execution_count": 6,
   "metadata": {},
   "outputs": [
    {
     "data": {
      "text/plain": [
       "3"
      ]
     },
     "execution_count": 6,
     "metadata": {},
     "output_type": "execute_result"
    }
   ],
   "source": [
    "c=a*b"
   ]
  },
  {
   "cell_type": "code",
   "execution_count": 16,
   "metadata": {},
   "outputs": [
    {
     "data": {
      "text/plain": [
       "1.4142135623730951"
      ]
     },
     "execution_count": 16,
     "metadata": {},
     "output_type": "execute_result"
    }
   ],
   "source": [
    "2**(1/2.)"
   ]
  },
  {
   "cell_type": "code",
   "execution_count": 8,
   "metadata": {},
   "outputs": [
    {
     "data": {
      "text/plain": [
       "5"
      ]
     },
     "execution_count": 8,
     "metadata": {},
     "output_type": "execute_result"
    }
   ],
   "source": [
    "int(5.5)"
   ]
  },
  {
   "cell_type": "code",
   "execution_count": 9,
   "metadata": {},
   "outputs": [
    {
     "data": {
      "text/plain": [
       "5.0"
      ]
     },
     "execution_count": 9,
     "metadata": {},
     "output_type": "execute_result"
    }
   ],
   "source": [
    "float(5)"
   ]
  },
  {
   "cell_type": "markdown",
   "metadata": {},
   "source": [
    "### Cadenas de caracteres\n",
    "* [Referencia 1](https://docs.python.org/3/library/string.html)\n",
    "* [Referencia 2](https://www.programiz.com/python-programming/methods/string)\n",
    "\n",
    "Particularmente las cadenas de caracteres \"strings\" en python son clases. Sobre los \"strings\" se pueden realizar multiples operaciones:"
   ]
  },
  {
   "cell_type": "code",
   "execution_count": 3,
   "metadata": {},
   "outputs": [
    {
     "data": {
      "text/plain": [
       "'abcdef'"
      ]
     },
     "execution_count": 3,
     "metadata": {},
     "output_type": "execute_result"
    }
   ],
   "source": [
    "\"abc\"+\"def\""
   ]
  },
  {
   "cell_type": "code",
   "execution_count": 2,
   "metadata": {},
   "outputs": [
    {
     "data": {
      "text/plain": [
       "'abcabcabc'"
      ]
     },
     "execution_count": 2,
     "metadata": {},
     "output_type": "execute_result"
    }
   ],
   "source": [
    "3*\"abc\""
   ]
  },
  {
   "cell_type": "code",
   "execution_count": 3,
   "metadata": {},
   "outputs": [
    {
     "data": {
      "text/plain": [
       "'abcabcabcdef'"
      ]
     },
     "execution_count": 3,
     "metadata": {},
     "output_type": "execute_result"
    }
   ],
   "source": [
    "3*\"abc\"+\"def\""
   ]
  },
  {
   "cell_type": "code",
   "execution_count": 1,
   "metadata": {},
   "outputs": [
    {
     "data": {
      "text/plain": [
       "['hola', 'este', 'es', 'el', 'curso', 'de', 'programacion', 'en', 'python']"
      ]
     },
     "execution_count": 1,
     "metadata": {},
     "output_type": "execute_result"
    }
   ],
   "source": [
    "\"hola este es el curso de programacion en python\".split(\" \")"
   ]
  },
  {
   "cell_type": "code",
   "execution_count": 5,
   "metadata": {},
   "outputs": [
    {
     "data": {
      "text/plain": [
       "'HOLA ESTE ES EL CURSO DE PROGRAMACION EN PYTHON'"
      ]
     },
     "execution_count": 5,
     "metadata": {},
     "output_type": "execute_result"
    }
   ],
   "source": [
    "\"hola este es el curso de programacion en python\".upper()"
   ]
  },
  {
   "cell_type": "code",
   "execution_count": 6,
   "metadata": {},
   "outputs": [
    {
     "data": {
      "text/plain": [
       "'hola este es el curso de programacion en python'"
      ]
     },
     "execution_count": 6,
     "metadata": {},
     "output_type": "execute_result"
    }
   ],
   "source": [
    "\"hola este es el curso de programacion en python\".upper().lower()"
   ]
  },
  {
   "cell_type": "code",
   "execution_count": 8,
   "metadata": {},
   "outputs": [
    {
     "data": {
      "text/plain": [
       "'hola este es el curso de programacion en java'"
      ]
     },
     "execution_count": 8,
     "metadata": {},
     "output_type": "execute_result"
    }
   ],
   "source": [
    "\"hola este es el curso de programacion en python\".replace(\"python\",\"java\")"
   ]
  },
  {
   "cell_type": "code",
   "execution_count": 9,
   "metadata": {},
   "outputs": [
    {
     "data": {
      "text/plain": [
       "47"
      ]
     },
     "execution_count": 9,
     "metadata": {},
     "output_type": "execute_result"
    }
   ],
   "source": [
    "len(\"hola este es el curso de programacion en python\")"
   ]
  },
  {
   "cell_type": "code",
   "execution_count": 10,
   "metadata": {},
   "outputs": [
    {
     "data": {
      "text/plain": [
       "str"
      ]
     },
     "execution_count": 10,
     "metadata": {},
     "output_type": "execute_result"
    }
   ],
   "source": [
    "type(\"hola este es el curso de programacion en python\")"
   ]
  },
  {
   "cell_type": "markdown",
   "metadata": {},
   "source": [
    "## [Tipos de Secuencias](https://docs.python.org/3/reference/datamodel.html)\n",
    "[Referencia](https://docs.python.org/3/library/stdtypes.html#typesseq)\n",
    "\n",
    "En python existen diferentes tipos de estructuras que permiten el almacenamiento y manipulacion de conjuntos de datos, A continuacion se mencionaran algunas de las estructuras mas basicas: Listas, Tuplas, Conjuntos\n",
    "\n",
    "### [Tuplas](https://docs.python.org/3/reference/datamodel.html) \n",
    "The items of a tuple are arbitrary Python objects. Tuples of two or more items are formed by comma-separated lists of expressions. A tuple of one item (a ‘singleton’) can be formed by affixing a comma to an expression (an expression by itself does not create a tuple, since parentheses must be usable for grouping of expressions). An empty tuple can be formed by an empty pair of parentheses.\n"
   ]
  },
  {
   "cell_type": "markdown",
   "metadata": {},
   "source": [
    "tupla1 = (\"hola este es el curso de\",\"python\", \"y\", \"R\")\n",
    "print(tupla1)"
   ]
  },
  {
   "cell_type": "code",
   "execution_count": 2,
   "metadata": {},
   "outputs": [
    {
     "data": {
      "text/plain": [
       "'hola este es el curso de'"
      ]
     },
     "execution_count": 2,
     "metadata": {},
     "output_type": "execute_result"
    }
   ],
   "source": [
    "tupla1[0]"
   ]
  },
  {
   "cell_type": "code",
   "execution_count": 3,
   "metadata": {},
   "outputs": [
    {
     "data": {
      "text/plain": [
       "'R'"
      ]
     },
     "execution_count": 3,
     "metadata": {},
     "output_type": "execute_result"
    }
   ],
   "source": [
    "tupla1[-1]"
   ]
  },
  {
   "cell_type": "code",
   "execution_count": 6,
   "metadata": {},
   "outputs": [
    {
     "data": {
      "text/plain": [
       "('python', 'y', 'R')"
      ]
     },
     "execution_count": 6,
     "metadata": {},
     "output_type": "execute_result"
    }
   ],
   "source": [
    "tupla1[1:4]"
   ]
  },
  {
   "cell_type": "code",
   "execution_count": 7,
   "metadata": {},
   "outputs": [
    {
     "data": {
      "text/plain": [
       "4"
      ]
     },
     "execution_count": 7,
     "metadata": {},
     "output_type": "execute_result"
    }
   ],
   "source": [
    "len(tupla1)"
   ]
  },
  {
   "cell_type": "code",
   "execution_count": 15,
   "metadata": {},
   "outputs": [
    {
     "data": {
      "text/plain": [
       "tuple"
      ]
     },
     "execution_count": 15,
     "metadata": {},
     "output_type": "execute_result"
    }
   ],
   "source": [
    "type(tupla1)"
   ]
  },
  {
   "cell_type": "markdown",
   "metadata": {},
   "source": [
    "### [Listas](https://docs.python.org/3/reference/datamodel.html)\n",
    "The items of a list are arbitrary Python objects. Lists are formed by placing a comma-separated list of expressions in square brackets. (Note that there are no special cases needed to form lists of length 0 or 1.)\n"
   ]
  },
  {
   "cell_type": "code",
   "execution_count": 11,
   "metadata": {},
   "outputs": [],
   "source": [
    "utiles_inutiles = [\"Lapiz\",\"Borrador\",\"Cuaderno\",\"libro\",\"sacapuntas\",\"colores\"]"
   ]
  },
  {
   "cell_type": "code",
   "execution_count": 12,
   "metadata": {},
   "outputs": [
    {
     "data": {
      "text/plain": [
       "6"
      ]
     },
     "execution_count": 12,
     "metadata": {},
     "output_type": "execute_result"
    }
   ],
   "source": [
    "len(utiles_inutiles)"
   ]
  },
  {
   "cell_type": "code",
   "execution_count": 13,
   "metadata": {},
   "outputs": [
    {
     "data": {
      "text/plain": [
       "'sacapuntas'"
      ]
     },
     "execution_count": 13,
     "metadata": {},
     "output_type": "execute_result"
    }
   ],
   "source": [
    "utiles_inutiles[-2]"
   ]
  },
  {
   "cell_type": "code",
   "execution_count": 14,
   "metadata": {},
   "outputs": [
    {
     "data": {
      "text/plain": [
       "list"
      ]
     },
     "execution_count": 14,
     "metadata": {},
     "output_type": "execute_result"
    }
   ],
   "source": [
    "type(utiles_inutiles)"
   ]
  },
  {
   "cell_type": "code",
   "execution_count": null,
   "metadata": {},
   "outputs": [],
   "source": [
    "# Secuencias"
   ]
  },
  {
   "cell_type": "code",
   "execution_count": 25,
   "metadata": {},
   "outputs": [
    {
     "data": {
      "text/plain": [
       "range(1, 10)"
      ]
     },
     "execution_count": 25,
     "metadata": {},
     "output_type": "execute_result"
    }
   ],
   "source": [
    "range(1,10,1)"
   ]
  },
  {
   "cell_type": "markdown",
   "metadata": {},
   "source": [
    "## [Conjuntos](https://docs.python.org/3/tutorial/datastructures.html#sets)\n",
    "Python also includes a data type for sets. A set is an unordered collection with no duplicate elements. Basic uses include membership testing and eliminating duplicate entries. Set objects also support mathematical operations like union, intersection, difference, and symmetric difference."
   ]
  },
  {
   "cell_type": "code",
   "execution_count": null,
   "metadata": {},
   "outputs": [],
   "source": [
    "a = {6,8,3,\"hola\"}"
   ]
  },
  {
   "cell_type": "code",
   "execution_count": null,
   "metadata": {},
   "outputs": [],
   "source": [
    "type(a)"
   ]
  },
  {
   "cell_type": "code",
   "execution_count": 32,
   "metadata": {},
   "outputs": [],
   "source": [
    "a = set('abracadabra')"
   ]
  },
  {
   "cell_type": "code",
   "execution_count": 33,
   "metadata": {},
   "outputs": [
    {
     "data": {
      "text/plain": [
       "{'a', 'b', 'c', 'd', 'r'}"
      ]
     },
     "execution_count": 33,
     "metadata": {},
     "output_type": "execute_result"
    }
   ],
   "source": [
    "a"
   ]
  },
  {
   "cell_type": "markdown",
   "metadata": {},
   "source": [
    "## [Tipos de Mapeo](https://docs.python.org/3/reference/datamodel.html)\n",
    "These represent finite sets of objects indexed by arbitrary index sets. The subscript notation a[k] selects the item indexed by k from the mapping a; this can be used in expressions and as the target of assignments or del statements. The built-in function len() returns the number of items in a mapping.\n",
    "\n",
    "### [Diccionarios](https://docs.python.org/3/library/stdtypes.html#typesmapping)\n",
    "These represent finite sets of objects indexed by nearly arbitrary values. The only types of values not acceptable as keys are values containing lists or dictionaries or other mutable types that are compared by value rather than by object identity, the reason being that the efficient implementation of dictionaries requires a key’s hash value to remain constant. Numeric types used for keys obey the normal rules for numeric comparison: if two numbers compare equal (e.g., 1 and 1.0) then they can be used interchangeably to index the same dictionary entry."
   ]
  },
  {
   "cell_type": "code",
   "execution_count": 34,
   "metadata": {},
   "outputs": [],
   "source": [
    "dict_utils = {\"cuadernos\":12,\"colores\":24,\"lapiz\":1,\"borrador\":2,\"libros\":12}"
   ]
  },
  {
   "cell_type": "code",
   "execution_count": 35,
   "metadata": {},
   "outputs": [
    {
     "data": {
      "text/plain": [
       "12"
      ]
     },
     "execution_count": 35,
     "metadata": {},
     "output_type": "execute_result"
    }
   ],
   "source": [
    "dict_utils[\"cuadernos\"]"
   ]
  },
  {
   "cell_type": "code",
   "execution_count": 36,
   "metadata": {},
   "outputs": [
    {
     "data": {
      "text/plain": [
       "dict_items([('cuadernos', 12), ('colores', 24), ('lapiz', 1), ('borrador', 2), ('libros', 12)])"
      ]
     },
     "execution_count": 36,
     "metadata": {},
     "output_type": "execute_result"
    }
   ],
   "source": [
    "dict_utils.items()"
   ]
  },
  {
   "cell_type": "code",
   "execution_count": 37,
   "metadata": {},
   "outputs": [
    {
     "data": {
      "text/plain": [
       "dict_keys(['cuadernos', 'colores', 'lapiz', 'borrador', 'libros'])"
      ]
     },
     "execution_count": 37,
     "metadata": {},
     "output_type": "execute_result"
    }
   ],
   "source": [
    "dict_utils.keys()"
   ]
  },
  {
   "cell_type": "markdown",
   "metadata": {},
   "source": [
    "## Example (standard input): \n",
    "Read two integers from STDIN and print three lines where:\n",
    "\n",
    "* The first line contains the sum of the two numbers.\n",
    "* The second line contains the difference of the two numbers (first - second).\n",
    "* The third line contains the product of the two numbers."
   ]
  },
  {
   "cell_type": "code",
   "execution_count": null,
   "metadata": {},
   "outputs": [],
   "source": [
    "if __name__ == '__main__':\n",
    "    a = int(input())\n",
    "    b = int(input())"
   ]
  },
  {
   "cell_type": "markdown",
   "metadata": {},
   "source": [
    "## Task\n",
    "\n",
    "Read two integers and print two lines. The first line should contain integer division,  // . The second line should contain float division,  / .\n",
    "\n",
    "Note: You don't need to perform any rounding or formatting operations."
   ]
  },
  {
   "cell_type": "code",
   "execution_count": null,
   "metadata": {},
   "outputs": [],
   "source": [
    "if __name__ == '__main__':\n",
    "    a = int(input())\n",
    "    b = int(input())"
   ]
  },
  {
   "cell_type": "markdown",
   "metadata": {},
   "source": [
    "## [Built in Functions](utiles_inutiles)\n",
    "abs(), delattr(), hash(), memoryview(), t(), l(), ct(), lp(), min(), setattr(), any(), dir(), hex(), next(), slice(), ascii(), divmod(), id(), object(), rted(), n(), enumerate(), input(), oct(), staticmethod(), bool(), eval(), int(), open(), str(), breakpoint(), exec(), isinstance(), ord(), sum(), bytearray(), filter(), issubclass(), pow(), super(), bytes(), float(), iter(), print(), tuple(), callable(), format(), len(), property(), type(), chr(), frozenset(), list(), range(), vars(), classmethod(), getattr(), locals(), repr(), zip(), compile(), globals(), map(), reversed(), __import__(), complex(), hasattr(), max(), round()\n",
    "\n"
   ]
  },
  {
   "cell_type": "code",
   "execution_count": 17,
   "metadata": {},
   "outputs": [
    {
     "data": {
      "text/plain": [
       "float"
      ]
     },
     "execution_count": 17,
     "metadata": {},
     "output_type": "execute_result"
    }
   ],
   "source": [
    "type(c)"
   ]
  },
  {
   "cell_type": "code",
   "execution_count": 15,
   "metadata": {
    "collapsed": true
   },
   "outputs": [],
   "source": [
    "d=a/b"
   ]
  },
  {
   "cell_type": "code",
   "execution_count": 18,
   "metadata": {},
   "outputs": [
    {
     "data": {
      "text/plain": [
       "float"
      ]
     },
     "execution_count": 18,
     "metadata": {},
     "output_type": "execute_result"
    }
   ],
   "source": [
    "type(d)"
   ]
  },
  {
   "cell_type": "code",
   "execution_count": 24,
   "metadata": {},
   "outputs": [
    {
     "name": "stdout",
     "output_type": "stream",
     "text": [
      "hola mundo!\n"
     ]
    }
   ],
   "source": [
    "word='hola mundo!'\n",
    "print(word)"
   ]
  },
  {
   "cell_type": "code",
   "execution_count": 25,
   "metadata": {},
   "outputs": [
    {
     "data": {
      "text/plain": [
       "str"
      ]
     },
     "execution_count": 25,
     "metadata": {},
     "output_type": "execute_result"
    }
   ],
   "source": [
    "type(word)"
   ]
  },
  {
   "cell_type": "code",
   "execution_count": 12,
   "metadata": {},
   "outputs": [
    {
     "data": {
      "text/plain": [
       "'1'"
      ]
     },
     "execution_count": 12,
     "metadata": {},
     "output_type": "execute_result"
    }
   ],
   "source": [
    "str(a)"
   ]
  },
  {
   "cell_type": "code",
   "execution_count": 13,
   "metadata": {},
   "outputs": [
    {
     "data": {
      "text/plain": [
       "1.0"
      ]
     },
     "execution_count": 13,
     "metadata": {},
     "output_type": "execute_result"
    }
   ],
   "source": [
    "float(a)"
   ]
  },
  {
   "cell_type": "markdown",
   "metadata": {},
   "source": [
    "##  [Numpy Library](https://numpy.org/devdocs/user/quickstart.html)\n",
    "NumPy is the fundamental package for scientific computing with Python. It contains among other things:\n",
    "\n",
    "* a powerful N-dimensional array object\n",
    "* sophisticated (broadcasting) functions\n",
    "* tools for integrating C/C++ and Fortran code\n",
    "* useful linear algebra, Fourier transform, and random number capabilities\n",
    "* Besides its obvious scientific uses, NumPy can also be used as an efficient multi-dimensional container of generic data. Arbitrary data-types can be defined. This allows NumPy to seamlessly and speedily integrate with a wide variety of databases."
   ]
  },
  {
   "cell_type": "code",
   "execution_count": 2,
   "metadata": {
    "collapsed": true
   },
   "outputs": [],
   "source": [
    "import numpy as np"
   ]
  },
  {
   "cell_type": "markdown",
   "metadata": {},
   "source": [
    "### Arrays"
   ]
  },
  {
   "cell_type": "code",
   "execution_count": 28,
   "metadata": {},
   "outputs": [
    {
     "data": {
      "text/plain": [
       "array([1, 2, 3])"
      ]
     },
     "execution_count": 28,
     "metadata": {},
     "output_type": "execute_result"
    }
   ],
   "source": [
    "x=np.array([1,2,3])\n",
    "x.view()"
   ]
  },
  {
   "cell_type": "code",
   "execution_count": 31,
   "metadata": {},
   "outputs": [
    {
     "data": {
      "text/plain": [
       "array([[ 1,  2,  3],\n",
       "       [ 5,  6,  7],\n",
       "       [ 8,  9, 10]])"
      ]
     },
     "execution_count": 31,
     "metadata": {},
     "output_type": "execute_result"
    }
   ],
   "source": [
    "x=np.array([[1,2,3],[5,6,7],[8,9,10]])\n",
    "x.view()"
   ]
  },
  {
   "cell_type": "code",
   "execution_count": 14,
   "metadata": {},
   "outputs": [
    {
     "data": {
      "text/plain": [
       "array([0, 1, 2, 3, 4, 5, 6, 7, 8])"
      ]
     },
     "execution_count": 14,
     "metadata": {},
     "output_type": "execute_result"
    }
   ],
   "source": [
    "y=np.arange(0,9)\n",
    "y.view()"
   ]
  },
  {
   "cell_type": "code",
   "execution_count": 9,
   "metadata": {},
   "outputs": [
    {
     "data": {
      "text/plain": [
       "array([ 0.,  0.,  0.,  0.,  0.])"
      ]
     },
     "execution_count": 9,
     "metadata": {},
     "output_type": "execute_result"
    }
   ],
   "source": [
    "np.zeros(5)"
   ]
  },
  {
   "cell_type": "code",
   "execution_count": 10,
   "metadata": {},
   "outputs": [
    {
     "data": {
      "text/plain": [
       "array([ 1.,  1.,  1.,  1.,  1.,  1.,  1.,  1.,  1.,  1.])"
      ]
     },
     "execution_count": 10,
     "metadata": {},
     "output_type": "execute_result"
    }
   ],
   "source": [
    "np.ones(10)"
   ]
  },
  {
   "cell_type": "code",
   "execution_count": 13,
   "metadata": {
    "collapsed": true
   },
   "outputs": [
    {
     "data": {
      "text/plain": [
       "array([[1., 0., 0., 0.],\n",
       "       [0., 1., 0., 0.],\n",
       "       [0., 0., 1., 0.],\n",
       "       [0., 0., 0., 1.]])"
      ]
     },
     "execution_count": 13,
     "metadata": {},
     "output_type": "execute_result"
    }
   ],
   "source": [
    "np.eye(4)"
   ]
  },
  {
   "cell_type": "markdown",
   "metadata": {},
   "source": [
    "### Array Attributes"
   ]
  },
  {
   "cell_type": "code",
   "execution_count": 39,
   "metadata": {},
   "outputs": [
    {
     "data": {
      "text/plain": [
       "9"
      ]
     },
     "execution_count": 39,
     "metadata": {},
     "output_type": "execute_result"
    }
   ],
   "source": [
    "y.size"
   ]
  },
  {
   "cell_type": "code",
   "execution_count": 40,
   "metadata": {},
   "outputs": [
    {
     "data": {
      "text/plain": [
       "(9,)"
      ]
     },
     "execution_count": 40,
     "metadata": {},
     "output_type": "execute_result"
    }
   ],
   "source": [
    "y.shape"
   ]
  },
  {
   "cell_type": "code",
   "execution_count": 41,
   "metadata": {},
   "outputs": [
    {
     "data": {
      "text/plain": [
       "array([[0, 1, 2],\n",
       "       [3, 4, 5],\n",
       "       [6, 7, 8]])"
      ]
     },
     "execution_count": 41,
     "metadata": {},
     "output_type": "execute_result"
    }
   ],
   "source": [
    "y.reshape((3,3))"
   ]
  },
  {
   "cell_type": "code",
   "execution_count": 43,
   "metadata": {},
   "outputs": [
    {
     "data": {
      "text/plain": [
       "array([[0, 1, 2],\n",
       "       [3, 4, 5],\n",
       "       [6, 7, 8]])"
      ]
     },
     "execution_count": 43,
     "metadata": {},
     "output_type": "execute_result"
    }
   ],
   "source": [
    "y = np.arange(0,9).reshape((3,3))\n",
    "y.view()"
   ]
  },
  {
   "cell_type": "markdown",
   "metadata": {},
   "source": [
    "### Array Operations"
   ]
  },
  {
   "cell_type": "code",
   "execution_count": 44,
   "metadata": {},
   "outputs": [
    {
     "data": {
      "text/plain": [
       "array([[ 1,  3,  5],\n",
       "       [ 8, 10, 12],\n",
       "       [14, 16, 18]])"
      ]
     },
     "execution_count": 44,
     "metadata": {},
     "output_type": "execute_result"
    }
   ],
   "source": [
    "x+y"
   ]
  },
  {
   "cell_type": "code",
   "execution_count": 47,
   "metadata": {},
   "outputs": [
    {
     "data": {
      "text/plain": [
       "array([[0.        , 0.5       , 0.66666667],\n",
       "       [0.6       , 0.66666667, 0.71428571],\n",
       "       [0.75      , 0.77777778, 0.8       ]])"
      ]
     },
     "execution_count": 47,
     "metadata": {},
     "output_type": "execute_result"
    }
   ],
   "source": [
    "y/x"
   ]
  },
  {
   "cell_type": "code",
   "execution_count": 48,
   "metadata": {},
   "outputs": [
    {
     "data": {
      "text/plain": [
       "array([[ 24,  30,  36],\n",
       "       [ 60,  78,  96],\n",
       "       [ 87, 114, 141]])"
      ]
     },
     "execution_count": 48,
     "metadata": {},
     "output_type": "execute_result"
    }
   ],
   "source": [
    "np.matmul(x,y)"
   ]
  },
  {
   "cell_type": "markdown",
   "metadata": {},
   "source": [
    "# Numpy Functions"
   ]
  },
  {
   "cell_type": "code",
   "execution_count": 2,
   "metadata": {},
   "outputs": [
    {
     "data": {
      "text/plain": [
       "0.0"
      ]
     },
     "execution_count": 2,
     "metadata": {},
     "output_type": "execute_result"
    }
   ],
   "source": [
    "np.sin(0)"
   ]
  },
  {
   "cell_type": "code",
   "execution_count": 3,
   "metadata": {},
   "outputs": [
    {
     "data": {
      "text/plain": [
       "1.0"
      ]
     },
     "execution_count": 3,
     "metadata": {},
     "output_type": "execute_result"
    }
   ],
   "source": [
    "np.cos(0)"
   ]
  },
  {
   "cell_type": "code",
   "execution_count": 4,
   "metadata": {},
   "outputs": [
    {
     "data": {
      "text/plain": [
       "1.0"
      ]
     },
     "execution_count": 4,
     "metadata": {},
     "output_type": "execute_result"
    }
   ],
   "source": [
    "np.exp(0)"
   ]
  },
  {
   "cell_type": "code",
   "execution_count": 5,
   "metadata": {},
   "outputs": [
    {
     "data": {
      "text/plain": [
       "array([  0.        ,   0.34482759,   0.68965517,   1.03448276,\n",
       "         1.37931034,   1.72413793,   2.06896552,   2.4137931 ,\n",
       "         2.75862069,   3.10344828,   3.44827586,   3.79310345,\n",
       "         4.13793103,   4.48275862,   4.82758621,   5.17241379,\n",
       "         5.51724138,   5.86206897,   6.20689655,   6.55172414,\n",
       "         6.89655172,   7.24137931,   7.5862069 ,   7.93103448,\n",
       "         8.27586207,   8.62068966,   8.96551724,   9.31034483,\n",
       "         9.65517241,  10.        ])"
      ]
     },
     "execution_count": 5,
     "metadata": {},
     "output_type": "execute_result"
    }
   ],
   "source": [
    "np.linspace(0,10,30)"
   ]
  },
  {
   "cell_type": "code",
   "execution_count": 8,
   "metadata": {},
   "outputs": [
    {
     "data": {
      "text/plain": [
       "array([  0.00000000e+00,   1.27877162e-01,   2.53654584e-01,\n",
       "         3.75267005e-01,   4.90717552e-01,   5.98110530e-01,\n",
       "         6.95682551e-01,   7.81831482e-01,   8.55142763e-01,\n",
       "         9.14412623e-01,   9.58667853e-01,   9.87181783e-01,\n",
       "         9.99486216e-01,   9.95379113e-01,   9.74927912e-01,\n",
       "         9.38468422e-01,   8.86599306e-01,   8.20172255e-01,\n",
       "         7.40277997e-01,   6.48228395e-01,   5.45534901e-01,\n",
       "         4.33883739e-01,   3.15108218e-01,   1.91158629e-01,\n",
       "         6.40702200e-02,  -6.40702200e-02,  -1.91158629e-01,\n",
       "        -3.15108218e-01,  -4.33883739e-01,  -5.45534901e-01,\n",
       "        -6.48228395e-01,  -7.40277997e-01,  -8.20172255e-01,\n",
       "        -8.86599306e-01,  -9.38468422e-01,  -9.74927912e-01,\n",
       "        -9.95379113e-01,  -9.99486216e-01,  -9.87181783e-01,\n",
       "        -9.58667853e-01,  -9.14412623e-01,  -8.55142763e-01,\n",
       "        -7.81831482e-01,  -6.95682551e-01,  -5.98110530e-01,\n",
       "        -4.90717552e-01,  -3.75267005e-01,  -2.53654584e-01,\n",
       "        -1.27877162e-01,  -2.44929360e-16])"
      ]
     },
     "execution_count": 8,
     "metadata": {},
     "output_type": "execute_result"
    }
   ],
   "source": [
    "np.sin(np.linspace(0,2*np.pi,50))"
   ]
  },
  {
   "cell_type": "markdown",
   "metadata": {},
   "source": [
    "### Numpy.linalg"
   ]
  },
  {
   "cell_type": "code",
   "execution_count": 50,
   "metadata": {},
   "outputs": [
    {
     "data": {
      "text/plain": [
       "array([[-1.0293942e+16,  2.4019198e+16, -1.3725256e+16],\n",
       "       [ 2.0587884e+16, -4.8038396e+16,  2.7450512e+16],\n",
       "       [-1.0293942e+16,  2.4019198e+16, -1.3725256e+16]])"
      ]
     },
     "execution_count": 50,
     "metadata": {},
     "output_type": "execute_result"
    }
   ],
   "source": [
    "np.linalg.inv(x)"
   ]
  },
  {
   "cell_type": "code",
   "execution_count": 52,
   "metadata": {},
   "outputs": [
    {
     "data": {
      "text/plain": [
       "2.914335439641041e-16"
      ]
     },
     "execution_count": 52,
     "metadata": {},
     "output_type": "execute_result"
    }
   ],
   "source": [
    "np.linalg.det(x)"
   ]
  },
  {
   "cell_type": "markdown",
   "metadata": {},
   "source": [
    "## Linear Algebra with Numpy"
   ]
  },
  {
   "cell_type": "markdown",
   "metadata": {},
   "source": [
    "## linalg.det\n",
    "\n",
    "The linalg.det tool computes the determinant of an array."
   ]
  },
  {
   "cell_type": "code",
   "execution_count": null,
   "metadata": {},
   "outputs": [],
   "source": [
    "np.linalg.det([[1 , 2], [2, 1]])       #Output : -3.0"
   ]
  },
  {
   "cell_type": "markdown",
   "metadata": {},
   "source": [
    "## linalg.eig\n",
    "\n",
    "The linalg.eig computes the eigenvalues and right eigenvectors of a square array."
   ]
  },
  {
   "cell_type": "code",
   "execution_count": null,
   "metadata": {},
   "outputs": [],
   "source": [
    "vals, vecs = np.linalg.eig([[1 , 2], [2, 1]])\n",
    "print(vals)                                      #Output : [ 3. -1.]\n",
    "print(vecs)                                      #Output : [[ 0.70710678 -0.70710678]\n",
    "                                                #          [ 0.70710678  0.70710678]]"
   ]
  },
  {
   "cell_type": "markdown",
   "metadata": {},
   "source": [
    "## linalg.inv\n",
    "\n",
    "The linalg.inv tool computes the (multiplicative) inverse of a matrix."
   ]
  },
  {
   "cell_type": "code",
   "execution_count": 1,
   "metadata": {},
   "outputs": [
    {
     "ename": "NameError",
     "evalue": "name 'np' is not defined",
     "output_type": "error",
     "traceback": [
      "\u001b[0;31m---------------------------------------------------------------------------\u001b[0m",
      "\u001b[0;31mNameError\u001b[0m                                 Traceback (most recent call last)",
      "\u001b[0;32m<ipython-input-1-64801093b544>\u001b[0m in \u001b[0;36m<module>\u001b[0;34m\u001b[0m\n\u001b[0;32m----> 1\u001b[0;31m \u001b[0mnp\u001b[0m\u001b[0;34m.\u001b[0m\u001b[0mlinalg\u001b[0m\u001b[0;34m.\u001b[0m\u001b[0minv\u001b[0m\u001b[0;34m(\u001b[0m\u001b[0;34m[\u001b[0m\u001b[0;34m[\u001b[0m\u001b[0;36m1\u001b[0m \u001b[0;34m,\u001b[0m \u001b[0;36m2\u001b[0m\u001b[0;34m]\u001b[0m\u001b[0;34m,\u001b[0m \u001b[0;34m[\u001b[0m\u001b[0;36m2\u001b[0m\u001b[0;34m,\u001b[0m \u001b[0;36m1\u001b[0m\u001b[0;34m]\u001b[0m\u001b[0;34m]\u001b[0m\u001b[0;34m)\u001b[0m       \u001b[0;31m#Output : [[-0.33333333  0.66666667]\u001b[0m\u001b[0;34m\u001b[0m\u001b[0;34m\u001b[0m\u001b[0m\n\u001b[0m\u001b[1;32m      2\u001b[0m                                                 \u001b[0;31m#          [ 0.66666667 -0.33333333]]\u001b[0m\u001b[0;34m\u001b[0m\u001b[0;34m\u001b[0m\u001b[0;34m\u001b[0m\u001b[0m\n",
      "\u001b[0;31mNameError\u001b[0m: name 'np' is not defined"
     ]
    }
   ],
   "source": [
    "np.linalg.inv([[1 , 2], [2, 1]])       #Output : [[-0.33333333  0.66666667]\n",
    "                                                #          [ 0.66666667 -0.33333333]]"
   ]
  },
  {
   "cell_type": "code",
   "execution_count": null,
   "metadata": {
    "collapsed": true
   },
   "outputs": [],
   "source": [
    "np.linalg.solve()"
   ]
  },
  {
   "cell_type": "markdown",
   "metadata": {},
   "source": [
    "## Task:\n",
    "Solve the following operations: $\\mathbf{A+B}$, $\\mathbf{A-B}$, $\\mathbf{AB}$, $\\mathbf{A(BC)}$, $\\mathbf{(AB)C}$, \n",
    "\n",
    "$$\n",
    "A=\n",
    "\\begin{pmatrix}\n",
    "0 & 1 & -2 \\\\\n",
    "3 & 4 & 5 \\\\\n",
    "-6 & 7 & 15 \n",
    "\\end{pmatrix}\n",
    "\\quad, B=\n",
    "\\begin{pmatrix}\n",
    "0 & -5 & 3 \\\\\n",
    "5 & 2 & -1 \\\\\n",
    "-4 & 2 & 0 \n",
    "\\end{pmatrix}\n",
    "\\quad, C=\n",
    "\\begin{pmatrix}\n",
    "6 & -2 & -3 \\\\\n",
    "2 & 0 & 1 \\\\\n",
    "0 & 5 & 7 \n",
    "\\end{pmatrix}\n",
    "$$\n",
    "\n",
    "\n"
   ]
  },
  {
   "cell_type": "markdown",
   "metadata": {},
   "source": [
    "## Task:\n",
    "\n",
    "Solve the following equation systems\n",
    "\\begin{align}\n",
    "2 x_1 - 5 x_2 & = 3 \\\\\n",
    "5 x_1 + 8 x_2 & = 5 \n",
    "\\end{align}\n",
    "\n",
    "Solve the following equation systems\n",
    "\\begin{align}\n",
    "2 x_1 + 2 x_2 - x_3 =  2 \\\\\n",
    "  x_1 - 3 x_2 + x_3 = 0 \\\\\n",
    "3 x_1 + 4 x_2 - x_3 = 1\n",
    "\\end{align}\n"
   ]
  },
  {
   "cell_type": "code",
   "execution_count": 9,
   "metadata": {},
   "outputs": [
    {
     "data": {
      "text/plain": [
       "array([[ 2,  2, -1],\n",
       "       [ 1, -3,  1],\n",
       "       [ 3,  4, -1]])"
      ]
     },
     "execution_count": 9,
     "metadata": {},
     "output_type": "execute_result"
    }
   ],
   "source": [
    "#A = np.array([[0, 1, -2],[3, 4, 5],[-6, 7, 15]])\n",
    "A = np.array([[2, 2,-1],[1,-3,1],[3,4,-1]])\n",
    "b = np.array([2,0,1])\n",
    "A.view()"
   ]
  },
  {
   "cell_type": "code",
   "execution_count": 6,
   "metadata": {},
   "outputs": [
    {
     "data": {
      "text/plain": [
       "-164.99999999999994"
      ]
     },
     "execution_count": 6,
     "metadata": {},
     "output_type": "execute_result"
    }
   ],
   "source": [
    "np.linalg.det(A)"
   ]
  },
  {
   "cell_type": "code",
   "execution_count": 11,
   "metadata": {},
   "outputs": [],
   "source": [
    "x=np.linalg.solve(A,b)"
   ]
  },
  {
   "cell_type": "code",
   "execution_count": 12,
   "metadata": {},
   "outputs": [
    {
     "data": {
      "text/plain": [
       "array([ 0.42857143, -0.71428571, -2.57142857])"
      ]
     },
     "execution_count": 12,
     "metadata": {},
     "output_type": "execute_result"
    }
   ],
   "source": [
    "x.view()"
   ]
  },
  {
   "cell_type": "markdown",
   "metadata": {},
   "source": []
  }
 ],
 "metadata": {
  "kernelspec": {
   "display_name": "Python 3",
   "language": "python",
   "name": "python3"
  },
  "language_info": {
   "codemirror_mode": {
    "name": "ipython",
    "version": 3
   },
   "file_extension": ".py",
   "mimetype": "text/x-python",
   "name": "python",
   "nbconvert_exporter": "python",
   "pygments_lexer": "ipython3",
   "version": "3.7.1"
  }
 },
 "nbformat": 4,
 "nbformat_minor": 2
}
