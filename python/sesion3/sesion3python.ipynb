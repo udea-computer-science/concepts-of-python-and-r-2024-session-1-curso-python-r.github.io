{
 "cells": [
  {
   "cell_type": "markdown",
   "metadata": {},
   "source": [
    "# SESION 3"
   ]
  },
  {
   "cell_type": "code",
   "execution_count": 1,
   "metadata": {
    "collapsed": true
   },
   "outputs": [],
   "source": [
    "import numpy as np\n",
    "import matplotlib.pyplot as plt"
   ]
  },
  {
   "cell_type": "markdown",
   "metadata": {},
   "source": [
    "##  OPERADORES LOGICOS\n",
    "\n",
    "* Mayor que: >\n",
    "* Mayor igual que: >=\n",
    "* Igual: ==\n",
    "* Menor que: <\n",
    "* Menor igual que: <=\n",
    "* y: and, &\n",
    "* o: or, "
   ]
  },
  {
   "cell_type": "markdown",
   "metadata": {},
   "source": [
    "## CONDICIONALES:\n",
    "\n",
    "```python\n",
    "if 'condicion':\n",
    "    statement\n",
    "\n",
    "if 'condition':\n",
    "    statement\n",
    "else:\n",
    "    statement\n",
    "    \n",
    "    \n",
    "if 'condition':\n",
    "    statement\n",
    "    \n",
    "elif:\n",
    "    statement\n",
    "    \n",
    "else:\n",
    "    statement\n",
    "    \n",
    "\n",
    "```"
   ]
  },
  {
   "cell_type": "markdown",
   "metadata": {},
   "source": [
    "##  Ejemplo:"
   ]
  },
  {
   "cell_type": "code",
   "execution_count": 38,
   "metadata": {},
   "outputs": [
    {
     "name": "stdout",
     "output_type": "stream",
     "text": [
      "Login: user\n",
      "password: 123\n",
      "\n",
      "wrong password or username!\n"
     ]
    }
   ],
   "source": [
    "## USER AND PASSWORD\n",
    "\n",
    "log=\"login\"\n",
    "psswd=12345\n",
    "\n",
    "input_log = raw_input(\"Login: \")\n",
    "input_psswd = input(\"password: \")\n",
    "\n",
    "if (log == input_log) & (psswd==input_psswd):\n",
    "    print('\\naccess granted!')\n",
    "else:\n",
    "    print('\\nwrong password or username!')\n"
   ]
  },
  {
   "cell_type": "markdown",
   "metadata": {},
   "source": [
    "## CICLOS\n",
    "\n",
    "```python\n",
    "for 'variable' in 'list or array':\n",
    "    statement;\n",
    "\n",
    "\n",
    "while 'condition':\n",
    "    statement;\n",
    "    \n",
    "while 'condition':\n",
    "    statement;\n",
    "    break\n",
    "    statement;\n",
    "    continue\n",
    "\n",
    "```"
   ]
  },
  {
   "cell_type": "markdown",
   "metadata": {},
   "source": [
    "### Ejemplo:"
   ]
  },
  {
   "cell_type": "code",
   "execution_count": 2,
   "metadata": {},
   "outputs": [
    {
     "name": "stdout",
     "output_type": "stream",
     "text": [
      "0\n",
      "1\n",
      "3\n",
      "6\n",
      "10\n",
      "15\n",
      "21\n",
      "28\n"
     ]
    }
   ],
   "source": [
    "sum = 0\n",
    "for i in range(8):\n",
    "    sum = sum + i\n",
    "    print(sum)"
   ]
  },
  {
   "cell_type": "code",
   "execution_count": 18,
   "metadata": {
    "scrolled": true
   },
   "outputs": [
    {
     "name": "stdout",
     "output_type": "stream",
     "text": [
      "hola 0\n",
      "hola 1\n",
      "hola 2\n",
      "hola 3\n",
      "hola 4\n",
      "hola 5\n",
      "hola 6\n",
      "hola 7\n",
      "hola 8\n",
      "hola 9\n",
      "hola 10\n",
      "hola 11\n",
      "hola 12\n",
      "hola 13\n",
      "hola 14\n",
      "hola 15\n",
      "hola 16\n",
      "hola 17\n",
      "hola 18\n",
      "hola 19\n",
      "hola 20\n",
      "hola 21\n",
      "hola 22\n",
      "hola 23\n",
      "hola 24\n",
      "hola 25\n",
      "hola 26\n",
      "hola 27\n",
      "hola 28\n",
      "hola 29\n",
      "hola 30\n",
      "hola 31\n",
      "hola 32\n",
      "hola 33\n",
      "hola 34\n",
      "hola 35\n",
      "hola 36\n",
      "hola 37\n",
      "hola 38\n",
      "hola 39\n",
      "hola 40\n",
      "hola 41\n",
      "hola 42\n",
      "hola 43\n",
      "hola 44\n",
      "hola 45\n",
      "hola 46\n",
      "hola 47\n",
      "hola 48\n",
      "hola 49\n",
      "hola 50\n",
      "hola 51\n",
      "hola 52\n",
      "hola 53\n",
      "hola 54\n",
      "hola 55\n",
      "hola 56\n",
      "hola 57\n",
      "hola 58\n",
      "hola 59\n",
      "hola 60\n",
      "hola 61\n",
      "hola 62\n",
      "hola 63\n",
      "hola 64\n",
      "hola 65\n",
      "hola 66\n",
      "hola 67\n",
      "hola 68\n",
      "hola 69\n",
      "hola 70\n",
      "hola 71\n",
      "hola 72\n",
      "hola 73\n",
      "hola 74\n",
      "hola 75\n",
      "hola 76\n",
      "hola 77\n",
      "hola 78\n",
      "hola 79\n",
      "hola 80\n",
      "hola 81\n",
      "hola 82\n",
      "hola 83\n",
      "hola 84\n",
      "hola 85\n",
      "hola 86\n",
      "hola 87\n",
      "hola 88\n",
      "hola 89\n",
      "hola 90\n",
      "hola 91\n",
      "hola 92\n",
      "hola 93\n",
      "hola 94\n",
      "hola 95\n",
      "hola 96\n",
      "hola 97\n",
      "hola 98\n",
      "hola 99\n"
     ]
    }
   ],
   "source": [
    "for i in range(100):\n",
    "    print('hola '+str(i))"
   ]
  },
  {
   "cell_type": "code",
   "execution_count": 26,
   "metadata": {},
   "outputs": [
    {
     "name": "stdout",
     "output_type": "stream",
     "text": [
      "[[0.41177942 0.76616697 0.02114611 0.9238797  0.7456346 ]\n",
      " [0.57257074 0.36914177 0.74493035 0.75516412 0.47740324]\n",
      " [0.6010903  0.82103019 0.80169053 0.18381342 0.42746362]\n",
      " [0.2108293  0.46588895 0.48389307 0.28273228 0.20359842]\n",
      " [0.308563   0.89958165 0.01599051 0.81765653 0.76312874]]\n",
      "\n",
      "0.41177941977894983\n",
      "0.36914177019607963\n",
      "0.801690525452275\n",
      "0.2827322800655172\n",
      "0.7631287356656551\n"
     ]
    }
   ],
   "source": [
    "data = np.random.rand(25).reshape((5,5))\n",
    "print(data)\n",
    "\n",
    "print()\n",
    "\n",
    "for i in range(5):\n",
    "    print(data[i,i])"
   ]
  },
  {
   "cell_type": "markdown",
   "metadata": {},
   "source": [
    "### CICLO WHILE"
   ]
  },
  {
   "cell_type": "code",
   "execution_count": 15,
   "metadata": {},
   "outputs": [
    {
     "name": "stdout",
     "output_type": "stream",
     "text": [
      "0\n",
      "1\n",
      "2\n",
      "3\n",
      "4\n",
      "5\n",
      "6\n",
      "7\n",
      "8\n",
      "9\n"
     ]
    }
   ],
   "source": [
    "i=0\n",
    "while i<10:\n",
    "    print(i)\n",
    "    i += 1"
   ]
  },
  {
   "cell_type": "markdown",
   "metadata": {},
   "source": [
    "## Ejemplo:\n",
    "* Converge la serie?"
   ]
  },
  {
   "cell_type": "code",
   "execution_count": 48,
   "metadata": {
    "collapsed": true
   },
   "outputs": [],
   "source": [
    "def sum1(n):\n",
    "    sum=0\n",
    "    for i in range(1,n):\n",
    "        sum += 1./(3.*i - 2.)**(i + 0.5)\n",
    "    return sum\n",
    "        "
   ]
  },
  {
   "cell_type": "code",
   "execution_count": 51,
   "metadata": {},
   "outputs": [
    {
     "data": {
      "text/plain": [
       "1.032384322161901"
      ]
     },
     "execution_count": 51,
     "metadata": {},
     "output_type": "execute_result"
    }
   ],
   "source": [
    "sum1(100)"
   ]
  },
  {
   "cell_type": "markdown",
   "metadata": {},
   "source": [
    "## Ejercicio:\n",
    "Compruebe la convergencia de las siguientes series:\n",
    "\n",
    "$$\n",
    "\\sum^\\infty_{n=1} (-1)^n \\tanh n\n",
    "$$\n",
    "\n",
    "\n",
    "$$\n",
    "\\sum^\\infty_{n=1} \\frac{(\\tan^{-1} n)^2}{n^2+1}\n",
    "$$\n",
    "\n",
    "$$\n",
    "\\sum^\\infty_{n=2} \\frac{\\log_n (n!)}{n^3}\n",
    "$$"
   ]
  },
  {
   "cell_type": "markdown",
   "metadata": {},
   "source": [
    "## Ejercicio:\n",
    "Demuestre numericamente que:\n",
    "$$\n",
    "\\sum^\\infty_{n=1} \\frac{n(n+1)}{x^n} = \\frac{2x^2}{(1-x)^3}\n",
    "$$"
   ]
  },
  {
   "cell_type": "markdown",
   "metadata": {},
   "source": [
    "### Ejemplo:  Random Walk:\n",
    "A random walk is a mathematical object, known as a stochastic or random process, that describes a path that consists of a succession of random steps on some mathematical space such as the integers. An elementary example of a random walk is the random walk on the integer number line,  $\\mathbb{Z}$￼, which starts at 0 and at each step moves +1 or −1 with equal probability."
   ]
  },
  {
   "cell_type": "code",
   "execution_count": 2,
   "metadata": {},
   "outputs": [
    {
     "data": {
      "image/png": "[encoded data removed]",
      "text/plain": [
       "<Figure size 432x288 with 1 Axes>"
      ]
     },
     "metadata": {
      "needs_background": "light"
     },
     "output_type": "display_data"
    }
   ],
   "source": [
    "nsize=1000\n",
    "x = np.zeros(nsize)\n",
    "y = np.zeros(nsize)\n",
    "\n",
    "for i in range(1,nsize):\n",
    "    x[i] = i\n",
    "    prob = np.random.rand()\n",
    "    if prob<=0.5:\n",
    "        y[i] = y[i-1] -1.\n",
    "    else:\n",
    "        y[i] = y[i-1] + 1.\n",
    "        \n",
    "plt.figure()\n",
    "plt.plot(x,y)\n",
    "plt.show()"
   ]
  },
  {
   "cell_type": "markdown",
   "metadata": {},
   "source": [
    "## Ejemplo: Conjunto de Mandelbrot"
   ]
  },
  {
   "cell_type": "code",
   "execution_count": 64,
   "metadata": {},
   "outputs": [
    {
     "data": {
      "image/png": "[encoded data removed]",
      "text/plain": [
       "<matplotlib.figure.Figure at 0x7f88a3df7250>"
      ]
     },
     "metadata": {},
     "output_type": "display_data"
    }
   ],
   "source": [
    "from pylab import *\n",
    "from numpy import NaN\n",
    " \n",
    "def m(a):\n",
    "    z = 0\n",
    "    for n in range(1, 100):\n",
    "        z = z**2 + a\n",
    "        if abs(z) > 2:\n",
    "            return n\n",
    "    return NaN\n",
    " \n",
    "X = arange(-2, .5, .002)\n",
    "Y = arange(-1,  1, .002)\n",
    "Z = zeros((len(Y), len(X)))\n",
    " \n",
    "for iy, y in enumerate(Y):\n",
    "    for ix, x in enumerate(X):\n",
    "        Z[iy,ix] = m(x + 1j * y)\n",
    "figure(figsize=(8,8))\n",
    "imshow(Z, cmap = plt.cm.prism, interpolation = 'none', extent = (X.min(), X.max(), Y.min(), Y.max()))\n",
    "xlabel(\"Re(c)\")\n",
    "ylabel(\"Im(c)\")\n",
    "colorbar()\n",
    "savefig(\"mandelbrot_python.svg\")\n",
    "show()"
   ]
  },
  {
   "cell_type": "markdown",
   "metadata": {},
   "source": [
    "## Write Files: Numpy"
   ]
  },
  {
   "cell_type": "code",
   "execution_count": 4,
   "metadata": {},
   "outputs": [
    {
     "name": "stdout",
     "output_type": "stream",
     "text": [
      "(1000, 2)\n"
     ]
    }
   ],
   "source": [
    "x = x.reshape((len(x),1))\n",
    "y = y.reshape((len(y),1))\n",
    "\n",
    "\n",
    "data = np.concatenate((x,y),axis=1)\n",
    "print(data.shape)\n",
    "\n",
    "np.savetxt('random-walk.tsv',data)"
   ]
  },
  {
   "cell_type": "markdown",
   "metadata": {},
   "source": [
    "## [Libreria OS ](https://docs.python.org/3/library/os.html)\n",
    "This module provides a portable way of using operating system dependent functionality. If you just want to read or write a file see open(), if you want to manipulate paths, see the os.path module, and if you want to read all the lines in all the files on the command line see the fileinput module. For creating temporary files and directories see the tempfile module, and for high-level file and directory handling see the shutil module."
   ]
  },
  {
   "cell_type": "code",
   "execution_count": null,
   "metadata": {},
   "outputs": [],
   "source": [
    "## comandos del os\n",
    "os.getcwd()"
   ]
  },
  {
   "cell_type": "code",
   "execution_count": null,
   "metadata": {},
   "outputs": [],
   "source": [
    "\n",
    "os.listdir('.')"
   ]
  },
  {
   "cell_type": "code",
   "execution_count": null,
   "metadata": {},
   "outputs": [],
   "source": [
    "os.fchdir(\"path\")"
   ]
  },
  {
   "cell_type": "code",
   "execution_count": null,
   "metadata": {},
   "outputs": [],
   "source": [
    "os.mkdir(\"path\")"
   ]
  },
  {
   "cell_type": "markdown",
   "metadata": {},
   "source": [
    "## Read Files: "
   ]
  },
  {
   "cell_type": "code",
   "execution_count": null,
   "metadata": {},
   "outputs": [],
   "source": [
    "# Creamos un archivo de texto con dos columnas y varias lineas\n",
    "\n",
    "file = open('datafile.txt','r')\n",
    "\n",
    "count=0\n",
    "for lines in file:\n",
    "    strings = lines.split(\" \")\n",
    "    print(strings[0]+' '+strings[1])\n",
    "    count+=1\n",
    "    \n",
    "print('total lines: '+str(count))"
   ]
  },
  {
   "cell_type": "markdown",
   "metadata": {},
   "source": [
    "## Read Files: Numpy"
   ]
  },
  {
   "cell_type": "code",
   "execution_count": 19,
   "metadata": {},
   "outputs": [],
   "source": [
    "newdata = np.loadtxt('random-walk.tsv')"
   ]
  },
  {
   "cell_type": "code",
   "execution_count": null,
   "metadata": {},
   "outputs": [],
   "source": [
    "x1, x2 = np.loadtxt('random-walk.tsv', usecols=(0,1),unpack=True, delimiter=' ')\n",
    "\n",
    "\n",
    "plt.figure()\n",
    "plt.plot(x1,x2)\n",
    "plt.show()"
   ]
  },
  {
   "cell_type": "markdown",
   "metadata": {},
   "source": [
    "# [Libreria Pandas](https://pandas.pydata.org/)\n",
    "pandas aims to be the fundamental high-level building block for doing practical, real world data analysis in Python. Additionally, it has the broader goal of becoming the most powerful and flexible open source data analysis / manipulation tool available in any language.\n",
    "## READ DATAFILE WITH PANDAS"
   ]
  },
  {
   "cell_type": "code",
   "execution_count": 6,
   "metadata": {},
   "outputs": [],
   "source": [
    "# CREE UN ARCHIVO DE DATOS FORMADO POR COLUMNAS DE DIFERENTES TIPOS DE VARIABLES, STRINGS, INT, FLOATS\n",
    "import pandas as pd\n",
    "df = pd.read_csv('datafile2.txt',header=0,sep=\" \")"
   ]
  },
  {
   "cell_type": "code",
   "execution_count": 7,
   "metadata": {},
   "outputs": [
    {
     "data": {
      "text/html": [
       "<div>\n",
       "<style scoped>\n",
       "    .dataframe tbody tr th:only-of-type {\n",
       "        vertical-align: middle;\n",
       "    }\n",
       "\n",
       "    .dataframe tbody tr th {\n",
       "        vertical-align: top;\n",
       "    }\n",
       "\n",
       "    .dataframe thead th {\n",
       "        text-align: right;\n",
       "    }\n",
       "</style>\n",
       "<table border=\"1\" class=\"dataframe\">\n",
       "  <thead>\n",
       "    <tr style=\"text-align: right;\">\n",
       "      <th></th>\n",
       "      <th>#1.nombre</th>\n",
       "      <th>#2.apellido</th>\n",
       "      <th>#3.cc</th>\n",
       "      <th>#4.edad</th>\n",
       "      <th>#5.hijos</th>\n",
       "      <th>#6.estado</th>\n",
       "    </tr>\n",
       "  </thead>\n",
       "  <tbody>\n",
       "    <tr>\n",
       "      <th>0</th>\n",
       "      <td>juan</td>\n",
       "      <td>perez</td>\n",
       "      <td>12345</td>\n",
       "      <td>20</td>\n",
       "      <td>0</td>\n",
       "      <td>soltero</td>\n",
       "    </tr>\n",
       "    <tr>\n",
       "      <th>1</th>\n",
       "      <td>sandra</td>\n",
       "      <td>henao</td>\n",
       "      <td>5642</td>\n",
       "      <td>25</td>\n",
       "      <td>1</td>\n",
       "      <td>casada</td>\n",
       "    </tr>\n",
       "  </tbody>\n",
       "</table>\n",
       "</div>"
      ],
      "text/plain": [
       "  #1.nombre #2.apellido  #3.cc  #4.edad  #5.hijos #6.estado\n",
       "0      juan       perez  12345       20         0   soltero\n",
       "1    sandra       henao   5642       25         1    casada"
      ]
     },
     "execution_count": 7,
     "metadata": {},
     "output_type": "execute_result"
    }
   ],
   "source": [
    "df"
   ]
  },
  {
   "cell_type": "code",
   "execution_count": 8,
   "metadata": {},
   "outputs": [
    {
     "data": {
      "text/plain": [
       "0      juan\n",
       "1    sandra\n",
       "Name: #1.nombre, dtype: object"
      ]
     },
     "execution_count": 8,
     "metadata": {},
     "output_type": "execute_result"
    }
   ],
   "source": [
    "df.iloc[:,0]"
   ]
  },
  {
   "cell_type": "code",
   "execution_count": 9,
   "metadata": {},
   "outputs": [
    {
     "data": {
      "text/html": [
       "<div>\n",
       "<style scoped>\n",
       "    .dataframe tbody tr th:only-of-type {\n",
       "        vertical-align: middle;\n",
       "    }\n",
       "\n",
       "    .dataframe tbody tr th {\n",
       "        vertical-align: top;\n",
       "    }\n",
       "\n",
       "    .dataframe thead th {\n",
       "        text-align: right;\n",
       "    }\n",
       "</style>\n",
       "<table border=\"1\" class=\"dataframe\">\n",
       "  <thead>\n",
       "    <tr style=\"text-align: right;\">\n",
       "      <th></th>\n",
       "      <th>#3.cc</th>\n",
       "      <th>#4.edad</th>\n",
       "      <th>#5.hijos</th>\n",
       "    </tr>\n",
       "  </thead>\n",
       "  <tbody>\n",
       "    <tr>\n",
       "      <th>count</th>\n",
       "      <td>2.000000</td>\n",
       "      <td>2.000000</td>\n",
       "      <td>2.000000</td>\n",
       "    </tr>\n",
       "    <tr>\n",
       "      <th>mean</th>\n",
       "      <td>8993.500000</td>\n",
       "      <td>22.500000</td>\n",
       "      <td>0.500000</td>\n",
       "    </tr>\n",
       "    <tr>\n",
       "      <th>std</th>\n",
       "      <td>4739.736754</td>\n",
       "      <td>3.535534</td>\n",
       "      <td>0.707107</td>\n",
       "    </tr>\n",
       "    <tr>\n",
       "      <th>min</th>\n",
       "      <td>5642.000000</td>\n",
       "      <td>20.000000</td>\n",
       "      <td>0.000000</td>\n",
       "    </tr>\n",
       "    <tr>\n",
       "      <th>25%</th>\n",
       "      <td>7317.750000</td>\n",
       "      <td>21.250000</td>\n",
       "      <td>0.250000</td>\n",
       "    </tr>\n",
       "    <tr>\n",
       "      <th>50%</th>\n",
       "      <td>8993.500000</td>\n",
       "      <td>22.500000</td>\n",
       "      <td>0.500000</td>\n",
       "    </tr>\n",
       "    <tr>\n",
       "      <th>75%</th>\n",
       "      <td>10669.250000</td>\n",
       "      <td>23.750000</td>\n",
       "      <td>0.750000</td>\n",
       "    </tr>\n",
       "    <tr>\n",
       "      <th>max</th>\n",
       "      <td>12345.000000</td>\n",
       "      <td>25.000000</td>\n",
       "      <td>1.000000</td>\n",
       "    </tr>\n",
       "  </tbody>\n",
       "</table>\n",
       "</div>"
      ],
      "text/plain": [
       "              #3.cc    #4.edad  #5.hijos\n",
       "count      2.000000   2.000000  2.000000\n",
       "mean    8993.500000  22.500000  0.500000\n",
       "std     4739.736754   3.535534  0.707107\n",
       "min     5642.000000  20.000000  0.000000\n",
       "25%     7317.750000  21.250000  0.250000\n",
       "50%     8993.500000  22.500000  0.500000\n",
       "75%    10669.250000  23.750000  0.750000\n",
       "max    12345.000000  25.000000  1.000000"
      ]
     },
     "execution_count": 9,
     "metadata": {},
     "output_type": "execute_result"
    }
   ],
   "source": [
    "df.describe()"
   ]
  },
  {
   "cell_type": "code",
   "execution_count": 18,
   "metadata": {},
   "outputs": [
    {
     "data": {
      "text/html": [
       "<div>\n",
       "<style scoped>\n",
       "    .dataframe tbody tr th:only-of-type {\n",
       "        vertical-align: middle;\n",
       "    }\n",
       "\n",
       "    .dataframe tbody tr th {\n",
       "        vertical-align: top;\n",
       "    }\n",
       "\n",
       "    .dataframe thead th {\n",
       "        text-align: right;\n",
       "    }\n",
       "</style>\n",
       "<table border=\"1\" class=\"dataframe\">\n",
       "  <thead>\n",
       "    <tr style=\"text-align: right;\">\n",
       "      <th></th>\n",
       "      <th>lista</th>\n",
       "    </tr>\n",
       "  </thead>\n",
       "  <tbody>\n",
       "    <tr>\n",
       "      <th>0</th>\n",
       "      <td>1.000000</td>\n",
       "    </tr>\n",
       "    <tr>\n",
       "      <th>1</th>\n",
       "      <td>1.497487</td>\n",
       "    </tr>\n",
       "    <tr>\n",
       "      <th>2</th>\n",
       "      <td>1.994975</td>\n",
       "    </tr>\n",
       "  </tbody>\n",
       "</table>\n",
       "</div>"
      ],
      "text/plain": [
       "      lista\n",
       "0  1.000000\n",
       "1  1.497487\n",
       "2  1.994975"
      ]
     },
     "execution_count": 18,
     "metadata": {},
     "output_type": "execute_result"
    }
   ],
   "source": [
    "df2 = pd.DataFrame({'lista':np.linspace(1,100,200)}) \n",
    "df2.head(3)"
   ]
  },
  {
   "cell_type": "code",
   "execution_count": 14,
   "metadata": {},
   "outputs": [
    {
     "data": {
      "text/plain": [
       "lista    float64\n",
       "dtype: object"
      ]
     },
     "execution_count": 14,
     "metadata": {},
     "output_type": "execute_result"
    }
   ],
   "source": [
    "df2.dtypes"
   ]
  },
  {
   "cell_type": "markdown",
   "metadata": {},
   "source": [
    "## [Clases](https://docs.python.org/3/tutorial/classes.html)\n",
    "El mecanismo de clases de Python agrega clases al lenguaje con un mínimo de nuevas sintaxis y semánticas. Es una mezcla de los mecanismos de clase encontrados en C++ y Modula-3. Como es cierto para los módulos, las clases en Python no ponen una barrera absoluta entre la definición y el usuario, sino que más bien se apoya en la cortesía del usuario de no “forzar la definición”. Sin embargo, se mantiene el poder completo de las características más importantes de las clases: el mecanismo de la herencia de clases permite múltiples clases base, una clase derivada puede sobreescribir cualquier método de su(s) clase(s) base, y un método puede llamar al método de la clase base con el mismo nombre. Los objetos pueden tener una cantidad arbitraria de datos.\n"
   ]
  },
  {
   "cell_type": "code",
   "execution_count": null,
   "metadata": {},
   "outputs": [],
   "source": [
    "class objeto:\n",
    "    \"\"\"\n",
    "    Notas para manual de referencia\n",
    "    \"\"\"\n",
    "    def __init__(self, name,age,gender):\n",
    "        self.name = name\n",
    "        self.age = age\n",
    "        self.gender = gender\n",
    "    def func(self):\n",
    "        print('hola mundo')\n"
   ]
  },
  {
   "cell_type": "code",
   "execution_count": null,
   "metadata": {},
   "outputs": [],
   "source": [
    "?objeto"
   ]
  },
  {
   "cell_type": "code",
   "execution_count": null,
   "metadata": {},
   "outputs": [],
   "source": [
    "x.name"
   ]
  },
  {
   "cell_type": "code",
   "execution_count": null,
   "metadata": {},
   "outputs": [],
   "source": [
    "x.age"
   ]
  }
 ],
 "metadata": {
  "kernelspec": {
   "display_name": "Python 3",
   "language": "python",
   "name": "python3"
  },
  "language_info": {
   "codemirror_mode": {
    "name": "ipython",
    "version": 3
   },
   "file_extension": ".py",
   "mimetype": "text/x-python",
   "name": "python",
   "nbconvert_exporter": "python",
   "pygments_lexer": "ipython3",
   "version": "3.7.1"
  }
 },
 "nbformat": 4,
 "nbformat_minor": 2
}
