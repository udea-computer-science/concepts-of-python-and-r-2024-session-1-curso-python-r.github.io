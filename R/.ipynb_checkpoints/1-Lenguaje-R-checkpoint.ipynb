{
 "cells": [
  {
   "cell_type": "markdown",
   "metadata": {},
   "source": [
    "# INTRODUCCIÓN A R<a class=\"tocSkip\">\n",
    "## Semillero Programación Analítica<a class=\"tocSkip\">\n",
    "### Ciencia de Datos<a class=\"tocSkip\">\n",
    "### Por Julian A. Restrepo <a class=\"tocSkip\">\n",
    "\n",
    "julian.restrepoh@upb.edu.co\n",
    "\n",
    "En este notebook se encuentran los temas más importantes para el uso de R en ciencia de datos, se debe tener un conocimiento básico de programación para entender completamente el notebook. Los temas a tratar serán:"
   ]
  },
  {
   "cell_type": "markdown",
   "metadata": {
    "toc": true
   },
   "source": [
    "<h1>Contenido<span class=\"tocSkip\"></span></h1>\n",
    "<div class=\"toc\"><ul class=\"toc-item\"><li><span><a href=\"#R-Basico\" data-toc-modified-id=\"R-Basico-1\"><span class=\"toc-item-num\">1&nbsp;&nbsp;</span>R Basico</a></span><ul class=\"toc-item\"><li><span><a href=\"#Definir-el-directorio-de-trabajo\" data-toc-modified-id=\"Definir-el-directorio-de-trabajo-1.1\"><span class=\"toc-item-num\">1.1&nbsp;&nbsp;</span>Definir el directorio de trabajo</a></span></li><li><span><a href=\"#Instalar-e-Importar-Paquetes\" data-toc-modified-id=\"Instalar-e-Importar-Paquetes-1.2\"><span class=\"toc-item-num\">1.2&nbsp;&nbsp;</span>Instalar e Importar Paquetes</a></span><ul class=\"toc-item\"><li><span><a href=\"#Instalar,-Eliminar-y-actualizar-paquetes-en-CRAN\" data-toc-modified-id=\"Instalar,-Eliminar-y-actualizar-paquetes-en-CRAN-1.2.1\"><span class=\"toc-item-num\">1.2.1&nbsp;&nbsp;</span>Instalar, Eliminar y actualizar paquetes en CRAN</a></span></li><li><span><a href=\"#Instalar-paquetes-con-conda\" data-toc-modified-id=\"Instalar-paquetes-con-conda-1.2.2\"><span class=\"toc-item-num\">1.2.2&nbsp;&nbsp;</span>Instalar paquetes con conda</a></span></li><li><span><a href=\"#Obteniendo-ayuda-con-R\" data-toc-modified-id=\"Obteniendo-ayuda-con-R-1.2.3\"><span class=\"toc-item-num\">1.2.3&nbsp;&nbsp;</span>Obteniendo ayuda con R</a></span></li></ul></li></ul></li><li><span><a href=\"#Aritmetica-con-R\" data-toc-modified-id=\"Aritmetica-con-R-2\"><span class=\"toc-item-num\">2&nbsp;&nbsp;</span>Aritmetica con R</a></span></li><li><span><a href=\"#Variables\" data-toc-modified-id=\"Variables-3\"><span class=\"toc-item-num\">3&nbsp;&nbsp;</span>Variables</a></span><ul class=\"toc-item\"><li><span><a href=\"#Tipos-de-datos-en-R\" data-toc-modified-id=\"Tipos-de-datos-en-R-3.1\"><span class=\"toc-item-num\">3.1&nbsp;&nbsp;</span>Tipos de datos en R</a></span><ul class=\"toc-item\"><li><span><a href=\"#Punto-Flotante\" data-toc-modified-id=\"Punto-Flotante-3.1.1\"><span class=\"toc-item-num\">3.1.1&nbsp;&nbsp;</span>Punto Flotante</a></span></li><li><span><a href=\"#Enteros\" data-toc-modified-id=\"Enteros-3.1.2\"><span class=\"toc-item-num\">3.1.2&nbsp;&nbsp;</span>Enteros</a></span></li><li><span><a href=\"#Boolean-o-logicos\" data-toc-modified-id=\"Boolean-o-logicos-3.1.3\"><span class=\"toc-item-num\">3.1.3&nbsp;&nbsp;</span>Boolean o logicos</a></span></li><li><span><a href=\"#Caracteres-(Characters)\" data-toc-modified-id=\"Caracteres-(Characters)-3.1.4\"><span class=\"toc-item-num\">3.1.4&nbsp;&nbsp;</span>Caracteres (Characters)</a></span></li><li><span><a href=\"#Verificar-la-clase-de-los-Datos\" data-toc-modified-id=\"Verificar-la-clase-de-los-Datos-3.1.5\"><span class=\"toc-item-num\">3.1.5&nbsp;&nbsp;</span>Verificar la clase de los Datos</a></span></li><li><span><a href=\"#Verificar-el-tipo-de-los-Datos\" data-toc-modified-id=\"Verificar-el-tipo-de-los-Datos-3.1.6\"><span class=\"toc-item-num\">3.1.6&nbsp;&nbsp;</span>Verificar el tipo de los Datos</a></span></li><li><span><a href=\"#Manejo-de-Variables-en-el-workspace\" data-toc-modified-id=\"Manejo-de-Variables-en-el-workspace-3.1.7\"><span class=\"toc-item-num\">3.1.7&nbsp;&nbsp;</span>Manejo de Variables en el workspace</a></span></li></ul></li></ul></li><li><span><a href=\"#Impresion-en-pantalla\" data-toc-modified-id=\"Impresion-en-pantalla-4\"><span class=\"toc-item-num\">4&nbsp;&nbsp;</span>Impresion en pantalla</a></span><ul class=\"toc-item\"><li><span><a href=\"#Formatos\" data-toc-modified-id=\"Formatos-4.1\"><span class=\"toc-item-num\">4.1&nbsp;&nbsp;</span>Formatos</a></span><ul class=\"toc-item\"><li><span><a href=\"#paste()\" data-toc-modified-id=\"paste()-4.1.1\"><span class=\"toc-item-num\">4.1.1&nbsp;&nbsp;</span>paste()</a></span></li><li><span><a href=\"#paste0()\" data-toc-modified-id=\"paste0()-4.1.2\"><span class=\"toc-item-num\">4.1.2&nbsp;&nbsp;</span>paste0()</a></span></li><li><span><a href=\"#sprint\" data-toc-modified-id=\"sprint-4.1.3\"><span class=\"toc-item-num\">4.1.3&nbsp;&nbsp;</span>sprint</a></span></li></ul></li></ul></li><li><span><a href=\"#Vectores-en-R\" data-toc-modified-id=\"Vectores-en-R-5\"><span class=\"toc-item-num\">5&nbsp;&nbsp;</span>Vectores en R</a></span><ul class=\"toc-item\"><li><span><a href=\"#Nombres-de-vectores\" data-toc-modified-id=\"Nombres-de-vectores-5.1\"><span class=\"toc-item-num\">5.1&nbsp;&nbsp;</span>Nombres de vectores</a></span></li><li><span><a href=\"#Operaciones-con-Vectores\" data-toc-modified-id=\"Operaciones-con-Vectores-5.2\"><span class=\"toc-item-num\">5.2&nbsp;&nbsp;</span>Operaciones con Vectores</a></span><ul class=\"toc-item\"><li><span><a href=\"#Suma-de-Vectores\" data-toc-modified-id=\"Suma-de-Vectores-5.2.1\"><span class=\"toc-item-num\">5.2.1&nbsp;&nbsp;</span>Suma de Vectores</a></span></li><li><span><a href=\"#Resta-de-Vectores\" data-toc-modified-id=\"Resta-de-Vectores-5.2.2\"><span class=\"toc-item-num\">5.2.2&nbsp;&nbsp;</span>Resta de Vectores</a></span></li><li><span><a href=\"#Multiplicacion-de-Vectores\" data-toc-modified-id=\"Multiplicacion-de-Vectores-5.2.3\"><span class=\"toc-item-num\">5.2.3&nbsp;&nbsp;</span>Multiplicacion de Vectores</a></span></li><li><span><a href=\"#Division-de-vectores\" data-toc-modified-id=\"Division-de-vectores-5.2.4\"><span class=\"toc-item-num\">5.2.4&nbsp;&nbsp;</span>Division de vectores</a></span></li></ul></li><li><span><a href=\"#Funciones-con-vectores.\" data-toc-modified-id=\"Funciones-con-vectores.-5.3\"><span class=\"toc-item-num\">5.3&nbsp;&nbsp;</span>Funciones con vectores.</a></span></li><li><span><a href=\"#Indexación-y-slicing-de-vectores:\" data-toc-modified-id=\"Indexación-y-slicing-de-vectores:-5.4\"><span class=\"toc-item-num\">5.4&nbsp;&nbsp;</span>Indexación y slicing de vectores:</a></span><ul class=\"toc-item\"><li><span><a href=\"#Indexación-múltiple\" data-toc-modified-id=\"Indexación-múltiple-5.4.1\"><span class=\"toc-item-num\">5.4.1&nbsp;&nbsp;</span>Indexación múltiple</a></span></li><li><span><a href=\"#Slicing\" data-toc-modified-id=\"Slicing-5.4.2\"><span class=\"toc-item-num\">5.4.2&nbsp;&nbsp;</span>Slicing</a></span></li><li><span><a href=\"#Indexacion-con-nombres\" data-toc-modified-id=\"Indexacion-con-nombres-5.4.3\"><span class=\"toc-item-num\">5.4.3&nbsp;&nbsp;</span>Indexacion con nombres</a></span></li></ul></li><li><span><a href=\"#Operadores-de-comparación-y-selección\" data-toc-modified-id=\"Operadores-de-comparación-y-selección-5.5\"><span class=\"toc-item-num\">5.5&nbsp;&nbsp;</span>Operadores de comparación y selección</a></span></li></ul></li><li><span><a href=\"#Operadores-de-Comparacion\" data-toc-modified-id=\"Operadores-de-Comparacion-6\"><span class=\"toc-item-num\">6&nbsp;&nbsp;</span>Operadores de Comparacion</a></span><ul class=\"toc-item\"><li><span><a href=\"#Comparacion-con-Vectores\" data-toc-modified-id=\"Comparacion-con-Vectores-6.1\"><span class=\"toc-item-num\">6.1&nbsp;&nbsp;</span>Comparacion con Vectores</a></span></li></ul></li><li><span><a href=\"#Matrices-con-R\" data-toc-modified-id=\"Matrices-con-R-7\"><span class=\"toc-item-num\">7&nbsp;&nbsp;</span>Matrices con R</a></span><ul class=\"toc-item\"><li><span><a href=\"#Crear-una-Matriz\" data-toc-modified-id=\"Crear-una-Matriz-7.1\"><span class=\"toc-item-num\">7.1&nbsp;&nbsp;</span>Crear una Matriz</a></span></li><li><span><a href=\"#Crear-Matrices-de-Vectores\" data-toc-modified-id=\"Crear-Matrices-de-Vectores-7.2\"><span class=\"toc-item-num\">7.2&nbsp;&nbsp;</span>Crear Matrices de Vectores</a></span></li><li><span><a href=\"#Nombrando-matrices\" data-toc-modified-id=\"Nombrando-matrices-7.3\"><span class=\"toc-item-num\">7.3&nbsp;&nbsp;</span>Nombrando matrices</a></span></li><li><span><a href=\"#Aritmetica-de-Matrices\" data-toc-modified-id=\"Aritmetica-de-Matrices-7.4\"><span class=\"toc-item-num\">7.4&nbsp;&nbsp;</span>Aritmetica de Matrices</a></span></li><li><span><a href=\"#Operadores-de-comparacion-con-Matrices\" data-toc-modified-id=\"Operadores-de-comparacion-con-Matrices-7.5\"><span class=\"toc-item-num\">7.5&nbsp;&nbsp;</span>Operadores de comparacion con Matrices</a></span></li><li><span><a href=\"#Aritmetica-con-matrices\" data-toc-modified-id=\"Aritmetica-con-matrices-7.6\"><span class=\"toc-item-num\">7.6&nbsp;&nbsp;</span>Aritmetica con matrices</a></span></li><li><span><a href=\"#Multiplicación-de-Matrices\" data-toc-modified-id=\"Multiplicación-de-Matrices-7.7\"><span class=\"toc-item-num\">7.7&nbsp;&nbsp;</span>Multiplicación de Matrices</a></span></li><li><span><a href=\"#Operaciones-de-matriz\" data-toc-modified-id=\"Operaciones-de-matriz-7.8\"><span class=\"toc-item-num\">7.8&nbsp;&nbsp;</span>Operaciones de matriz</a></span></li><li><span><a href=\"#Agregar-columnas-y-filas\" data-toc-modified-id=\"Agregar-columnas-y-filas-7.9\"><span class=\"toc-item-num\">7.9&nbsp;&nbsp;</span>Agregar columnas y filas</a></span></li><li><span><a href=\"#Selección-e-indexación-de-matrices\" data-toc-modified-id=\"Selección-e-indexación-de-matrices-7.10\"><span class=\"toc-item-num\">7.10&nbsp;&nbsp;</span>Selección e indexación de matrices</a></span></li><li><span><a href=\"#Factor-y-Matrices-categoricas\" data-toc-modified-id=\"Factor-y-Matrices-categoricas-7.11\"><span class=\"toc-item-num\">7.11&nbsp;&nbsp;</span>Factor y Matrices categoricas</a></span></li></ul></li><li><span><a href=\"#Dataframes-en-R\" data-toc-modified-id=\"Dataframes-en-R-8\"><span class=\"toc-item-num\">8&nbsp;&nbsp;</span>Dataframes en R</a></span><ul class=\"toc-item\"><li><span><a href=\"#Trabajando-con-Dataframes\" data-toc-modified-id=\"Trabajando-con-Dataframes-8.1\"><span class=\"toc-item-num\">8.1&nbsp;&nbsp;</span>Trabajando con Dataframes</a></span></li><li><span><a href=\"#Informacion-General-de-los-DataFrames\" data-toc-modified-id=\"Informacion-General-de-los-DataFrames-8.2\"><span class=\"toc-item-num\">8.2&nbsp;&nbsp;</span>Informacion General de los DataFrames</a></span></li><li><span><a href=\"#Crear-Dataframes\" data-toc-modified-id=\"Crear-Dataframes-8.3\"><span class=\"toc-item-num\">8.3&nbsp;&nbsp;</span>Crear Dataframes</a></span></li><li><span><a href=\"#Seleccion-e-Indexacion-de-Dataframes\" data-toc-modified-id=\"Seleccion-e-Indexacion-de-Dataframes-8.4\"><span class=\"toc-item-num\">8.4&nbsp;&nbsp;</span>Seleccion e Indexacion de Dataframes</a></span></li><li><span><a href=\"#Seleccion-usando-nombres-de-columnas\" data-toc-modified-id=\"Seleccion-usando-nombres-de-columnas-8.5\"><span class=\"toc-item-num\">8.5&nbsp;&nbsp;</span>Seleccion usando nombres de columnas</a></span></li><li><span><a href=\"#Filtrar-un-subconjunto-de-datos-con-condiciones\" data-toc-modified-id=\"Filtrar-un-subconjunto-de-datos-con-condiciones-8.6\"><span class=\"toc-item-num\">8.6&nbsp;&nbsp;</span>Filtrar un subconjunto de datos con condiciones</a></span></li><li><span><a href=\"#Ordenar-un-Dataframe\" data-toc-modified-id=\"Ordenar-un-Dataframe-8.7\"><span class=\"toc-item-num\">8.7&nbsp;&nbsp;</span>Ordenar un Dataframe</a></span></li><li><span><a href=\"#Informacion-de-filas-y-columnas\" data-toc-modified-id=\"Informacion-de-filas-y-columnas-8.8\"><span class=\"toc-item-num\">8.8&nbsp;&nbsp;</span>Informacion de filas y columnas</a></span></li><li><span><a href=\"#Referenciando-Celdas-especificas\" data-toc-modified-id=\"Referenciando-Celdas-especificas-8.9\"><span class=\"toc-item-num\">8.9&nbsp;&nbsp;</span>Referenciando Celdas especificas</a></span></li><li><span><a href=\"#Referenciando-filas\" data-toc-modified-id=\"Referenciando-filas-8.10\"><span class=\"toc-item-num\">8.10&nbsp;&nbsp;</span>Referenciando filas</a></span></li><li><span><a href=\"#Referenciando-Columnas\" data-toc-modified-id=\"Referenciando-Columnas-8.11\"><span class=\"toc-item-num\">8.11&nbsp;&nbsp;</span>Referenciando Columnas</a></span></li><li><span><a href=\"#Agregando-Filas-rbind()\" data-toc-modified-id=\"Agregando-Filas-rbind()-8.12\"><span class=\"toc-item-num\">8.12&nbsp;&nbsp;</span>Agregando Filas <code>rbind()</code></a></span></li><li><span><a href=\"#Agregando-Columnas-cbind()\" data-toc-modified-id=\"Agregando-Columnas-cbind()-8.13\"><span class=\"toc-item-num\">8.13&nbsp;&nbsp;</span>Agregando Columnas <code>cbind()</code></a></span></li><li><span><a href=\"#Definir-el-Nombre-de-las-Columnas\" data-toc-modified-id=\"Definir-el-Nombre-de-las-Columnas-8.14\"><span class=\"toc-item-num\">8.14&nbsp;&nbsp;</span>Definir el Nombre de las Columnas</a></span></li><li><span><a href=\"#Seleccion-de-varias-Filas\" data-toc-modified-id=\"Seleccion-de-varias-Filas-8.15\"><span class=\"toc-item-num\">8.15&nbsp;&nbsp;</span>Seleccion de varias Filas</a></span></li><li><span><a href=\"#Seleccion-de-varias-columnas\" data-toc-modified-id=\"Seleccion-de-varias-columnas-8.16\"><span class=\"toc-item-num\">8.16&nbsp;&nbsp;</span>Seleccion de varias columnas</a></span></li><li><span><a href=\"#Tratando-con-datos-faltantes\" data-toc-modified-id=\"Tratando-con-datos-faltantes-8.17\"><span class=\"toc-item-num\">8.17&nbsp;&nbsp;</span>Tratando con datos faltantes</a></span></li><li><span><a href=\"#Mezclando-dataframes-merge()\" data-toc-modified-id=\"Mezclando-dataframes-merge()-8.18\"><span class=\"toc-item-num\">8.18&nbsp;&nbsp;</span>Mezclando dataframes <code>merge()</code></a></span></li></ul></li><li><span><a href=\"#Listas-en-R\" data-toc-modified-id=\"Listas-en-R-9\"><span class=\"toc-item-num\">9&nbsp;&nbsp;</span>Listas en R</a></span><ul class=\"toc-item\"><li><span><a href=\"#Funcion-list()\" data-toc-modified-id=\"Funcion-list()-9.1\"><span class=\"toc-item-num\">9.1&nbsp;&nbsp;</span>Funcion <code>list()</code></a></span></li><li><span><a href=\"#Seleccionando-objetos-de-una-lista\" data-toc-modified-id=\"Seleccionando-objetos-de-una-lista-9.2\"><span class=\"toc-item-num\">9.2&nbsp;&nbsp;</span>Seleccionando objetos de una lista</a></span></li><li><span><a href=\"#Combinacion-de-listas\" data-toc-modified-id=\"Combinacion-de-listas-9.3\"><span class=\"toc-item-num\">9.3&nbsp;&nbsp;</span>Combinacion de listas</a></span></li></ul></li><li><span><a href=\"#Programacion-en-R\" data-toc-modified-id=\"Programacion-en-R-10\"><span class=\"toc-item-num\">10&nbsp;&nbsp;</span>Programacion en R</a></span><ul class=\"toc-item\"><li><span><a href=\"#Operadores-Logicos\" data-toc-modified-id=\"Operadores-Logicos-10.1\"><span class=\"toc-item-num\">10.1&nbsp;&nbsp;</span>Operadores Logicos</a></span><ul class=\"toc-item\"><li><span><a href=\"#Negacion-(NOT-!)\" data-toc-modified-id=\"Negacion-(NOT-!)-10.1.1\"><span class=\"toc-item-num\">10.1.1&nbsp;&nbsp;</span>Negacion (NOT !)</a></span></li><li><span><a href=\"#Ejemplo-de-uso\" data-toc-modified-id=\"Ejemplo-de-uso-10.1.2\"><span class=\"toc-item-num\">10.1.2&nbsp;&nbsp;</span>Ejemplo de uso</a></span></li></ul></li><li><span><a href=\"#Operadores-Logicos-con-Vectores\" data-toc-modified-id=\"Operadores-Logicos-con-Vectores-10.2\"><span class=\"toc-item-num\">10.2&nbsp;&nbsp;</span>Operadores Logicos con Vectores</a></span></li><li><span><a href=\"#Condicionales-if,-else,-else-if\" data-toc-modified-id=\"Condicionales-if,-else,-else-if-10.3\"><span class=\"toc-item-num\">10.3&nbsp;&nbsp;</span>Condicionales if, else, else if</a></span></li><li><span><a href=\"#Ciclos-For\" data-toc-modified-id=\"Ciclos-For-10.4\"><span class=\"toc-item-num\">10.4&nbsp;&nbsp;</span>Ciclos For</a></span><ul class=\"toc-item\"><li><span><a href=\"#Ciclor-for-sobre-un-Vector\" data-toc-modified-id=\"Ciclor-for-sobre-un-Vector-10.4.1\"><span class=\"toc-item-num\">10.4.1&nbsp;&nbsp;</span>Ciclor for sobre un Vector</a></span></li><li><span><a href=\"#Ciclos-for-sobre-una-lista\" data-toc-modified-id=\"Ciclos-for-sobre-una-lista-10.4.2\"><span class=\"toc-item-num\">10.4.2&nbsp;&nbsp;</span>Ciclos for sobre una lista</a></span></li><li><span><a href=\"#Ciclo-for-en-una-Matriz\" data-toc-modified-id=\"Ciclo-for-en-una-Matriz-10.4.3\"><span class=\"toc-item-num\">10.4.3&nbsp;&nbsp;</span>Ciclo for en una Matriz</a></span></li><li><span><a href=\"#Ciclos-Anidados\" data-toc-modified-id=\"Ciclos-Anidados-10.4.4\"><span class=\"toc-item-num\">10.4.4&nbsp;&nbsp;</span>Ciclos Anidados</a></span></li></ul></li><li><span><a href=\"#Ciclos-While\" data-toc-modified-id=\"Ciclos-While-10.5\"><span class=\"toc-item-num\">10.5&nbsp;&nbsp;</span>Ciclos While</a></span></li><li><span><a href=\"#Funciones\" data-toc-modified-id=\"Funciones-10.6\"><span class=\"toc-item-num\">10.6&nbsp;&nbsp;</span>Funciones</a></span><ul class=\"toc-item\"><li><span><a href=\"#Retornando-Valores\" data-toc-modified-id=\"Retornando-Valores-10.6.1\"><span class=\"toc-item-num\">10.6.1&nbsp;&nbsp;</span>Retornando Valores</a></span></li></ul></li></ul></li><li><span><a href=\"#Funciones-Built-in\" data-toc-modified-id=\"Funciones-Built-in-11\"><span class=\"toc-item-num\">11&nbsp;&nbsp;</span>Funciones Built-in</a></span><ul class=\"toc-item\"><li><span><a href=\"#Verificar-el-tipo-de-datos\" data-toc-modified-id=\"Verificar-el-tipo-de-datos-11.1\"><span class=\"toc-item-num\">11.1&nbsp;&nbsp;</span>Verificar el tipo de datos</a></span></li><li><span><a href=\"#Funciones-Matematicas\" data-toc-modified-id=\"Funciones-Matematicas-11.2\"><span class=\"toc-item-num\">11.2&nbsp;&nbsp;</span>Funciones Matematicas</a></span></li></ul></li><li><span><a href=\"#Funciones-Apply\" data-toc-modified-id=\"Funciones-Apply-12\"><span class=\"toc-item-num\">12&nbsp;&nbsp;</span>Funciones Apply</a></span><ul class=\"toc-item\"><li><span><a href=\"#lapply()\" data-toc-modified-id=\"lapply()-12.1\"><span class=\"toc-item-num\">12.1&nbsp;&nbsp;</span><code>lapply()</code></a></span></li><li><span><a href=\"#Funciones-Anonimas\" data-toc-modified-id=\"Funciones-Anonimas-12.2\"><span class=\"toc-item-num\">12.2&nbsp;&nbsp;</span>Funciones Anonimas</a></span></li><li><span><a href=\"#sapply()-vs.-lapply()\" data-toc-modified-id=\"sapply()-vs.-lapply()-12.3\"><span class=\"toc-item-num\">12.3&nbsp;&nbsp;</span><code>sapply()</code> vs. <code>lapply()</code></a></span><ul class=\"toc-item\"><li><span><a href=\"#Limitaciones-de-sapply()\" data-toc-modified-id=\"Limitaciones-de-sapply()-12.3.1\"><span class=\"toc-item-num\">12.3.1&nbsp;&nbsp;</span>Limitaciones de <code>sapply()</code></a></span></li></ul></li></ul></li><li><span><a href=\"#Expresiones-Regulares\" data-toc-modified-id=\"Expresiones-Regulares-13\"><span class=\"toc-item-num\">13&nbsp;&nbsp;</span>Expresiones Regulares</a></span></li><li><span><a href=\"#Timestamps\" data-toc-modified-id=\"Timestamps-14\"><span class=\"toc-item-num\">14&nbsp;&nbsp;</span>Timestamps</a></span><ul class=\"toc-item\"><li><span><a href=\"#Date\" data-toc-modified-id=\"Date-14.1\"><span class=\"toc-item-num\">14.1&nbsp;&nbsp;</span>Date</a></span></li><li><span><a href=\"#Time\" data-toc-modified-id=\"Time-14.2\"><span class=\"toc-item-num\">14.2&nbsp;&nbsp;</span>Time</a></span></li></ul></li><li><span><a href=\"#Leer-y-guardar-Datos-(Data-Input-and-Output)\" data-toc-modified-id=\"Leer-y-guardar-Datos-(Data-Input-and-Output)-15\"><span class=\"toc-item-num\">15&nbsp;&nbsp;</span>Leer y guardar Datos (Data Input and Output)</a></span><ul class=\"toc-item\"><li><span><a href=\"#CSV-File-(comma-separated-values)\" data-toc-modified-id=\"CSV-File-(comma-separated-values)-15.1\"><span class=\"toc-item-num\">15.1&nbsp;&nbsp;</span>CSV File (comma-separated values)</a></span><ul class=\"toc-item\"><li><span><a href=\"#read.table()\" data-toc-modified-id=\"read.table()-15.1.1\"><span class=\"toc-item-num\">15.1.1&nbsp;&nbsp;</span><code>read.table()</code></a></span></li><li><span><a href=\"#Grabar-a-csv\" data-toc-modified-id=\"Grabar-a-csv-15.1.2\"><span class=\"toc-item-num\">15.1.2&nbsp;&nbsp;</span>Grabar a csv</a></span></li></ul></li><li><span><a href=\"#Excel\" data-toc-modified-id=\"Excel-15.2\"><span class=\"toc-item-num\">15.2&nbsp;&nbsp;</span>Excel</a></span></li><li><span><a href=\"#SQL-EN-R\" data-toc-modified-id=\"SQL-EN-R-15.3\"><span class=\"toc-item-num\">15.3&nbsp;&nbsp;</span>SQL EN R</a></span><ul class=\"toc-item\"><li><span><a href=\"#RODBC\" data-toc-modified-id=\"RODBC-15.3.1\"><span class=\"toc-item-num\">15.3.1&nbsp;&nbsp;</span>RODBC</a></span></li><li><span><a href=\"#MySQL\" data-toc-modified-id=\"MySQL-15.3.2\"><span class=\"toc-item-num\">15.3.2&nbsp;&nbsp;</span>MySQL</a></span></li><li><span><a href=\"#Oracle\" data-toc-modified-id=\"Oracle-15.3.3\"><span class=\"toc-item-num\">15.3.3&nbsp;&nbsp;</span>Oracle</a></span></li><li><span><a href=\"#JDBC\" data-toc-modified-id=\"JDBC-15.3.4\"><span class=\"toc-item-num\">15.3.4&nbsp;&nbsp;</span>JDBC</a></span></li></ul></li></ul></li><li><span><a href=\"#Referencias\" data-toc-modified-id=\"Referencias-16\"><span class=\"toc-item-num\">16&nbsp;&nbsp;</span>Referencias</a></span></li></ul></div>"
   ]
  },
  {
   "cell_type": "markdown",
   "metadata": {},
   "source": [
    "# R Basico"
   ]
  },
  {
   "cell_type": "markdown",
   "metadata": {},
   "source": [
    "## Definir el directorio de trabajo\n",
    "R necesita que se defina el directorio donde se esta trabajando, en jupyter notebook el directorio sera desde donde se ejecuta en el terminal el comando `Jupyter notebook`"
   ]
  },
  {
   "cell_type": "code",
   "execution_count": null,
   "metadata": {},
   "outputs": [],
   "source": [
    "#Obtener el directorio de trabajo actual\n",
    "DirTrabajo <-getwd() \n",
    "DirTrabajo"
   ]
  },
  {
   "cell_type": "code",
   "execution_count": null,
   "metadata": {},
   "outputs": [],
   "source": [
    "## Definir otro directorio para trabajar\n",
    "setwd(dir = './Datos') # ir a la carpeta Datos\n",
    "getwd() #ver cual es el directorio actual de trabajo"
   ]
  },
  {
   "cell_type": "code",
   "execution_count": null,
   "metadata": {},
   "outputs": [],
   "source": [
    "setwd(DirTrabajo) # regresar al directorio original de trabajo\n",
    "getwd()"
   ]
  },
  {
   "cell_type": "markdown",
   "metadata": {},
   "source": [
    "## Instalar e Importar Paquetes\n",
    "R tiene un repositorio donde estan la mayoria de paquetes:\n",
    "https://cran.r-project.org/web/packages/available_packages_by_name.html\n",
    "\n",
    "- Desde el menu en Rstudio en: Packages->Install package(s).\n",
    "- **Nota:** Anaconda instala los paquetes mas importantes para r asi:\n",
    "`conda install -c r r-essentials`"
   ]
  },
  {
   "cell_type": "code",
   "execution_count": null,
   "metadata": {},
   "outputs": [],
   "source": [
    "# Importar una libreria\n",
    "library(stringr) # Esta ya esta instalada"
   ]
  },
  {
   "cell_type": "code",
   "execution_count": null,
   "metadata": {},
   "outputs": [],
   "source": [
    "library(audio) #Este Paquete no esta instalado"
   ]
  },
  {
   "cell_type": "code",
   "execution_count": null,
   "metadata": {},
   "outputs": [],
   "source": [
    "require(audio) # devuelve TRUE o FALSE según el paquete esté o no instalado"
   ]
  },
  {
   "cell_type": "markdown",
   "metadata": {},
   "source": [
    "### Instalar, Eliminar y actualizar paquetes en CRAN"
   ]
  },
  {
   "cell_type": "code",
   "execution_count": null,
   "metadata": {},
   "outputs": [],
   "source": [
    "# Antes de instalar un paquete es bueno detectar si ya esta instalado\n",
    "if(!require(audio)) # verificar si esta instalado el paquete\n",
    "    install.packages(\"audio\") # Comando para instalar paquetes, note las dobles comillas\n",
    "library(audio) #Importar libreria"
   ]
  },
  {
   "cell_type": "code",
   "execution_count": null,
   "metadata": {},
   "outputs": [],
   "source": [
    "# Quitar un paquete de la memoria\n",
    "detach(\"package:audio\", unload=TRUE)"
   ]
  },
  {
   "cell_type": "code",
   "execution_count": null,
   "metadata": {},
   "outputs": [],
   "source": [
    "# Eliminar un paquete instalado\n",
    "remove.packages(\"audio\") #es necesario las dobles comillas"
   ]
  },
  {
   "cell_type": "code",
   "execution_count": null,
   "metadata": {},
   "outputs": [],
   "source": [
    "# Actualizar paquetes de cran\n",
    "update.packages() #se recomienda por linea de comando"
   ]
  },
  {
   "cell_type": "code",
   "execution_count": null,
   "metadata": {},
   "outputs": [],
   "source": [
    "if(!require(sos)) # verificar si esta instalado el paquete\n",
    "    install.packages(\"sos\") # Comando para instalar paquetes, note las dobles comillas\n",
    "library(sos) #Importar libreria\n",
    "findFn(\"audio\")# Buscar paquetes que contengan la palabra audio"
   ]
  },
  {
   "cell_type": "markdown",
   "metadata": {},
   "source": [
    "### Instalar paquetes con conda\n",
    "El listado de paquetes se puede ver en : https://anaconda.org/r/repo\n",
    "\n",
    "Para instalar un paquete se hace en linea de comando asi:\n",
    "\n",
    "`conda install -c r [nombre-del-paquete]`"
   ]
  },
  {
   "cell_type": "markdown",
   "metadata": {},
   "source": [
    "### Obteniendo ayuda con R\n",
    "Además de una búsqueda en google o de visitar [StackOverflow](www.stackoverflow.com), hay algunas maneras incorporadas de obtener ayuda con R! La mayoría de las funciones R tienen documentación en línea.\n",
    "- help(algo) documentacion\n",
    "- help.search(\"algo\") Busca en la ayuda\n",
    "- apropos(\"algo\") nombre de todos los objetos parecidos a ”algo”\n",
    "- help.start() Inicia la version HTML de la ayuda"
   ]
  },
  {
   "cell_type": "code",
   "execution_count": null,
   "metadata": {},
   "outputs": [],
   "source": [
    "# Necesita ayuda con vectors\n",
    "help(vector)"
   ]
  },
  {
   "cell_type": "code",
   "execution_count": null,
   "metadata": {},
   "outputs": [],
   "source": [
    "# TDebe ser un string\n",
    "help.search('numeric')"
   ]
  },
  {
   "cell_type": "code",
   "execution_count": null,
   "metadata": {},
   "outputs": [],
   "source": [
    "# Tambien se puede usar ??para buscar\n",
    "??vector"
   ]
  },
  {
   "cell_type": "markdown",
   "metadata": {},
   "source": [
    "# Aritmetica con R"
   ]
  },
  {
   "cell_type": "code",
   "execution_count": null,
   "metadata": {},
   "outputs": [],
   "source": [
    "1+2 #Suma"
   ]
  },
  {
   "cell_type": "code",
   "execution_count": null,
   "metadata": {},
   "outputs": [],
   "source": [
    "5-3  # Resta"
   ]
  },
  {
   "cell_type": "code",
   "execution_count": null,
   "metadata": {},
   "outputs": [],
   "source": [
    "1/2 # Division"
   ]
  },
  {
   "cell_type": "code",
   "execution_count": null,
   "metadata": {},
   "outputs": [],
   "source": [
    "2^3 # Potenciacion"
   ]
  },
  {
   "cell_type": "code",
   "execution_count": null,
   "metadata": {},
   "outputs": [],
   "source": [
    "5 %% 2 # Modulo"
   ]
  },
  {
   "cell_type": "code",
   "execution_count": null,
   "metadata": {},
   "outputs": [],
   "source": [
    "(100 * 2) + (50 / 2) #Orden de las operaciones"
   ]
  },
  {
   "cell_type": "markdown",
   "metadata": {},
   "source": [
    "---\n",
    "# Variables\n",
    "En R la asignacion de variables se hace asi:"
   ]
  },
  {
   "cell_type": "code",
   "execution_count": null,
   "metadata": {},
   "outputs": [],
   "source": [
    "# Observe que parece una flecha apuntando hacia la variable.\n",
    "variable.name <- 100"
   ]
  },
  {
   "cell_type": "code",
   "execution_count": null,
   "metadata": {},
   "outputs": [],
   "source": [
    "# Veamos la variable\n",
    "variable.name"
   ]
  },
  {
   "cell_type": "code",
   "execution_count": null,
   "metadata": {},
   "outputs": [],
   "source": [
    "bank.account <- 100"
   ]
  },
  {
   "cell_type": "code",
   "execution_count": null,
   "metadata": {},
   "outputs": [],
   "source": [
    "deposit <- 10"
   ]
  },
  {
   "cell_type": "code",
   "execution_count": null,
   "metadata": {},
   "outputs": [],
   "source": [
    "bank.account <- bank.account + deposit"
   ]
  },
  {
   "cell_type": "code",
   "execution_count": null,
   "metadata": {},
   "outputs": [],
   "source": [
    "bank.account"
   ]
  },
  {
   "cell_type": "markdown",
   "metadata": {},
   "source": [
    "## Tipos de datos en R\n",
    "### Punto Flotante"
   ]
  },
  {
   "cell_type": "code",
   "execution_count": null,
   "metadata": {},
   "outputs": [],
   "source": [
    "n <- 2.2\n",
    "n # Jupyter notebook muestra las variables solo escribiendolas"
   ]
  },
  {
   "cell_type": "markdown",
   "metadata": {},
   "source": [
    "### Enteros\n"
   ]
  },
  {
   "cell_type": "code",
   "execution_count": null,
   "metadata": {},
   "outputs": [],
   "source": [
    "i <- 5\n",
    "i"
   ]
  },
  {
   "cell_type": "markdown",
   "metadata": {},
   "source": [
    "### Boolean o logicos"
   ]
  },
  {
   "cell_type": "code",
   "execution_count": null,
   "metadata": {},
   "outputs": [],
   "source": [
    "t <- TRUE\n",
    "f <- FALSE"
   ]
  },
  {
   "cell_type": "code",
   "execution_count": null,
   "metadata": {},
   "outputs": [],
   "source": [
    "t"
   ]
  },
  {
   "cell_type": "code",
   "execution_count": null,
   "metadata": {},
   "outputs": [],
   "source": [
    "f"
   ]
  },
  {
   "cell_type": "markdown",
   "metadata": {},
   "source": [
    "### Caracteres (Characters)\n",
    "    \n",
    "los datos tipo Texto/string son conocidos como characters en R."
   ]
  },
  {
   "cell_type": "code",
   "execution_count": null,
   "metadata": {},
   "outputs": [],
   "source": [
    "# Comillas dobles\n",
    "char <- \"Data scientists, according to interviews and expert estimates, spend from 50 percent to 80 percent of their time mired in this more mundane labor of collecting and preparing unruly digital data, before it can be explored for useful nuggets\"\n",
    "char"
   ]
  },
  {
   "cell_type": "code",
   "execution_count": null,
   "metadata": {},
   "outputs": [],
   "source": [
    "# Comillas simples\n",
    "c <- 'Hola Mundo!'\n",
    "c"
   ]
  },
  {
   "cell_type": "markdown",
   "metadata": {},
   "source": [
    "### Verificar la clase de los Datos\n",
    "Se puede realizar con la funcion class():"
   ]
  },
  {
   "cell_type": "code",
   "execution_count": null,
   "metadata": {},
   "outputs": [],
   "source": [
    "class(t)"
   ]
  },
  {
   "cell_type": "code",
   "execution_count": null,
   "metadata": {},
   "outputs": [],
   "source": [
    "class(f)"
   ]
  },
  {
   "cell_type": "code",
   "execution_count": null,
   "metadata": {},
   "outputs": [],
   "source": [
    "class(char)"
   ]
  },
  {
   "cell_type": "code",
   "execution_count": null,
   "metadata": {},
   "outputs": [],
   "source": [
    "class(c)"
   ]
  },
  {
   "cell_type": "code",
   "execution_count": null,
   "metadata": {},
   "outputs": [],
   "source": [
    "class(n)"
   ]
  },
  {
   "cell_type": "code",
   "execution_count": null,
   "metadata": {},
   "outputs": [],
   "source": [
    "class(i)"
   ]
  },
  {
   "cell_type": "code",
   "execution_count": null,
   "metadata": {},
   "outputs": [],
   "source": [
    "class(Inf)"
   ]
  },
  {
   "cell_type": "code",
   "execution_count": null,
   "metadata": {},
   "outputs": [],
   "source": [
    "class(NaN)"
   ]
  },
  {
   "cell_type": "code",
   "execution_count": null,
   "metadata": {},
   "outputs": [],
   "source": [
    "class(4+5i)"
   ]
  },
  {
   "cell_type": "markdown",
   "metadata": {},
   "source": [
    "### Verificar el tipo de los Datos\n",
    "Se puede realizar con la funcion `typeof()`:"
   ]
  },
  {
   "cell_type": "code",
   "execution_count": null,
   "metadata": {},
   "outputs": [],
   "source": [
    "typeof(t)"
   ]
  },
  {
   "cell_type": "code",
   "execution_count": null,
   "metadata": {},
   "outputs": [],
   "source": [
    "typeof(f)"
   ]
  },
  {
   "cell_type": "code",
   "execution_count": null,
   "metadata": {},
   "outputs": [],
   "source": [
    "typeof(char)"
   ]
  },
  {
   "cell_type": "code",
   "execution_count": null,
   "metadata": {},
   "outputs": [],
   "source": [
    "typeof(c)"
   ]
  },
  {
   "cell_type": "code",
   "execution_count": null,
   "metadata": {},
   "outputs": [],
   "source": [
    "typeof(n)"
   ]
  },
  {
   "cell_type": "code",
   "execution_count": null,
   "metadata": {},
   "outputs": [],
   "source": [
    "typeof(i)"
   ]
  },
  {
   "cell_type": "code",
   "execution_count": null,
   "metadata": {},
   "outputs": [],
   "source": [
    "typeof(Inf)"
   ]
  },
  {
   "cell_type": "code",
   "execution_count": null,
   "metadata": {},
   "outputs": [],
   "source": [
    "typeof(NaN)"
   ]
  },
  {
   "cell_type": "code",
   "execution_count": null,
   "metadata": {},
   "outputs": [],
   "source": [
    "typeof(4+5i)"
   ]
  },
  {
   "cell_type": "markdown",
   "metadata": {},
   "source": [
    "### Manejo de Variables en el workspace"
   ]
  },
  {
   "cell_type": "code",
   "execution_count": null,
   "metadata": {},
   "outputs": [],
   "source": [
    "# listado de las variables en el workspace\n",
    "ls()"
   ]
  },
  {
   "cell_type": "code",
   "execution_count": null,
   "metadata": {},
   "outputs": [],
   "source": [
    "# Borrar una variable del workspace\n",
    "rm(deposit)\n",
    "ls()"
   ]
  },
  {
   "cell_type": "markdown",
   "metadata": {},
   "source": [
    "# Impresion en pantalla\n",
    "Se realiza con la funcion `print()` y pueden ser numeros o strings. En jupyter notebook no es necesario la funcion print para imprimir el valor de una variable."
   ]
  },
  {
   "cell_type": "code",
   "execution_count": null,
   "metadata": {},
   "outputs": [],
   "source": [
    "print(\"Ciencia de Datos\")"
   ]
  },
  {
   "cell_type": "code",
   "execution_count": null,
   "metadata": {},
   "outputs": [],
   "source": [
    "x <- 10\n",
    "print(x)"
   ]
  },
  {
   "cell_type": "code",
   "execution_count": null,
   "metadata": {},
   "outputs": [],
   "source": [
    "x <- mtcars\n",
    "print(mtcars)"
   ]
  },
  {
   "cell_type": "markdown",
   "metadata": {},
   "source": [
    "## Formatos\n",
    "   Podemos imprimir con formato strings y variables de diferentes maneras:\n",
    "\n",
    "### paste()    \n",
    "Concatena los elementos mediante un separador definido\n",
    "`paste (..., sep = \" \")`"
   ]
  },
  {
   "cell_type": "code",
   "execution_count": null,
   "metadata": {},
   "outputs": [],
   "source": [
    "print(paste('Hola','Mundo')) # El espacio es el separador predeterminado"
   ]
  },
  {
   "cell_type": "code",
   "execution_count": null,
   "metadata": {},
   "outputs": [],
   "source": [
    "print(paste('Hola','Mundo',sep='-|-')) # puedo definir cualquier separador"
   ]
  },
  {
   "cell_type": "markdown",
   "metadata": {},
   "source": [
    "### paste0()\n",
    "Concatena pero sin separador"
   ]
  },
  {
   "cell_type": "code",
   "execution_count": null,
   "metadata": {},
   "outputs": [],
   "source": [
    "paste0('Hola','Mundo')"
   ]
  },
  {
   "cell_type": "markdown",
   "metadata": {},
   "source": [
    "### sprint\n",
    "es un contenedor para la función C sprintf, que devuelve un vector de caracteres que contiene una combinación formateada de texto y valores variables. Lo que significa que puede usar% códigos para colocar variables especificando todas al final."
   ]
  },
  {
   "cell_type": "code",
   "execution_count": null,
   "metadata": {},
   "outputs": [],
   "source": [
    "sprintf(\"%s mide %f mt de alto\\n\", \"Jose\", 1.85) #\\n es para dar un salto de linea"
   ]
  },
  {
   "cell_type": "code",
   "execution_count": null,
   "metadata": {},
   "outputs": [],
   "source": [
    "# Esto producira un error por que 1.85 es un float y no un integer\n",
    "sprintf(\"%s mide %f mt de alto\\n\", \"Jose\", 1.85)"
   ]
  },
  {
   "cell_type": "markdown",
   "metadata": {},
   "source": [
    "Para mas ayuda de como usar la funcion `sprintf()` se puede ver en la documentacion:"
   ]
  },
  {
   "cell_type": "code",
   "execution_count": null,
   "metadata": {},
   "outputs": [],
   "source": [
    "help(sprintf)"
   ]
  },
  {
   "cell_type": "markdown",
   "metadata": {},
   "source": [
    "---\n",
    "# Vectores en R\n",
    "Los vectores son una de las estructuras de datos clave en R. Un vector es una matriz o arreglo de 1 dimensión que puede contener elementos de tipo string, numéricos o lógicos.\n",
    "Podemos crear un vector usando la función de combinación `c ()`. Para usar la función, pasamos los elementos que queremos en la matriz, con cada elemento individual separado por una coma."
   ]
  },
  {
   "cell_type": "code",
   "execution_count": null,
   "metadata": {},
   "outputs": [],
   "source": [
    "# Usando c() para crear un vector con elementos numericos\n",
    "nvec <- c(1,2,3,4,5)"
   ]
  },
  {
   "cell_type": "code",
   "execution_count": null,
   "metadata": {},
   "outputs": [],
   "source": [
    "class(nvec)"
   ]
  },
  {
   "cell_type": "code",
   "execution_count": null,
   "metadata": {},
   "outputs": [],
   "source": [
    "# Vector de letras\n",
    "cvec <- c('U','S','A')"
   ]
  },
  {
   "cell_type": "code",
   "execution_count": null,
   "metadata": {},
   "outputs": [],
   "source": [
    "class(cvec)"
   ]
  },
  {
   "cell_type": "code",
   "execution_count": null,
   "metadata": {},
   "outputs": [],
   "source": [
    "# vector de Booleans\n",
    "lvec <- c(TRUE,FALSE)\n",
    "lvec"
   ]
  },
  {
   "cell_type": "code",
   "execution_count": null,
   "metadata": {},
   "outputs": [],
   "source": [
    "class(lvec)"
   ]
  },
  {
   "cell_type": "markdown",
   "metadata": {},
   "source": [
    "Tenga en cuenta que no podemos mezclar los tipos de datos de los elementos en una matriz, R convertirá los otros elementos en la matriz para obligar a que todo sea del mismo tipo de datos. Más adelante, aprenderemos sobre la estructura de datos de la lista que puede tomar múltiples tipos de datos.\n",
    "A continuación, se muestra un ejemplo rápido de lo que ocurre con las matrices con diferentes tipos de datos:"
   ]
  },
  {
   "cell_type": "code",
   "execution_count": null,
   "metadata": {},
   "outputs": [],
   "source": [
    "v <- c(FALSE,2)"
   ]
  },
  {
   "cell_type": "code",
   "execution_count": null,
   "metadata": {},
   "outputs": [],
   "source": [
    "v"
   ]
  },
  {
   "cell_type": "code",
   "execution_count": null,
   "metadata": {},
   "outputs": [],
   "source": [
    "class(v)"
   ]
  },
  {
   "cell_type": "code",
   "execution_count": null,
   "metadata": {},
   "outputs": [],
   "source": [
    "v <- c('A',1)"
   ]
  },
  {
   "cell_type": "code",
   "execution_count": null,
   "metadata": {},
   "outputs": [],
   "source": [
    "v"
   ]
  },
  {
   "cell_type": "code",
   "execution_count": null,
   "metadata": {},
   "outputs": [],
   "source": [
    "class(v)"
   ]
  },
  {
   "cell_type": "markdown",
   "metadata": {},
   "source": [
    "## Nombres de vectores\n",
    "\n",
    "Podemos usar la función `names()` para asignar nombres a cada elemento de nuestro vector. Por ejemplo, imagine el siguiente vector de una semana de temperaturas:"
   ]
  },
  {
   "cell_type": "code",
   "execution_count": null,
   "metadata": {},
   "outputs": [],
   "source": [
    "temps <- c(72,71,68,73,69,75,71)"
   ]
  },
  {
   "cell_type": "code",
   "execution_count": null,
   "metadata": {},
   "outputs": [],
   "source": [
    "temps"
   ]
  },
  {
   "cell_type": "markdown",
   "metadata": {},
   "source": [
    "Tenemos 7 temperaturas durante 7 días de la semana, pero ¿qué temperatura corresponde a qué día de la semana? ¿Comienza el lunes, el domingo u otro día de la semana? Aquí es donde se pueden asignar los `nombres()` de la siguiente manera:"
   ]
  },
  {
   "cell_type": "code",
   "execution_count": null,
   "metadata": {},
   "outputs": [],
   "source": [
    "names(temps) <- c('Mon','Tue','Wed','Thu','Fri','Sat','Sun')"
   ]
  },
  {
   "cell_type": "markdown",
   "metadata": {},
   "source": [
    "Note que pasa cuadno se muestra el vector"
   ]
  },
  {
   "cell_type": "code",
   "execution_count": null,
   "metadata": {},
   "outputs": [],
   "source": [
    "temps"
   ]
  },
  {
   "cell_type": "markdown",
   "metadata": {},
   "source": [
    "¡Ahora podemos comenzar a ver cómo se les asignaron nombres a los elementos! Dependiendo de qué IDE esté utilizando, puede ver lo que se muestra arriba horizontalmente o verticalmente, podemos usar el uso simple de un nombre de variable como asignación de `names()`, por ejemplo:"
   ]
  },
  {
   "cell_type": "code",
   "execution_count": null,
   "metadata": {},
   "outputs": [],
   "source": [
    "days <- c('Mon','Tue','Wed','Thu','Fri','Sat','Sun')\n",
    "temps2 <- c(1,2,3,4,5,6,7)\n",
    "names(temps2) <- days"
   ]
  },
  {
   "cell_type": "code",
   "execution_count": null,
   "metadata": {},
   "outputs": [],
   "source": [
    "temps2"
   ]
  },
  {
   "cell_type": "markdown",
   "metadata": {},
   "source": [
    "## Operaciones con Vectores\n",
    "Podemos realizar aritmética básica con vectores y las operaciones se realizarán elemento a elemento, por ejemplo:"
   ]
  },
  {
   "cell_type": "code",
   "execution_count": null,
   "metadata": {},
   "outputs": [],
   "source": [
    "v1 <- c(1,2,3)\n",
    "v2 <- c(5,6,7)"
   ]
  },
  {
   "cell_type": "markdown",
   "metadata": {},
   "source": [
    "### Suma de Vectores"
   ]
  },
  {
   "cell_type": "code",
   "execution_count": null,
   "metadata": {},
   "outputs": [],
   "source": [
    "v1+v2"
   ]
  },
  {
   "cell_type": "markdown",
   "metadata": {},
   "source": [
    "### Resta de Vectores"
   ]
  },
  {
   "cell_type": "code",
   "execution_count": null,
   "metadata": {},
   "outputs": [],
   "source": [
    "v1-v1"
   ]
  },
  {
   "cell_type": "code",
   "execution_count": null,
   "metadata": {},
   "outputs": [],
   "source": [
    "v1-v2"
   ]
  },
  {
   "cell_type": "markdown",
   "metadata": {},
   "source": [
    "### Multiplicacion de Vectores"
   ]
  },
  {
   "cell_type": "code",
   "execution_count": null,
   "metadata": {},
   "outputs": [],
   "source": [
    "v1*v2"
   ]
  },
  {
   "cell_type": "markdown",
   "metadata": {},
   "source": [
    "### Division de vectores"
   ]
  },
  {
   "cell_type": "code",
   "execution_count": null,
   "metadata": {},
   "outputs": [],
   "source": [
    "v1/v2"
   ]
  },
  {
   "cell_type": "markdown",
   "metadata": {},
   "source": [
    "## Funciones con vectores. \n",
    "Aprendamos algunas funciones útiles que podemos usar con vectores. Una función tendrá el siguiente formato: `nombre_de_la_funcion(input)` Luego aprenderemos a crear nuestras propias funciones, pero R viene con una gran cantidad de funciones integradas que usará habitualmente. Por ejemplo, si desea sumar todos los elementos en un vector numérico, puede usar la función `sum()`. Por ejemplo:"
   ]
  },
  {
   "cell_type": "code",
   "execution_count": null,
   "metadata": {},
   "outputs": [],
   "source": [
    "v1"
   ]
  },
  {
   "cell_type": "code",
   "execution_count": null,
   "metadata": {},
   "outputs": [],
   "source": [
    "sum(v1)"
   ]
  },
  {
   "cell_type": "markdown",
   "metadata": {},
   "source": [
    "También podemos verificar cosas como la desviación estándar, la varianza, el elemento máximo, el elemento mínimo, el producto de los elementos:"
   ]
  },
  {
   "cell_type": "code",
   "execution_count": null,
   "metadata": {},
   "outputs": [],
   "source": [
    "v <- c(12,45,100,2)"
   ]
  },
  {
   "cell_type": "code",
   "execution_count": null,
   "metadata": {},
   "outputs": [],
   "source": [
    "# Desviacion estandar\n",
    "sd(v)"
   ]
  },
  {
   "cell_type": "code",
   "execution_count": null,
   "metadata": {},
   "outputs": [],
   "source": [
    "# Varianza\n",
    "var(v)"
   ]
  },
  {
   "cell_type": "code",
   "execution_count": null,
   "metadata": {},
   "outputs": [],
   "source": [
    "# Elemento con valor maximo\n",
    "max(v)"
   ]
  },
  {
   "cell_type": "code",
   "execution_count": null,
   "metadata": {},
   "outputs": [],
   "source": [
    "#Elemento con el minimo valor\n",
    "min(v)"
   ]
  },
  {
   "cell_type": "code",
   "execution_count": null,
   "metadata": {},
   "outputs": [],
   "source": [
    "# Producto interno de los elementos\n",
    "prod(v1)\n",
    "prod(v2)"
   ]
  },
  {
   "cell_type": "code",
   "execution_count": null,
   "metadata": {},
   "outputs": [],
   "source": [
    "# Una de las funciones mas utiles es summary()\n",
    "# que nos da la informacion estadistica de cuartiles\n",
    "summary(v)"
   ]
  },
  {
   "cell_type": "markdown",
   "metadata": {},
   "source": [
    "Referencia a todas las funciones de R en: https://cran.r-project.org/doc/contrib/Short-refcard.pdf"
   ]
  },
  {
   "cell_type": "markdown",
   "metadata": {},
   "source": [
    "## Indexación y slicing de vectores: \n",
    "Se usan los corchetes para indexar y acceder a elementos individuales desde un vector, **el index empieza en 1**:"
   ]
  },
  {
   "cell_type": "code",
   "execution_count": null,
   "metadata": {},
   "outputs": [],
   "source": [
    "v1 <- c(100,200,300)\n",
    "v2 <- c('a','b','c')"
   ]
  },
  {
   "cell_type": "code",
   "execution_count": null,
   "metadata": {},
   "outputs": [],
   "source": [
    "v1\n",
    "v2"
   ]
  },
  {
   "cell_type": "markdown",
   "metadata": {},
   "source": [
    "La indexación funciona usando corchetes y pasando la posición del índice del elemento como un número. **Tenga en cuenta que el índice comienza en 1** (en otros lenguajes de programación la indexación comienza en 0 por ejemplo Python, C++)."
   ]
  },
  {
   "cell_type": "code",
   "execution_count": null,
   "metadata": {},
   "outputs": [],
   "source": [
    "# Obtener el segundo elemento\n",
    "v1[2]"
   ]
  },
  {
   "cell_type": "code",
   "execution_count": null,
   "metadata": {},
   "outputs": [],
   "source": [
    "v2[2]"
   ]
  },
  {
   "cell_type": "markdown",
   "metadata": {},
   "source": [
    "### Indexación múltiple\n",
    "Podemos tomar múltiples elementos de un vector pasando un vector con las posiciones de los índices dentro de los corchetes. Por ejemplo:"
   ]
  },
  {
   "cell_type": "code",
   "execution_count": null,
   "metadata": {},
   "outputs": [],
   "source": [
    "v1[c(1,2)] # tomar el elemento 1 y 2"
   ]
  },
  {
   "cell_type": "code",
   "execution_count": null,
   "metadata": {},
   "outputs": [],
   "source": [
    "v2[c(2,3)] # tomar el elemento 2 y 3"
   ]
  },
  {
   "cell_type": "code",
   "execution_count": null,
   "metadata": {},
   "outputs": [],
   "source": [
    "v2[c(1,3)] # tomar el elemento 1 y 3"
   ]
  },
  {
   "cell_type": "markdown",
   "metadata": {},
   "source": [
    "### Slicing\n",
    "Puede usar dos puntos (:) para indicar una porción de un vector. \n",
    "\n",
    "El formato es: `vector[inicio_index: final_index]`\n",
    "\n",
    "**Se incluye los elementos del inicio y final**\n",
    "\n",
    "Por ejemplo:"
   ]
  },
  {
   "cell_type": "code",
   "execution_count": null,
   "metadata": {},
   "outputs": [],
   "source": [
    "v <- c(1,2,3,4,5,6,7,8,9,10)"
   ]
  },
  {
   "cell_type": "code",
   "execution_count": null,
   "metadata": {},
   "outputs": [],
   "source": [
    "v[2:4] # La indexacionempieza desde el numero 1"
   ]
  },
  {
   "cell_type": "code",
   "execution_count": null,
   "metadata": {},
   "outputs": [],
   "source": [
    "v[7:10]"
   ]
  },
  {
   "cell_type": "markdown",
   "metadata": {},
   "source": [
    "### Indexacion con nombres"
   ]
  },
  {
   "cell_type": "code",
   "execution_count": null,
   "metadata": {},
   "outputs": [],
   "source": [
    "v <- c(1,2,3,4)\n",
    "names(v) <- c('a','b','c','d')"
   ]
  },
  {
   "cell_type": "code",
   "execution_count": null,
   "metadata": {},
   "outputs": [],
   "source": [
    "v['a']"
   ]
  },
  {
   "cell_type": "code",
   "execution_count": null,
   "metadata": {},
   "outputs": [],
   "source": [
    "# Se pueden llamar en cualquier orden!\n",
    "v[c('a','c','b')]"
   ]
  },
  {
   "cell_type": "markdown",
   "metadata": {},
   "source": [
    "## Operadores de comparación y selección\n",
    "Se puede usar operadores de comparación para filtrar elementos de un vector. A veces esto se conoce como enmascaramiento lógico/booleano, porque está creando un vector de valores lógicos para filtrar los resultados que desea. "
   ]
  },
  {
   "cell_type": "code",
   "execution_count": null,
   "metadata": {},
   "outputs": [],
   "source": [
    "v"
   ]
  },
  {
   "cell_type": "code",
   "execution_count": null,
   "metadata": {},
   "outputs": [],
   "source": [
    "v>2"
   ]
  },
  {
   "cell_type": "markdown",
   "metadata": {},
   "source": [
    "Pasamos este vector de valores lógicos a través de los paréntesis del vector y solo devolvemos los valores donde sea verdadera la condicion:"
   ]
  },
  {
   "cell_type": "code",
   "execution_count": null,
   "metadata": {},
   "outputs": [],
   "source": [
    "v[v>2]"
   ]
  },
  {
   "cell_type": "markdown",
   "metadata": {},
   "source": [
    "Podemos asignarles nombres a las comparaciones logicas"
   ]
  },
  {
   "cell_type": "code",
   "execution_count": null,
   "metadata": {},
   "outputs": [],
   "source": [
    "filter <- v>2"
   ]
  },
  {
   "cell_type": "code",
   "execution_count": null,
   "metadata": {},
   "outputs": [],
   "source": [
    "filter"
   ]
  },
  {
   "cell_type": "code",
   "execution_count": null,
   "metadata": {},
   "outputs": [],
   "source": [
    "v[filter]"
   ]
  },
  {
   "cell_type": "markdown",
   "metadata": {},
   "source": [
    "# Operadores de Comparacion\n",
    "En R, podemos usar operadores de comparación para comparar variables y devolver valores lógico\n",
    "\n",
    "**Mayor que**"
   ]
  },
  {
   "cell_type": "code",
   "execution_count": null,
   "metadata": {},
   "outputs": [],
   "source": [
    "5 > 6"
   ]
  },
  {
   "cell_type": "code",
   "execution_count": null,
   "metadata": {},
   "outputs": [],
   "source": [
    "6 > 5"
   ]
  },
  {
   "cell_type": "markdown",
   "metadata": {},
   "source": [
    "Se puede hacer elemento a elemento en un vector"
   ]
  },
  {
   "cell_type": "code",
   "execution_count": null,
   "metadata": {},
   "outputs": [],
   "source": [
    "v1 <- c(1,2,3)\n",
    "v2 <- c(10,20,30)"
   ]
  },
  {
   "cell_type": "code",
   "execution_count": null,
   "metadata": {},
   "outputs": [],
   "source": [
    "v1 < v2"
   ]
  },
  {
   "cell_type": "markdown",
   "metadata": {},
   "source": [
    "**Mayor o Igual que**\n"
   ]
  },
  {
   "cell_type": "code",
   "execution_count": null,
   "metadata": {},
   "outputs": [],
   "source": [
    "6 >= 6"
   ]
  },
  {
   "cell_type": "code",
   "execution_count": null,
   "metadata": {},
   "outputs": [],
   "source": [
    "6 >= 5"
   ]
  },
  {
   "cell_type": "code",
   "execution_count": null,
   "metadata": {},
   "outputs": [],
   "source": [
    "6 >= 7"
   ]
  },
  {
   "cell_type": "markdown",
   "metadata": {},
   "source": [
    "**Menor y Menor o igual que**"
   ]
  },
  {
   "cell_type": "code",
   "execution_count": null,
   "metadata": {},
   "outputs": [],
   "source": [
    "3 < 2"
   ]
  },
  {
   "cell_type": "code",
   "execution_count": null,
   "metadata": {},
   "outputs": [],
   "source": [
    "2 <= 2"
   ]
  },
  {
   "cell_type": "markdown",
   "metadata": {},
   "source": [
    "**!Mucho cuidado con los operadores de comparación y los números negativos!**  se Recomienda usar espaciado para mantener las cosas claras. Un ejemplo de una situación peligrosa:"
   ]
  },
  {
   "cell_type": "code",
   "execution_count": null,
   "metadata": {},
   "outputs": [],
   "source": [
    "var <- 1"
   ]
  },
  {
   "cell_type": "code",
   "execution_count": null,
   "metadata": {},
   "outputs": [],
   "source": [
    "var"
   ]
  },
  {
   "cell_type": "code",
   "execution_count": null,
   "metadata": {},
   "outputs": [],
   "source": [
    "# Comparando var menor que  -2\n",
    "var < -2"
   ]
  },
  {
   "cell_type": "code",
   "execution_count": null,
   "metadata": {},
   "outputs": [],
   "source": [
    "# Accidentalmente se reasgina var\n",
    "var <- 2"
   ]
  },
  {
   "cell_type": "code",
   "execution_count": null,
   "metadata": {},
   "outputs": [],
   "source": [
    "var"
   ]
  },
  {
   "cell_type": "markdown",
   "metadata": {},
   "source": [
    "**Diferente**"
   ]
  },
  {
   "cell_type": "code",
   "execution_count": null,
   "metadata": {},
   "outputs": [],
   "source": [
    "5 != 2"
   ]
  },
  {
   "cell_type": "code",
   "execution_count": null,
   "metadata": {},
   "outputs": [],
   "source": [
    "5 != 5"
   ]
  },
  {
   "cell_type": "markdown",
   "metadata": {},
   "source": [
    "**Igual**"
   ]
  },
  {
   "cell_type": "code",
   "execution_count": null,
   "metadata": {},
   "outputs": [],
   "source": [
    "5 == 5"
   ]
  },
  {
   "cell_type": "code",
   "execution_count": null,
   "metadata": {},
   "outputs": [],
   "source": [
    "2 == 3"
   ]
  },
  {
   "cell_type": "markdown",
   "metadata": {},
   "source": [
    "## Comparacion con Vectores"
   ]
  },
  {
   "cell_type": "code",
   "execution_count": null,
   "metadata": {},
   "outputs": [],
   "source": [
    "v <- c(1,2,3,4,5)"
   ]
  },
  {
   "cell_type": "code",
   "execution_count": null,
   "metadata": {},
   "outputs": [],
   "source": [
    "v < 2"
   ]
  },
  {
   "cell_type": "code",
   "execution_count": null,
   "metadata": {},
   "outputs": [],
   "source": [
    "v == 3"
   ]
  },
  {
   "cell_type": "markdown",
   "metadata": {},
   "source": [
    "---\n",
    "# Matrices con R"
   ]
  },
  {
   "cell_type": "markdown",
   "metadata": {},
   "source": [
    "## Crear una Matriz\n",
    "Hemos aprendido acerca de los vectores que nos permiten almacenar elementos indexados. Una matriz nos permitirá tener una estructura de datos bidimensional que contiene elementos que constan del mismo tipo de datos. Antes de hablar sobre Matrix, debemos mostrar un consejo rápido para crear rápidamente vectores numéricos secuenciales, puede usar la notación de dos puntos de la división para crear vectores secuenciales:"
   ]
  },
  {
   "cell_type": "code",
   "execution_count": null,
   "metadata": {},
   "outputs": [],
   "source": [
    "1:10"
   ]
  },
  {
   "cell_type": "code",
   "execution_count": null,
   "metadata": {},
   "outputs": [],
   "source": [
    "v <- 1:10\n",
    "v"
   ]
  },
  {
   "cell_type": "markdown",
   "metadata": {},
   "source": [
    "Para crear una matriz en R, se usa la función `matrix()`. Podemos pasar un vector en la matriz:"
   ]
  },
  {
   "cell_type": "code",
   "execution_count": null,
   "metadata": {},
   "outputs": [],
   "source": [
    "matrix(v) #Matriz de una sola dimension"
   ]
  },
  {
   "cell_type": "markdown",
   "metadata": {},
   "source": [
    "Observe cómo se muestra la salida. Aquí tenemos una matriz bidimensional que tiene 10 filas por 1 columna. Ahora, ¿qué pasa si queremos especificar el número de filas? Podemos pasar el parámetro / argumento a la función de matriz llamada `nrow` que representa el número de filas:"
   ]
  },
  {
   "cell_type": "code",
   "execution_count": null,
   "metadata": {},
   "outputs": [],
   "source": [
    "matrix(v,nrow=2)"
   ]
  },
  {
   "cell_type": "markdown",
   "metadata": {},
   "source": [
    "Ahora tenemos una matriz de 2 por 5. Tenga en cuenta que el argumento `nrow` permite que esto suceda. ¿Pero cómo decidimos la orden de relleno? Podríamos haber puesto columnas primero (como lo hicimos anteriormente) o haber completado las primeras filas de orden insecuencial. El argumento `byrow` le permite especificar si desea completar o no la matriz por filas o columnas. Por ejemplo:"
   ]
  },
  {
   "cell_type": "code",
   "execution_count": null,
   "metadata": {},
   "outputs": [],
   "source": [
    "matrix(1:12,byrow = FALSE,nrow=4)"
   ]
  },
  {
   "cell_type": "code",
   "execution_count": null,
   "metadata": {},
   "outputs": [],
   "source": [
    "matrix(1:12, byrow=TRUE, nrow=4)"
   ]
  },
  {
   "cell_type": "code",
   "execution_count": null,
   "metadata": {},
   "outputs": [],
   "source": [
    "v"
   ]
  },
  {
   "cell_type": "markdown",
   "metadata": {},
   "source": [
    "## Crear Matrices de Vectores\n",
    "\n",
    "Podemos combinar vectores para luego ingresarlos en una matriz. Por ejemplo, imagine los siguientes vectores a continuación de los precios de las acciones:"
   ]
  },
  {
   "cell_type": "code",
   "execution_count": null,
   "metadata": {},
   "outputs": [],
   "source": [
    "# no son valores reales\n",
    "goog <- c(450,451,452,445,468)\n",
    "msft <- c(230,231,232,236,228)"
   ]
  },
  {
   "cell_type": "code",
   "execution_count": null,
   "metadata": {},
   "outputs": [],
   "source": [
    "stocks <- c(goog,msft)"
   ]
  },
  {
   "cell_type": "code",
   "execution_count": null,
   "metadata": {},
   "outputs": [],
   "source": [
    "stock.matrix <- matrix(stocks,byrow=TRUE,nrow=2)"
   ]
  },
  {
   "cell_type": "code",
   "execution_count": null,
   "metadata": {},
   "outputs": [],
   "source": [
    "stock.matrix"
   ]
  },
  {
   "cell_type": "markdown",
   "metadata": {},
   "source": [
    "## Nombrando matrices \n",
    "Ahora que tenemos nuestra matriz, sería bueno nombrar las filas y columnas para referencia. Podemos hacer esto de forma similar a la función `names()` para vectores, pero en este caso definimos `colnames()` y `rownames()`."
   ]
  },
  {
   "cell_type": "code",
   "execution_count": null,
   "metadata": {},
   "outputs": [],
   "source": [
    "days <- c('Mon','Tue','Wed','Thu','Fri')\n",
    "st.names <- c('GOOG','MSFT')"
   ]
  },
  {
   "cell_type": "code",
   "execution_count": null,
   "metadata": {},
   "outputs": [],
   "source": [
    "colnames(stock.matrix) <- days\n",
    "rownames(stock.matrix) <- st.names"
   ]
  },
  {
   "cell_type": "code",
   "execution_count": null,
   "metadata": {},
   "outputs": [],
   "source": [
    "stock.matrix"
   ]
  },
  {
   "cell_type": "markdown",
   "metadata": {},
   "source": [
    "## Aritmetica de Matrices\n",
    "Podemos realizar operaciones matemáticas elemento por elemento en una matriz con un escalar (número único) al igual que con los vectores."
   ]
  },
  {
   "cell_type": "code",
   "execution_count": null,
   "metadata": {},
   "outputs": [],
   "source": [
    "mat <- matrix(1:50,byrow=TRUE,nrow=5)\n",
    "mat"
   ]
  },
  {
   "cell_type": "code",
   "execution_count": null,
   "metadata": {},
   "outputs": [],
   "source": [
    "# Multiplicacion\n",
    "2*mat"
   ]
  },
  {
   "cell_type": "code",
   "execution_count": null,
   "metadata": {},
   "outputs": [],
   "source": [
    "# Division\n",
    "1/mat"
   ]
  },
  {
   "cell_type": "code",
   "execution_count": null,
   "metadata": {},
   "outputs": [],
   "source": [
    "# Division\n",
    "mat/2"
   ]
  },
  {
   "cell_type": "code",
   "execution_count": null,
   "metadata": {},
   "outputs": [],
   "source": [
    "# Potencia\n",
    "mat ^ 2"
   ]
  },
  {
   "cell_type": "markdown",
   "metadata": {},
   "source": [
    "## Operadores de comparacion con Matrices"
   ]
  },
  {
   "cell_type": "code",
   "execution_count": null,
   "metadata": {},
   "outputs": [],
   "source": [
    "mat > 17"
   ]
  },
  {
   "cell_type": "markdown",
   "metadata": {},
   "source": [
    "## Aritmetica con matrices\n",
    "Elemento a elemento"
   ]
  },
  {
   "cell_type": "code",
   "execution_count": null,
   "metadata": {},
   "outputs": [],
   "source": [
    "mat + mat"
   ]
  },
  {
   "cell_type": "code",
   "execution_count": null,
   "metadata": {},
   "outputs": [],
   "source": [
    "mat / mat"
   ]
  },
  {
   "cell_type": "code",
   "execution_count": null,
   "metadata": {},
   "outputs": [],
   "source": [
    "#Cuidado, puede dar numeros grandes\n",
    "mat ^ mat"
   ]
  },
  {
   "cell_type": "code",
   "execution_count": null,
   "metadata": {},
   "outputs": [],
   "source": [
    "mat*mat"
   ]
  },
  {
   "cell_type": "markdown",
   "metadata": {},
   "source": [
    "## Multiplicación de Matrices"
   ]
  },
  {
   "cell_type": "code",
   "execution_count": null,
   "metadata": {},
   "outputs": [],
   "source": [
    "mat2 <- matrix(1:9, nrow=3)"
   ]
  },
  {
   "cell_type": "code",
   "execution_count": null,
   "metadata": {},
   "outputs": [],
   "source": [
    "mat2"
   ]
  },
  {
   "cell_type": "code",
   "execution_count": null,
   "metadata": {},
   "outputs": [],
   "source": [
    "# Verdadera Multiplicacion de Matrices\n",
    "mat2 %*% mat2"
   ]
  },
  {
   "cell_type": "markdown",
   "metadata": {},
   "source": [
    "## Operaciones de matriz\n",
    "\n",
    "Ahora que aprendimos cómo crear una matriz, ¡aprendamos a usar funciones y realizar operaciones en ella!"
   ]
  },
  {
   "cell_type": "code",
   "execution_count": null,
   "metadata": {},
   "outputs": [],
   "source": [
    "# Precios\n",
    "goog <- c(450,451,452,445,468)\n",
    "msft <- c(230,231,232,236,228)\n",
    "\n",
    "# Poner los vectores en la matriz\n",
    "stocks <- c(goog,msft)\n",
    "stock.matrix <- matrix(stocks,byrow=TRUE,nrow=2)\n",
    "\n",
    "# Nombrar la matriz\n",
    "days <- c('Mon','Tue','Wed','Thu','Fri')\n",
    "st.names <- c('GOOG','MSFT')\n",
    "colnames(stock.matrix) <- days\n",
    "rownames(stock.matrix) <- st.names\n",
    "\n",
    "# Mostrarla\n",
    "stock.matrix"
   ]
  },
  {
   "cell_type": "markdown",
   "metadata": {},
   "source": [
    "Podemosrealizar funciones atraves de las columnas como `colSums()`"
   ]
  },
  {
   "cell_type": "code",
   "execution_count": null,
   "metadata": {},
   "outputs": [],
   "source": [
    "# Por columnas\n",
    "colSums(stock.matrix)"
   ]
  },
  {
   "cell_type": "code",
   "execution_count": null,
   "metadata": {},
   "outputs": [],
   "source": [
    "# Por filas\n",
    "rowSums(stock.matrix)"
   ]
  },
  {
   "cell_type": "markdown",
   "metadata": {},
   "source": [
    "Tambien se pueden hacer diferentes operaciones matematicas,para mas informacion de todas las funciones disponibles: https://cran.r-project.org/doc/contrib/Short-refcard.pdf"
   ]
  },
  {
   "cell_type": "code",
   "execution_count": null,
   "metadata": {},
   "outputs": [],
   "source": [
    "# el valor promedio de cada fila\n",
    "rowMeans(stock.matrix)"
   ]
  },
  {
   "cell_type": "markdown",
   "metadata": {},
   "source": [
    "## Agregar columnas y filas\n",
    "Con `cbind()` se agregan nuevas columnas, y `rbind()` para nuevas filas."
   ]
  },
  {
   "cell_type": "code",
   "execution_count": null,
   "metadata": {},
   "outputs": [],
   "source": [
    "FB <- c(111,112,113,120,145)"
   ]
  },
  {
   "cell_type": "code",
   "execution_count": null,
   "metadata": {},
   "outputs": [],
   "source": [
    "tech.stocks <- rbind(stock.matrix,FB)"
   ]
  },
  {
   "cell_type": "code",
   "execution_count": null,
   "metadata": {},
   "outputs": [],
   "source": [
    "tech.stocks"
   ]
  },
  {
   "cell_type": "markdown",
   "metadata": {},
   "source": [
    "Ahora agreguemos una columna con el valor promedio a la matriz:"
   ]
  },
  {
   "cell_type": "code",
   "execution_count": null,
   "metadata": {},
   "outputs": [],
   "source": [
    "avg <- rowMeans(tech.stocks)"
   ]
  },
  {
   "cell_type": "code",
   "execution_count": null,
   "metadata": {},
   "outputs": [],
   "source": [
    "avg"
   ]
  },
  {
   "cell_type": "code",
   "execution_count": null,
   "metadata": {},
   "outputs": [],
   "source": [
    "tech.stocks <- cbind(tech.stocks,avg)"
   ]
  },
  {
   "cell_type": "code",
   "execution_count": null,
   "metadata": {},
   "outputs": [],
   "source": [
    "tech.stocks"
   ]
  },
  {
   "cell_type": "markdown",
   "metadata": {},
   "source": [
    "## Selección e indexación de matrices\n",
    "\n",
    "Al igual que con los vectores, utilizamos la notación de corchetes para seleccionar elementos de una matriz. Como tenemos dos dimensiones para trabajar, utilizaremos una coma para separar la indexación para cada dimensión. La sintaxis es:\n",
    "\n",
    "`matriz.ejemplo[filas, columnas]` \n",
    "\n",
    "Si cualquiera de las filas o columnas se deja en blanco, entonces estamos seleccionando todas las filas y columnas."
   ]
  },
  {
   "cell_type": "code",
   "execution_count": null,
   "metadata": {},
   "outputs": [],
   "source": [
    "# Creando una matriz de 50elementos de 5 x10\n",
    "mat <- matrix(1:50,byrow=TRUE,nrow=5)"
   ]
  },
  {
   "cell_type": "code",
   "execution_count": null,
   "metadata": {},
   "outputs": [],
   "source": [
    "mat"
   ]
  },
  {
   "cell_type": "code",
   "execution_count": null,
   "metadata": {},
   "outputs": [],
   "source": [
    "# Tomar la primera fila\n",
    "mat[1,]"
   ]
  },
  {
   "cell_type": "code",
   "execution_count": null,
   "metadata": {},
   "outputs": [],
   "source": [
    "# Tomarla primera columna\n",
    "mat[,1]"
   ]
  },
  {
   "cell_type": "code",
   "execution_count": null,
   "metadata": {},
   "outputs": [],
   "source": [
    "# Tomar las primeras 3 filas\n",
    "mat[1:3,]"
   ]
  },
  {
   "cell_type": "code",
   "execution_count": null,
   "metadata": {},
   "outputs": [],
   "source": [
    "# Tomar diferente numero de filas y columnas\n",
    "# 1,2,3\n",
    "# 11,12,13\n",
    "#\n",
    "mat[1:2,1:3]"
   ]
  },
  {
   "cell_type": "code",
   "execution_count": null,
   "metadata": {},
   "outputs": [],
   "source": [
    "#Tomar las dos ultimas columnas\n",
    "mat[,9:10]"
   ]
  },
  {
   "cell_type": "code",
   "execution_count": null,
   "metadata": {},
   "outputs": [],
   "source": [
    "# Tomar los valores centrales\n",
    "# 15,16\n",
    "# 25,26\n",
    "mat[2:3,5:6]"
   ]
  },
  {
   "cell_type": "markdown",
   "metadata": {},
   "source": [
    "## Factor y Matrices categoricas\n",
    "la función `factor()` sirve para crear matrices categóricas. Esta función específica será extremadamente útil cuando comencemos a aplicar técnicas de análisis de datos y aprendizaje automático a nuestros datos, esta idea a veces también se conoce como la creación de dummy variables (variables ficticias).\n",
    "\n",
    "\n",
    "Comencemos mostrando un ejemplo de por qué y cómo construimos esta matriz. Imagine que tenemos los siguientes vectores que representan datos de un santuario de animales para dogs('d') y cats('c'), donde cada uno tiene un número de identificación correspondiente en otro vector."
   ]
  },
  {
   "cell_type": "code",
   "execution_count": null,
   "metadata": {},
   "outputs": [],
   "source": [
    "animal <- c('d','c','d','c','c')\n",
    "id <- c(1,2,3,4,5)"
   ]
  },
  {
   "cell_type": "markdown",
   "metadata": {},
   "source": [
    "Queremos convertir el vector animal en información que un algoritmo o ecuación pueda comprender más fácilmente. Lo que significa que queremos comenzar a verificar cuántas categorías (niveles de factores) hay en nuestro vector de caracteres. Esto se hace con la funcion `factor()`"
   ]
  },
  {
   "cell_type": "code",
   "execution_count": null,
   "metadata": {},
   "outputs": [],
   "source": [
    "factor.ani <- factor(animal)"
   ]
  },
  {
   "cell_type": "code",
   "execution_count": null,
   "metadata": {},
   "outputs": [],
   "source": [
    "# Ver los niveles creados\n",
    "factor.ani"
   ]
  },
  {
   "cell_type": "markdown",
   "metadata": {},
   "source": [
    "Podemos ver que tenemos dos niveles, 'd' y 'c'. En R hay dos tipos distintos de variables categóricas, una variable categórica ordinal y una variable categórica nominal \n",
    "\n",
    "Las variables categóricas nominales no tienen ningún orden, como perros y gatos (no hay ningún orden para ellos). Versus Las variables categóricas ordinales (como su nombre lo indica) sí tienen un orden. Por ejemplo, si tuvieras el vector:"
   ]
  },
  {
   "cell_type": "code",
   "execution_count": null,
   "metadata": {},
   "outputs": [],
   "source": [
    "ord.cat <- c('frio','tibio','caliente')"
   ]
  },
  {
   "cell_type": "markdown",
   "metadata": {},
   "source": [
    "Puede comenzar a asignar para estas variables, como: frio tibio caliente si quiere asignar un orden mientras usa la función `factor()`, puede pasar los argumentos ordenados = True y el pase los niveles = y pasar en un vector en el orden en que desea que estén los niveles. Por ejemplo:"
   ]
  },
  {
   "cell_type": "code",
   "execution_count": null,
   "metadata": {},
   "outputs": [],
   "source": [
    "temps <- c('frio','tibio','frio','tibio','caliente','caliente','frio')\n",
    "fact.temp <- factor(temps,ordered=TRUE,levels=c('frio','tibio','caliente'))\n",
    "fact.temp"
   ]
  },
  {
   "cell_type": "markdown",
   "metadata": {},
   "source": [
    "Esta información es útil cuando se usa junto con la función `summary()` que es una función sorprendentemente conveniente para obtener rápidamente información de una matriz o vector."
   ]
  },
  {
   "cell_type": "code",
   "execution_count": null,
   "metadata": {},
   "outputs": [],
   "source": [
    "summary(temps)"
   ]
  },
  {
   "cell_type": "code",
   "execution_count": null,
   "metadata": {},
   "outputs": [],
   "source": [
    "summary(fact.temp)"
   ]
  },
  {
   "cell_type": "markdown",
   "metadata": {},
   "source": [
    "---\n",
    "# Dataframes en R\n",
    "Los Dataframes son una de las herramientas principales para el análisis de datos con R! Las entradas de la matriz eran limitadas porque todos los datos dentro de la matriz tenían que ser del mismo tipo de datos (numéricos, lógicos, etc.). ¡Con Dataframes podremos organizar y mezclar tipos de datos para crear una herramienta de estructura de datos muy poderosa!"
   ]
  },
  {
   "cell_type": "code",
   "execution_count": null,
   "metadata": {},
   "outputs": [],
   "source": [
    "# Dataframe sobre states\n",
    "state.x77"
   ]
  },
  {
   "cell_type": "code",
   "execution_count": null,
   "metadata": {},
   "outputs": [],
   "source": [
    "# Gastos personales en US\n",
    "USPersonalExpenditure"
   ]
  },
  {
   "cell_type": "code",
   "execution_count": null,
   "metadata": {},
   "outputs": [],
   "source": [
    "# Mujeres\n",
    "women"
   ]
  },
  {
   "cell_type": "markdown",
   "metadata": {},
   "source": [
    "Para obtener una lista de dataframes pre-instalados en R,use `data()`"
   ]
  },
  {
   "cell_type": "code",
   "execution_count": null,
   "metadata": {},
   "outputs": [],
   "source": [
    "data()"
   ]
  },
  {
   "cell_type": "markdown",
   "metadata": {},
   "source": [
    "## Trabajando con Dataframes\n",
    "Cuando el dataframe es muy grande se puede usar la funcion `head()` y `tail()` para ver las primeras o ultimas 6 filas respectivamente."
   ]
  },
  {
   "cell_type": "code",
   "execution_count": null,
   "metadata": {},
   "outputs": [],
   "source": [
    "#Asignacionde variable para escribir menos :)\n",
    "states <- state.x77"
   ]
  },
  {
   "cell_type": "code",
   "execution_count": null,
   "metadata": {},
   "outputs": [],
   "source": [
    "head(states) #primeras 6 filas"
   ]
  },
  {
   "cell_type": "code",
   "execution_count": null,
   "metadata": {},
   "outputs": [],
   "source": [
    "tail(states) #ultimas 6 filas"
   ]
  },
  {
   "cell_type": "markdown",
   "metadata": {},
   "source": [
    "## Informacion General de los DataFrames\n",
    "`str()` entrega la informacion de la estructura del dataframe y el tipo de datos que contiene, como el nombre de las variables y el tipo de datos.\n",
    "\n",
    "`summary()` para obtener rapidamente informacion estadistica de cada columna, dependiendo de los datos puede ser su utilidad."
   ]
  },
  {
   "cell_type": "code",
   "execution_count": null,
   "metadata": {},
   "outputs": [],
   "source": [
    "# Resumen estadistico de los datos\n",
    "summary(states)"
   ]
  },
  {
   "cell_type": "code",
   "execution_count": null,
   "metadata": {},
   "outputs": [],
   "source": [
    "# Estrutura de los Datos\n",
    "str(states)"
   ]
  },
  {
   "cell_type": "markdown",
   "metadata": {},
   "source": [
    "## Crear Dataframes\n",
    "\n",
    "Podemos crear dataframes usando la función `data.frame()` y pasar vectores como argumentos, que luego convertirán los vectores en columnas del marco de datos."
   ]
  },
  {
   "cell_type": "code",
   "execution_count": null,
   "metadata": {},
   "outputs": [],
   "source": [
    "empty <- data.frame() # data frame vacio\n",
    "\n",
    "c1 <- 1:10 # vector de enteros\n",
    "\n",
    "c2 <- letters[1:10] # vector de strings\n",
    "\n",
    "df <- data.frame(col.name.1=c1,col.name.2=c2)"
   ]
  },
  {
   "cell_type": "code",
   "execution_count": null,
   "metadata": {},
   "outputs": [],
   "source": [
    "df"
   ]
  },
  {
   "cell_type": "code",
   "execution_count": null,
   "metadata": {},
   "outputs": [],
   "source": [
    "# Ejemplo con valores\n",
    "# Algunos datos de la temperatura de los dias\n",
    "days <- c('mon','tue','wed','thu','fri')\n",
    "temp <- c(22.2,21,23,24.3,25)\n",
    "rain <- c(TRUE, TRUE, FALSE, FALSE, TRUE)"
   ]
  },
  {
   "cell_type": "code",
   "execution_count": null,
   "metadata": {},
   "outputs": [],
   "source": [
    "# Conviertiendo los vectores en dataframe\n",
    "df <- data.frame(days,temp,rain)"
   ]
  },
  {
   "cell_type": "code",
   "execution_count": null,
   "metadata": {},
   "outputs": [],
   "source": [
    "df"
   ]
  },
  {
   "cell_type": "code",
   "execution_count": null,
   "metadata": {},
   "outputs": [],
   "source": [
    "# estructura\n",
    "str(df)"
   ]
  },
  {
   "cell_type": "code",
   "execution_count": null,
   "metadata": {},
   "outputs": [],
   "source": [
    "# Resumen estadistico\n",
    "summary(df)"
   ]
  },
  {
   "cell_type": "markdown",
   "metadata": {},
   "source": [
    "## Seleccion e Indexacion de Dataframes\n",
    "Se realiza utilizando corchetes [  ] y de la misma forma que con matrices\n",
    "`df[filas,columnas]`"
   ]
  },
  {
   "cell_type": "code",
   "execution_count": null,
   "metadata": {},
   "outputs": [],
   "source": [
    "# Toda la fila 1\n",
    "df[1,]"
   ]
  },
  {
   "cell_type": "code",
   "execution_count": null,
   "metadata": {},
   "outputs": [],
   "source": [
    "# Toda la columna 1\n",
    "df[,1]"
   ]
  },
  {
   "cell_type": "code",
   "execution_count": null,
   "metadata": {},
   "outputs": [],
   "source": [
    "# Tomar los datos del viernes\n",
    "df[5,]"
   ]
  },
  {
   "cell_type": "markdown",
   "metadata": {},
   "source": [
    "## Seleccion usando nombres de columnas\n",
    "Se pueden usar los nombes de las columnas en vez de las posiciones de las columnas"
   ]
  },
  {
   "cell_type": "code",
   "execution_count": null,
   "metadata": {},
   "outputs": [],
   "source": [
    "# Todos los valores de la columna rain\n",
    "df[,'rain']"
   ]
  },
  {
   "cell_type": "code",
   "execution_count": null,
   "metadata": {},
   "outputs": [],
   "source": [
    "# Primeas 5 filas de las columnas days y temp\n",
    "df[1:5,c('days','temp')]"
   ]
  },
  {
   "cell_type": "markdown",
   "metadata": {},
   "source": [
    "Si desea todos los valores de una columna en particular, puede usar el signo de dólar directamente después del dataframe de la siguiente manera (esta notacion es muy usada): \n",
    "\n",
    "`df.name$column.name`"
   ]
  },
  {
   "cell_type": "code",
   "execution_count": null,
   "metadata": {},
   "outputs": [],
   "source": [
    "df$rain"
   ]
  },
  {
   "cell_type": "code",
   "execution_count": null,
   "metadata": {},
   "outputs": [],
   "source": [
    "df$days"
   ]
  },
  {
   "cell_type": "markdown",
   "metadata": {},
   "source": [
    "También puede usar la notación de corchetes para devolver un dataframe con la misma información:"
   ]
  },
  {
   "cell_type": "code",
   "execution_count": null,
   "metadata": {},
   "outputs": [],
   "source": [
    "df['rain']"
   ]
  },
  {
   "cell_type": "code",
   "execution_count": null,
   "metadata": {},
   "outputs": [],
   "source": [
    "df['days']"
   ]
  },
  {
   "cell_type": "markdown",
   "metadata": {},
   "source": [
    "## Filtrar un subconjunto de datos con condiciones\n",
    "\n",
    "Podemos usar la función `subset()` para tomar un subconjunto de valores de nuestro dataframe en función de alguna condición. Entonces, por ejemplo, si quisiéramos tomar los días en los que llovió `(rain = True)`, podemos usar la función `subset()` de la siguiente manera:"
   ]
  },
  {
   "cell_type": "code",
   "execution_count": null,
   "metadata": {},
   "outputs": [],
   "source": [
    "subset(df,subset=rain==TRUE)"
   ]
  },
  {
   "cell_type": "markdown",
   "metadata": {},
   "source": [
    "Observe cómo la condición utiliza algún tipo de operador de comparación, en el caso anterior ==. Tomemos días donde la temperatura era mayor que 23:"
   ]
  },
  {
   "cell_type": "code",
   "execution_count": null,
   "metadata": {},
   "outputs": [],
   "source": [
    "subset(df,subset= temp>23)"
   ]
  },
  {
   "cell_type": "markdown",
   "metadata": {},
   "source": [
    "Otra cosa a tener en cuenta es que no pasamos el nombre de la columna como un string, el subconjunto sabe que se está refiriendo a una columna en ese dataframe."
   ]
  },
  {
   "cell_type": "markdown",
   "metadata": {},
   "source": [
    "## Ordenar un Dataframe\n",
    "\n",
    "Podemos organizar el orden de un dataframe utilizando la función  `order()`."
   ]
  },
  {
   "cell_type": "code",
   "execution_count": null,
   "metadata": {},
   "outputs": [],
   "source": [
    "# Orden ascendente\n",
    "sorted.temp <- order(df['temp'])"
   ]
  },
  {
   "cell_type": "code",
   "execution_count": null,
   "metadata": {},
   "outputs": [],
   "source": [
    "df[sorted.temp,]"
   ]
  },
  {
   "cell_type": "markdown",
   "metadata": {},
   "source": [
    "Observemos en realidad de que tipo es sorted.temp:"
   ]
  },
  {
   "cell_type": "code",
   "execution_count": null,
   "metadata": {},
   "outputs": [],
   "source": [
    "sorted.temp"
   ]
  },
  {
   "cell_type": "code",
   "execution_count": null,
   "metadata": {},
   "outputs": [],
   "source": [
    "# Orden descendente poniendo el signo negativo\n",
    "desc.temp <- order(-df['temp'])"
   ]
  },
  {
   "cell_type": "code",
   "execution_count": null,
   "metadata": {},
   "outputs": [],
   "source": [
    "df[desc.temp,]"
   ]
  },
  {
   "cell_type": "markdown",
   "metadata": {},
   "source": [
    "Tambien se puede hacer la seleccion de columnas usando el signo $"
   ]
  },
  {
   "cell_type": "code",
   "execution_count": null,
   "metadata": {},
   "outputs": [],
   "source": [
    "sort.temp <- order(df$temp)\n",
    "df[sort.temp,]\n"
   ]
  },
  {
   "cell_type": "markdown",
   "metadata": {},
   "source": [
    "## Informacion de filas y columnas"
   ]
  },
  {
   "cell_type": "code",
   "execution_count": null,
   "metadata": {},
   "outputs": [],
   "source": [
    "# Numero de Filas y Columnas\n",
    "nrow(df)\n",
    "ncol(df)"
   ]
  },
  {
   "cell_type": "code",
   "execution_count": null,
   "metadata": {},
   "outputs": [],
   "source": [
    "# Nombres de las columnas\n",
    "colnames(df)"
   ]
  },
  {
   "cell_type": "code",
   "execution_count": null,
   "metadata": {},
   "outputs": [],
   "source": [
    "# Nombre de las filas (En este dataframe son numeros)\n",
    "rownames(df)"
   ]
  },
  {
   "cell_type": "markdown",
   "metadata": {},
   "source": [
    "## Referenciando Celdas especificas\n",
    "Se utiliza corchetes dobles para obtener un solo numero y corchetes simples para varias celdas"
   ]
  },
  {
   "cell_type": "code",
   "execution_count": null,
   "metadata": {},
   "outputs": [],
   "source": [
    "vec <- df[[5, 2]] # obtener la celda po [[fila,columna]]\n",
    "vec"
   ]
  },
  {
   "cell_type": "code",
   "execution_count": null,
   "metadata": {},
   "outputs": [],
   "source": [
    "newdf <- df[1:3, 1:2] # tomar varias celdas \n",
    "newdf"
   ]
  },
  {
   "cell_type": "code",
   "execution_count": null,
   "metadata": {},
   "outputs": [],
   "source": [
    "df[[2, 'temp']] <- 99999 # reasignando el valor en una celda\n",
    "df"
   ]
  },
  {
   "cell_type": "markdown",
   "metadata": {},
   "source": [
    "## Referenciando filas"
   ]
  },
  {
   "cell_type": "code",
   "execution_count": null,
   "metadata": {},
   "outputs": [],
   "source": [
    "# Retorna un dataframe (No un vector)\n",
    "rowdf <- df[1, ]\n",
    "rowdf"
   ]
  },
  {
   "cell_type": "code",
   "execution_count": null,
   "metadata": {},
   "outputs": [],
   "source": [
    "#Para obtener un vector debe ser asi\n",
    "vrow <- as.numeric(as.vector(df[1,]))\n",
    "vrow"
   ]
  },
  {
   "cell_type": "markdown",
   "metadata": {},
   "source": [
    "## Referenciando Columnas\n",
    "La mayoria de referencias de columna retornan un vector"
   ]
  },
  {
   "cell_type": "code",
   "execution_count": null,
   "metadata": {},
   "outputs": [],
   "source": [
    "# dataset de carros\n",
    "cars <- mtcars\n",
    "head(cars)"
   ]
  },
  {
   "cell_type": "code",
   "execution_count": null,
   "metadata": {},
   "outputs": [],
   "source": [
    "colv1 <- cars$mpg # retorna un vector\n",
    "colv1"
   ]
  },
  {
   "cell_type": "code",
   "execution_count": null,
   "metadata": {},
   "outputs": [],
   "source": [
    "colv2 <- cars[, 'mpg'] # retorna un vector\n",
    "colv2"
   ]
  },
  {
   "cell_type": "code",
   "execution_count": null,
   "metadata": {},
   "outputs": [],
   "source": [
    "colv3<- cars[, 1] # son int o string?\n",
    "colv3"
   ]
  },
  {
   "cell_type": "code",
   "execution_count": null,
   "metadata": {},
   "outputs": [],
   "source": [
    "colv4 <- cars[['mpg']] # retorna un vector\n",
    "colv4"
   ]
  },
  {
   "cell_type": "markdown",
   "metadata": {},
   "source": [
    "Para retornar dataframes puederser asi:"
   ]
  },
  {
   "cell_type": "code",
   "execution_count": null,
   "metadata": {},
   "outputs": [],
   "source": [
    "mpgdf <- cars['mpg'] # retorna un dataframe de 1 col\n",
    "head(mpgdf)"
   ]
  },
  {
   "cell_type": "code",
   "execution_count": null,
   "metadata": {},
   "outputs": [],
   "source": [
    "mpgdf2 <- cars[1] # retorna un dataframe de 1 col\n",
    "head(mpgdf2)"
   ]
  },
  {
   "cell_type": "markdown",
   "metadata": {},
   "source": [
    "## Agregando Filas `rbind()`"
   ]
  },
  {
   "cell_type": "code",
   "execution_count": null,
   "metadata": {},
   "outputs": [],
   "source": [
    "df"
   ]
  },
  {
   "cell_type": "code",
   "execution_count": null,
   "metadata": {},
   "outputs": [],
   "source": [
    "# Los dos argumentos son dataframes\n",
    "df2 <- data.frame(days = \"sat\", temp = NA ,rain = TRUE )\n",
    "df2"
   ]
  },
  {
   "cell_type": "code",
   "execution_count": null,
   "metadata": {},
   "outputs": [],
   "source": [
    "# usar rbind para agregar una nueva fila\n",
    "df <- rbind(df,df2)\n",
    "df"
   ]
  },
  {
   "cell_type": "markdown",
   "metadata": {},
   "source": [
    "## Agregando Columnas `cbind()`"
   ]
  },
  {
   "cell_type": "code",
   "execution_count": null,
   "metadata": {},
   "outputs": [],
   "source": [
    "# crear una columna convalores NA\n",
    "df$newcol <- rep(NA, nrow(df))\n",
    "df"
   ]
  },
  {
   "cell_type": "code",
   "execution_count": null,
   "metadata": {},
   "outputs": [],
   "source": [
    "# Copiar una columna\n",
    "df[, 'copy.of.temp'] <- df$temp\n",
    "df"
   ]
  },
  {
   "cell_type": "code",
   "execution_count": null,
   "metadata": {},
   "outputs": [],
   "source": [
    "# tambien se pueden usar ecuaciones\n",
    "df[['temp.times.2']] <- df$temp * 2\n",
    "df"
   ]
  },
  {
   "cell_type": "code",
   "execution_count": null,
   "metadata": {},
   "outputs": [],
   "source": [
    "# Usando la funcion cbind()\n",
    "df3 <- cbind(df, df$temp)\n",
    "df3"
   ]
  },
  {
   "cell_type": "markdown",
   "metadata": {},
   "source": [
    "## Definir el Nombre de las Columnas"
   ]
  },
  {
   "cell_type": "code",
   "execution_count": null,
   "metadata": {},
   "outputs": [],
   "source": [
    "# Renombrar unacolumna\n",
    "colnames(df)[5] <- 'copia.Temperatura'\n",
    "df"
   ]
  },
  {
   "cell_type": "code",
   "execution_count": null,
   "metadata": {},
   "outputs": [],
   "source": [
    "# Renombrar todas con un vector\n",
    "colnames(df) <- c('col.name.1', 'col.name.2', 'col.name.3', 'col.name.4' ,'copy.temp','temp2')\n",
    "df"
   ]
  },
  {
   "cell_type": "markdown",
   "metadata": {},
   "source": [
    "## Seleccion de varias Filas\n"
   ]
  },
  {
   "cell_type": "code",
   "execution_count": null,
   "metadata": {},
   "outputs": [],
   "source": [
    "# Seleccionar solo algunas filas\n",
    "primeras.cuatro.filas <- df[1:4, ] # Lo mismo que head(df, 4)\n",
    "primeras.cuatro.filas"
   ]
  },
  {
   "cell_type": "code",
   "execution_count": null,
   "metadata": {},
   "outputs": [],
   "source": [
    "# No tomar alguna fila\n",
    "todo.sin.fila.dos <- df[-2, ]\n",
    "todo.sin.fila.dos"
   ]
  },
  {
   "cell_type": "code",
   "execution_count": null,
   "metadata": {},
   "outputs": [],
   "source": [
    "# Seleccion Condicional\n",
    "sub1 <- df[ (df$col.name.2 > 23 & df$temp2 > 48), ]\n",
    "sub1"
   ]
  },
  {
   "cell_type": "code",
   "execution_count": null,
   "metadata": {},
   "outputs": [],
   "source": [
    "# Seleccion Condicional\n",
    "sub2 <- subset(df, col.name.2 > 23 & temp2 < 100)\n",
    "sub2"
   ]
  },
  {
   "cell_type": "markdown",
   "metadata": {},
   "source": [
    "## Seleccion de varias columnas"
   ]
  },
  {
   "cell_type": "code",
   "execution_count": null,
   "metadata": {},
   "outputs": [],
   "source": [
    "# Tomar las columnas 1 2 3\n",
    "df[, c(1, 2, 3)] "
   ]
  },
  {
   "cell_type": "code",
   "execution_count": null,
   "metadata": {},
   "outputs": [],
   "source": [
    "# Por el nombre\n",
    "df[, c('col.name.1', 'temp2')]"
   ]
  },
  {
   "cell_type": "code",
   "execution_count": null,
   "metadata": {},
   "outputs": [],
   "source": [
    "# Tomar todo menos la primera columna\n",
    "df[, -1]"
   ]
  },
  {
   "cell_type": "code",
   "execution_count": null,
   "metadata": {},
   "outputs": [],
   "source": [
    "# Tomar todo menos la columna 1 y 3\n",
    "df[, -c(1, 3)] "
   ]
  },
  {
   "cell_type": "markdown",
   "metadata": {},
   "source": [
    "## Tratando con datos faltantes\n",
    "Tratar con los datos que faltan es una habilidad muy importante que debe conocer cuando se trabaja con dataframes. Las celdas con datos faltantes se llenan con el valor `na`"
   ]
  },
  {
   "cell_type": "code",
   "execution_count": null,
   "metadata": {},
   "outputs": [],
   "source": [
    "df2 <- df# hacer una copia del dataframe\n",
    "df2"
   ]
  },
  {
   "cell_type": "code",
   "execution_count": null,
   "metadata": {},
   "outputs": [],
   "source": [
    "# detectar si hay algun dato faltante en el dataframa\n",
    "any(is.na(df2)) "
   ]
  },
  {
   "cell_type": "code",
   "execution_count": null,
   "metadata": {},
   "outputs": [],
   "source": [
    "# Algun dato faltante en la columna buscada\n",
    "any(is.na(df2$col.name.1)) "
   ]
  },
  {
   "cell_type": "code",
   "execution_count": null,
   "metadata": {},
   "outputs": [],
   "source": [
    "# Algun dato faltante en la columna buscada\n",
    "any(is.na(df2$col.name.4)) "
   ]
  },
  {
   "cell_type": "code",
   "execution_count": null,
   "metadata": {},
   "outputs": [],
   "source": [
    "# reemplazar NA con algun valor\n",
    "df2[is.na(df2)] <- 0 # lo hace para todo el dataframe\n",
    "df2"
   ]
  },
  {
   "cell_type": "code",
   "execution_count": null,
   "metadata": {},
   "outputs": [],
   "source": [
    "# Para una columna en especifico\n",
    "df2<-df\n",
    "df2$col.name.4[is.na(df2$col.name.4)] <- 999\n",
    "df2"
   ]
  },
  {
   "cell_type": "code",
   "execution_count": null,
   "metadata": {},
   "outputs": [],
   "source": [
    "# Borrar las filas que tengan datos faltantes en una columna especifica\n",
    "df2<-df\n",
    "df2 <- df2[!is.na(df2$col.name.2),]\n",
    "df2"
   ]
  },
  {
   "cell_type": "markdown",
   "metadata": {},
   "source": [
    "## Mezclando dataframes `merge()`"
   ]
  },
  {
   "cell_type": "code",
   "execution_count": null,
   "metadata": {},
   "outputs": [],
   "source": [
    "# utilice columnas de caracteres de nombres para obtener un orden de clasificación razonable\n",
    "authors <- data.frame(\n",
    "    surname = I(c(\"Tukey\", \"Venables\", \"Tierney\", \"Ripley\", \"McNeil\")),\n",
    "    nationality = c(\"US\", \"Australia\", \"US\", \"UK\", \"Australia\"),\n",
    "    deceased = c(\"yes\", rep(\"no\", 4)))\n",
    "authors"
   ]
  },
  {
   "cell_type": "code",
   "execution_count": null,
   "metadata": {},
   "outputs": [],
   "source": [
    "books <- data.frame(\n",
    "    name = I(c(\"Tukey\", \"Venables\", \"Tierney\",\n",
    "             \"Ripley\", \"Ripley\", \"McNeil\", \"R Core\")),\n",
    "    title = c(\"Exploratory Data Analysis\",\n",
    "              \"Modern Applied Statistics ...\",\n",
    "              \"LISP-STAT\",\n",
    "              \"Spatial Statistics\", \"Stochastic Simulation\",\n",
    "              \"Interactive Data Analysis\",\n",
    "              \"An Introduction to R\"),\n",
    "    other.author = c(NA, \"Ripley\", NA, NA, NA, NA,\n",
    "                     \"Venables & Smith\"))\n",
    "books"
   ]
  },
  {
   "cell_type": "code",
   "execution_count": null,
   "metadata": {},
   "outputs": [],
   "source": [
    "# Mezclar authors y books por el nombre\n",
    "# Observar que estan en columnas diferentes\n",
    "(m1 <- merge(authors, books, by.x = \"surname\", by.y = \"name\"))"
   ]
  },
  {
   "cell_type": "code",
   "execution_count": null,
   "metadata": {},
   "outputs": [],
   "source": [
    "## mezclar todos los valores\n",
    "merge(authors, books, by.x = \"surname\", by.y = \"name\", all = TRUE)"
   ]
  },
  {
   "cell_type": "code",
   "execution_count": null,
   "metadata": {},
   "outputs": [],
   "source": [
    "## Ejemplo usando 'incomparables'\n",
    "x <- data.frame(k1 = c(NA,NA,3,4,5), k2 = c(1,NA,NA,4,5), data = 1:5)\n",
    "y <- data.frame(k1 = c(NA,2,NA,4,5), k2 = c(NA,NA,3,4,5), data = 1:5)\n",
    "merge(x, y, by = c(\"k1\",\"k2\")) # NA's se toman como iguales\n",
    "merge(x, y, by = \"k1\") # NA's como iguales, tenemos 6 filas\n",
    "merge(x, y, by = \"k2\", incomparables = NA) # 2 filas, sin los NA"
   ]
  },
  {
   "cell_type": "markdown",
   "metadata": {},
   "source": [
    "# Listas en R\n",
    "\n",
    "Las listas nos permitirán almacenar una variedad de estructuras de datos bajo una sola variable. Esto significa que podríamos almacenar un vector, matriz, dataframe, etc. en una sola lista."
   ]
  },
  {
   "cell_type": "code",
   "execution_count": null,
   "metadata": {},
   "outputs": [],
   "source": [
    "# Crear un vector\n",
    "v <- c(1,2,3,4,5)\n",
    "\n",
    "# Crear una matriz\n",
    "m <- matrix(1:10,nrow=2)\n",
    "\n",
    "# Crear un dataframe\n",
    "df <- women"
   ]
  },
  {
   "cell_type": "code",
   "execution_count": null,
   "metadata": {},
   "outputs": [],
   "source": [
    "v"
   ]
  },
  {
   "cell_type": "code",
   "execution_count": null,
   "metadata": {},
   "outputs": [],
   "source": [
    "m"
   ]
  },
  {
   "cell_type": "code",
   "execution_count": null,
   "metadata": {},
   "outputs": [],
   "source": [
    "df"
   ]
  },
  {
   "cell_type": "markdown",
   "metadata": {},
   "source": [
    "## Funcion `list()`\n",
    "Se unsa la funcion `list()` para combinar todas los datos"
   ]
  },
  {
   "cell_type": "code",
   "execution_count": null,
   "metadata": {},
   "outputs": [],
   "source": [
    "li <- list(v,m,df)\n",
    "li"
   ]
  },
  {
   "cell_type": "markdown",
   "metadata": {},
   "source": [
    "La lista asigna numeros a cada uno de los objetos de la lista, pero tambein se pueden asignar nombres."
   ]
  },
  {
   "cell_type": "code",
   "execution_count": null,
   "metadata": {},
   "outputs": [],
   "source": [
    "li <- list(sample_vec = v,sample_mat = m, sample_df = df)\n",
    "li"
   ]
  },
  {
   "cell_type": "markdown",
   "metadata": {},
   "source": [
    "## Seleccionando objetos de una lista\n",
    "Puede usar la notación de corchetes para mostrar objetos en una lista, y corchetes dobles para realmente agarrar los objetos de la lista"
   ]
  },
  {
   "cell_type": "code",
   "execution_count": null,
   "metadata": {},
   "outputs": [],
   "source": [
    "# corchetes simples\n",
    "li[1] # por index"
   ]
  },
  {
   "cell_type": "code",
   "execution_count": null,
   "metadata": {},
   "outputs": [],
   "source": [
    "# Por nombre\n",
    "li['sample_vec']"
   ]
  },
  {
   "cell_type": "code",
   "execution_count": null,
   "metadata": {},
   "outputs": [],
   "source": [
    "# Note el tipo de dato\n",
    "class(li['sample_vec'])"
   ]
  },
  {
   "cell_type": "code",
   "execution_count": null,
   "metadata": {},
   "outputs": [],
   "source": [
    "# Utilice dobles corchetes para realmente obtener los datos\n",
    "li[['sample_vec']]"
   ]
  },
  {
   "cell_type": "code",
   "execution_count": null,
   "metadata": {},
   "outputs": [],
   "source": [
    "# tambien se puede usar la notacion $\n",
    "li$sample_vec"
   ]
  },
  {
   "cell_type": "markdown",
   "metadata": {},
   "source": [
    "También puede indexar luego despues de que ha seleccionado el objeto de la lista"
   ]
  },
  {
   "cell_type": "code",
   "execution_count": null,
   "metadata": {},
   "outputs": [],
   "source": [
    "# Segunda indexacion\n",
    "li[['sample_vec']][1]"
   ]
  },
  {
   "cell_type": "code",
   "execution_count": null,
   "metadata": {},
   "outputs": [],
   "source": [
    "li[['sample_mat']]"
   ]
  },
  {
   "cell_type": "code",
   "execution_count": null,
   "metadata": {},
   "outputs": [],
   "source": [
    "li[['sample_mat']][1,]"
   ]
  },
  {
   "cell_type": "code",
   "execution_count": null,
   "metadata": {},
   "outputs": [],
   "source": [
    "li[['sample_mat']][1:2,1:2]"
   ]
  },
  {
   "cell_type": "code",
   "execution_count": null,
   "metadata": {},
   "outputs": [],
   "source": [
    "li[['sample_df']]['height']"
   ]
  },
  {
   "cell_type": "markdown",
   "metadata": {},
   "source": [
    "## Combinacion de listas\n",
    "Las listas pueden contener otras listas! También puede combinar listas usando la función de combinación `c()`"
   ]
  },
  {
   "cell_type": "code",
   "execution_count": null,
   "metadata": {},
   "outputs": [],
   "source": [
    "double_list <- c(li,li)\n",
    "double_list"
   ]
  },
  {
   "cell_type": "code",
   "execution_count": null,
   "metadata": {},
   "outputs": [],
   "source": [
    "str(double_list)"
   ]
  },
  {
   "cell_type": "markdown",
   "metadata": {},
   "source": [
    "---\n",
    "# Programacion en R"
   ]
  },
  {
   "cell_type": "markdown",
   "metadata": {},
   "source": [
    "## Operadores Logicos\n",
    "Los operadores lógicos nos permitirán combinar múltiples operadores de comparación. Los operadores lógicos de los que aprenderemos son:\n",
    "* AND - &\n",
    "* OR - |\n",
    "* NOT - !\n"
   ]
  },
  {
   "cell_type": "code",
   "execution_count": null,
   "metadata": {},
   "outputs": [],
   "source": [
    "# Declarando la variable\n",
    "x <- 10"
   ]
  },
  {
   "cell_type": "code",
   "execution_count": null,
   "metadata": {},
   "outputs": [],
   "source": [
    "# Menor que\n",
    "x < 20"
   ]
  },
  {
   "cell_type": "code",
   "execution_count": null,
   "metadata": {},
   "outputs": [],
   "source": [
    "# Mayor que\n",
    "x > 5"
   ]
  },
  {
   "cell_type": "code",
   "execution_count": null,
   "metadata": {},
   "outputs": [],
   "source": [
    "# Combinacion de comparaciones\n",
    "x < 20 & x > 5"
   ]
  },
  {
   "cell_type": "code",
   "execution_count": null,
   "metadata": {},
   "outputs": [],
   "source": [
    "# Para mejor entendimiento es mejor usar parentesis\n",
    "(x < 20) & (x>5)"
   ]
  },
  {
   "cell_type": "code",
   "execution_count": null,
   "metadata": {},
   "outputs": [],
   "source": [
    "# Combinacion con AND\n",
    "(x < 20) & (x>5) & (x == 10)"
   ]
  },
  {
   "cell_type": "code",
   "execution_count": null,
   "metadata": {},
   "outputs": [],
   "source": [
    "#Combinacion con AND\n",
    "(x==2) & (x > 1)"
   ]
  },
  {
   "cell_type": "code",
   "execution_count": null,
   "metadata": {},
   "outputs": [],
   "source": [
    "# Combinacion con OR\n",
    "(x==2) | (x > 1)"
   ]
  },
  {
   "cell_type": "code",
   "execution_count": null,
   "metadata": {},
   "outputs": [],
   "source": [
    "# Combinacion con OR\n",
    "(x==1) | (x==12)"
   ]
  },
  {
   "cell_type": "markdown",
   "metadata": {},
   "source": [
    "### Negacion (NOT !)"
   ]
  },
  {
   "cell_type": "code",
   "execution_count": null,
   "metadata": {},
   "outputs": [],
   "source": [
    "(10==1)"
   ]
  },
  {
   "cell_type": "code",
   "execution_count": null,
   "metadata": {},
   "outputs": [],
   "source": [
    "!(10==1)"
   ]
  },
  {
   "cell_type": "code",
   "execution_count": null,
   "metadata": {},
   "outputs": [],
   "source": [
    "# Esto no es comun, pero es posible\n",
    "!!(10==1)"
   ]
  },
  {
   "cell_type": "markdown",
   "metadata": {},
   "source": [
    "### Ejemplo de uso"
   ]
  },
  {
   "cell_type": "code",
   "execution_count": null,
   "metadata": {},
   "outputs": [],
   "source": [
    "df <- mtcars"
   ]
  },
  {
   "cell_type": "code",
   "execution_count": null,
   "metadata": {},
   "outputs": [],
   "source": [
    "df"
   ]
  },
  {
   "cell_type": "code",
   "execution_count": null,
   "metadata": {},
   "outputs": [],
   "source": [
    "# Carros con mpg mayores o iguales a 20\n",
    "df[df['mpg'] >= 20,] # Observe el uso de la coma en la indexacion\n",
    "# subset(df,mpg>=20) # Tambien se puede usar"
   ]
  },
  {
   "cell_type": "markdown",
   "metadata": {},
   "source": [
    "\n",
    "<p>Great! Now let's combine filters with logical operators! Let's grab rows with cars of at least 20mpg and over 100 hp.</p>\n"
   ]
  },
  {
   "cell_type": "code",
   "execution_count": null,
   "metadata": {},
   "outputs": [],
   "source": [
    "# Carros con mpg mayores o iguales a 20 y hp mayor que 100\n",
    "df[(df['mpg'] >= 20) & (df['hp'] > 100),]"
   ]
  },
  {
   "cell_type": "markdown",
   "metadata": {},
   "source": [
    "## Operadores Logicos con Vectores\n",
    "Se realiza elemento a elemento"
   ]
  },
  {
   "cell_type": "code",
   "execution_count": null,
   "metadata": {},
   "outputs": [],
   "source": [
    "tf <- c(TRUE,FALSE)\n",
    "tt <- c(TRUE,TRUE)\n",
    "ft <- c(FALSE, TRUE)"
   ]
  },
  {
   "cell_type": "code",
   "execution_count": null,
   "metadata": {},
   "outputs": [],
   "source": [
    "tt & tf"
   ]
  },
  {
   "cell_type": "code",
   "execution_count": null,
   "metadata": {},
   "outputs": [],
   "source": [
    "tt | tf"
   ]
  },
  {
   "cell_type": "markdown",
   "metadata": {},
   "source": [
    "**para comparar el primer elemento usar && o ||**"
   ]
  },
  {
   "cell_type": "code",
   "execution_count": null,
   "metadata": {},
   "outputs": [],
   "source": [
    "ft && tt"
   ]
  },
  {
   "cell_type": "code",
   "execution_count": null,
   "metadata": {},
   "outputs": [],
   "source": [
    "tt && tf"
   ]
  },
  {
   "cell_type": "code",
   "execution_count": null,
   "metadata": {},
   "outputs": [],
   "source": [
    "tt || tf"
   ]
  },
  {
   "cell_type": "code",
   "execution_count": null,
   "metadata": {},
   "outputs": [],
   "source": [
    "tt || ft"
   ]
  },
  {
   "cell_type": "markdown",
   "metadata": {},
   "source": [
    "## Condicionales if, else, else if\n",
    "Su sintaxis es:\n",
    "```r\n",
    "if (condicion) { \n",
    "    codigo a realizar si es verdadero\n",
    "    }\n",
    "else if (condicion){\n",
    "    codigo a realizar si es verdadero\n",
    "    }\n",
    "else{\n",
    "    codigo a realizar si ninguno de los anteriores es verdadero\n",
    "    }\n",
    "```   "
   ]
  },
  {
   "cell_type": "code",
   "execution_count": null,
   "metadata": {},
   "outputs": [],
   "source": [
    "hot <- FALSE\n",
    "temp <- 60\n",
    "if (temp > 80){\n",
    "    hot <- TRUE\n",
    "    }\n",
    "hot"
   ]
  },
  {
   "cell_type": "code",
   "execution_count": null,
   "metadata": {},
   "outputs": [],
   "source": [
    "temp <- 100\n",
    "if (temp > 80){\n",
    "    hot <- TRUE\n",
    "    }\n",
    "hot"
   ]
  },
  {
   "cell_type": "code",
   "execution_count": null,
   "metadata": {},
   "outputs": [],
   "source": [
    "# Incluyendo el else\n",
    "temp <- 30\n",
    "\n",
    "if (temp > 90){\n",
    "    print(\"Esta caliente!\")\n",
    "} else{\n",
    "    print(\"No esta muy caliente\")\n",
    "}"
   ]
  },
  {
   "cell_type": "markdown",
   "metadata": {},
   "source": [
    "Condicional completo"
   ]
  },
  {
   "cell_type": "code",
   "execution_count": null,
   "metadata": {},
   "outputs": [],
   "source": [
    "temp <- 30\n",
    "if (temp > 80){\n",
    "    print(\"Esta caliente\")\n",
    "} else if(temp<80 & temp>50){\n",
    "    print('Esta tibio!')\n",
    "} else if(temp <50 & temp > 32){\n",
    "    print(\"Esta frio!\")\n",
    "} else{\n",
    "    print(\"Esta muy frio!\")\n",
    "}"
   ]
  },
  {
   "cell_type": "markdown",
   "metadata": {},
   "source": [
    "## Ciclos For\n",
    "Su sintaxis es:\n",
    "```r\n",
    "for (Varible_temporal in objeto) { \n",
    "    codigo a realizar en cada iteracion\n",
    "    }\n",
    "```  \n",
    "Para terminar los loops se utiliza la palabra `break`"
   ]
  },
  {
   "cell_type": "markdown",
   "metadata": {},
   "source": [
    "### Ciclor for sobre un Vector"
   ]
  },
  {
   "cell_type": "code",
   "execution_count": null,
   "metadata": {},
   "outputs": [],
   "source": [
    "vec <- c(1,2,3,4,5)"
   ]
  },
  {
   "cell_type": "code",
   "execution_count": null,
   "metadata": {},
   "outputs": [],
   "source": [
    "for (temp_var in vec){\n",
    "    print(temp_var)\n",
    "}"
   ]
  },
  {
   "cell_type": "code",
   "execution_count": null,
   "metadata": {},
   "outputs": [],
   "source": [
    "# otra forma de hacerlo es creando los elementos de iteracion\n",
    "for (i in 1:length(vec)){\n",
    "    print(vec[i])\n",
    "}"
   ]
  },
  {
   "cell_type": "markdown",
   "metadata": {},
   "source": [
    "### Ciclos for sobre una lista"
   ]
  },
  {
   "cell_type": "code",
   "execution_count": null,
   "metadata": {},
   "outputs": [],
   "source": [
    "li <- list(1,2,3,4,5)"
   ]
  },
  {
   "cell_type": "code",
   "execution_count": null,
   "metadata": {},
   "outputs": [],
   "source": [
    "for (temp_var in li){\n",
    "    print(temp_var)\n",
    "}"
   ]
  },
  {
   "cell_type": "code",
   "execution_count": null,
   "metadata": {},
   "outputs": [],
   "source": [
    "for (i in 1:length(li)){\n",
    "    print(li[[i]]) # Recuerde usar los corchetes dobles para tomar el valor\n",
    "}"
   ]
  },
  {
   "cell_type": "markdown",
   "metadata": {},
   "source": [
    "### Ciclo for en una Matriz"
   ]
  },
  {
   "cell_type": "code",
   "execution_count": null,
   "metadata": {},
   "outputs": [],
   "source": [
    "mat <- matrix(1:25,nrow=5)\n",
    "mat"
   ]
  },
  {
   "cell_type": "code",
   "execution_count": null,
   "metadata": {},
   "outputs": [],
   "source": [
    "for (num in mat){\n",
    "    print(num)\n",
    "}"
   ]
  },
  {
   "cell_type": "markdown",
   "metadata": {},
   "source": [
    "### Ciclos Anidados"
   ]
  },
  {
   "cell_type": "code",
   "execution_count": null,
   "metadata": {},
   "outputs": [],
   "source": [
    "for (row in 1:nrow(mat)){\n",
    "    for (col in 1:ncol(mat)){\n",
    "        print(paste('El elemento de la fila:',row,'y columna:',col,'es',mat[row,col]))\n",
    "    }\n",
    "}"
   ]
  },
  {
   "cell_type": "markdown",
   "metadata": {},
   "source": [
    "## Ciclos While\n",
    "Su sintaxis es:\n",
    "```r\n",
    "while (Variable) { \n",
    "    codigo a realizar mientras la variable sea verdadera\n",
    "    }\n",
    "```  "
   ]
  },
  {
   "cell_type": "code",
   "execution_count": null,
   "metadata": {},
   "outputs": [],
   "source": [
    "x <- 0\n",
    "while(x < 10){\n",
    "    \n",
    "    cat('x tiene el valor de: ',x)\n",
    "    print(' x todavia es menor que 10, sumando 1 a x')\n",
    "    # Sumar 1 a x\n",
    "    x <- x+1\n",
    "}"
   ]
  },
  {
   "cell_type": "markdown",
   "metadata": {},
   "source": [
    "## Funciones\n",
    "El sintaxis de creacion de una funcion es:\n",
    "```r\n",
    "Nombre_funcion <- function(arg1,arg2,...){\n",
    "         #Codigo que se ejecuta cuando se llama la funcion\n",
    "    }\n",
    "```"
   ]
  },
  {
   "cell_type": "code",
   "execution_count": null,
   "metadata": {},
   "outputs": [],
   "source": [
    "# Funcion simple sin entradas\n",
    "hello <- function(){\n",
    "    print('hola!')\n",
    "}"
   ]
  },
  {
   "cell_type": "code",
   "execution_count": null,
   "metadata": {},
   "outputs": [],
   "source": [
    "hello()"
   ]
  },
  {
   "cell_type": "code",
   "execution_count": null,
   "metadata": {},
   "outputs": [],
   "source": [
    "helloyou <- function(name){\n",
    "    print(paste('Hola ',name))\n",
    "}"
   ]
  },
  {
   "cell_type": "code",
   "execution_count": null,
   "metadata": {},
   "outputs": [],
   "source": [
    "helloyou('Joe')"
   ]
  },
  {
   "cell_type": "code",
   "execution_count": null,
   "metadata": {},
   "outputs": [],
   "source": [
    "add_num <- function(num1,num2){\n",
    "    print(num1+num2)\n",
    "}"
   ]
  },
  {
   "cell_type": "code",
   "execution_count": null,
   "metadata": {},
   "outputs": [],
   "source": [
    "add_num(5,10)"
   ]
  },
  {
   "cell_type": "markdown",
   "metadata": {},
   "source": [
    "Valores predeterminados"
   ]
  },
  {
   "cell_type": "code",
   "execution_count": null,
   "metadata": {},
   "outputs": [],
   "source": [
    "hola_persona <- function(name='Juan'){\n",
    "    print(paste('Hola ',name))\n",
    "}"
   ]
  },
  {
   "cell_type": "code",
   "execution_count": null,
   "metadata": {},
   "outputs": [],
   "source": [
    "# Usando el valor predeterminado\n",
    "hola_persona()"
   ]
  },
  {
   "cell_type": "code",
   "execution_count": null,
   "metadata": {},
   "outputs": [],
   "source": [
    "#definiendo el argumento de entrada\n",
    "hola_persona('Matias')"
   ]
  },
  {
   "cell_type": "markdown",
   "metadata": {},
   "source": [
    "### Retornando Valores"
   ]
  },
  {
   "cell_type": "code",
   "execution_count": null,
   "metadata": {},
   "outputs": [],
   "source": [
    "formal <- function(name='Jose',title='Don'){\n",
    "    return(paste(title,' ',name))\n",
    "}"
   ]
  },
  {
   "cell_type": "code",
   "execution_count": null,
   "metadata": {},
   "outputs": [],
   "source": [
    "formal()"
   ]
  },
  {
   "cell_type": "code",
   "execution_count": null,
   "metadata": {},
   "outputs": [],
   "source": [
    "formal('Issac Newton')"
   ]
  },
  {
   "cell_type": "code",
   "execution_count": null,
   "metadata": {},
   "outputs": [],
   "source": [
    "var <- formal('Marie Curie','Ms.')\n",
    "var"
   ]
  },
  {
   "cell_type": "code",
   "execution_count": null,
   "metadata": {},
   "outputs": [],
   "source": [
    "double <- function(a) {\n",
    "  a <- 2*a         # esta variable es definida solo para la funcion tiene un scope local\n",
    "  a\n",
    "}\n",
    "var <- 5\n",
    "double(var)\n",
    "var"
   ]
  },
  {
   "cell_type": "markdown",
   "metadata": {},
   "source": [
    "# Funciones Built-in\n",
    "\n",
    "* `seq()`: Crea secuencias\n",
    "* `sort()`: Ordena un vector\n",
    "* `rev()`: Revierte los elementos en un objeto\n",
    "* `str()`: Muestra la estrutura de un objeto\n",
    "* `append()`: Mezcla objetos (Funciona en vectores y listas)"
   ]
  },
  {
   "cell_type": "code",
   "execution_count": 1,
   "metadata": {},
   "outputs": [
    {
     "data": {
      "text/html": [
       "<ol class=list-inline>\n",
       "\t<li>0</li>\n",
       "\t<li>3</li>\n",
       "\t<li>6</li>\n",
       "\t<li>9</li>\n",
       "\t<li>12</li>\n",
       "\t<li>15</li>\n",
       "\t<li>18</li>\n",
       "\t<li>21</li>\n",
       "\t<li>24</li>\n",
       "\t<li>27</li>\n",
       "\t<li>30</li>\n",
       "\t<li>33</li>\n",
       "\t<li>36</li>\n",
       "\t<li>39</li>\n",
       "\t<li>42</li>\n",
       "\t<li>45</li>\n",
       "\t<li>48</li>\n",
       "\t<li>51</li>\n",
       "\t<li>54</li>\n",
       "\t<li>57</li>\n",
       "\t<li>60</li>\n",
       "\t<li>63</li>\n",
       "\t<li>66</li>\n",
       "\t<li>69</li>\n",
       "\t<li>72</li>\n",
       "\t<li>75</li>\n",
       "\t<li>78</li>\n",
       "\t<li>81</li>\n",
       "\t<li>84</li>\n",
       "\t<li>87</li>\n",
       "\t<li>90</li>\n",
       "\t<li>93</li>\n",
       "\t<li>96</li>\n",
       "\t<li>99</li>\n",
       "</ol>\n"
      ],
      "text/latex": [
       "\\begin{enumerate*}\n",
       "\\item 0\n",
       "\\item 3\n",
       "\\item 6\n",
       "\\item 9\n",
       "\\item 12\n",
       "\\item 15\n",
       "\\item 18\n",
       "\\item 21\n",
       "\\item 24\n",
       "\\item 27\n",
       "\\item 30\n",
       "\\item 33\n",
       "\\item 36\n",
       "\\item 39\n",
       "\\item 42\n",
       "\\item 45\n",
       "\\item 48\n",
       "\\item 51\n",
       "\\item 54\n",
       "\\item 57\n",
       "\\item 60\n",
       "\\item 63\n",
       "\\item 66\n",
       "\\item 69\n",
       "\\item 72\n",
       "\\item 75\n",
       "\\item 78\n",
       "\\item 81\n",
       "\\item 84\n",
       "\\item 87\n",
       "\\item 90\n",
       "\\item 93\n",
       "\\item 96\n",
       "\\item 99\n",
       "\\end{enumerate*}\n"
      ],
      "text/markdown": [
       "1. 0\n",
       "2. 3\n",
       "3. 6\n",
       "4. 9\n",
       "5. 12\n",
       "6. 15\n",
       "7. 18\n",
       "8. 21\n",
       "9. 24\n",
       "10. 27\n",
       "11. 30\n",
       "12. 33\n",
       "13. 36\n",
       "14. 39\n",
       "15. 42\n",
       "16. 45\n",
       "17. 48\n",
       "18. 51\n",
       "19. 54\n",
       "20. 57\n",
       "21. 60\n",
       "22. 63\n",
       "23. 66\n",
       "24. 69\n",
       "25. 72\n",
       "26. 75\n",
       "27. 78\n",
       "28. 81\n",
       "29. 84\n",
       "30. 87\n",
       "31. 90\n",
       "32. 93\n",
       "33. 96\n",
       "34. 99\n",
       "\n",
       "\n"
      ],
      "text/plain": [
       " [1]  0  3  6  9 12 15 18 21 24 27 30 33 36 39 42 45 48 51 54 57 60 63 66 69 72\n",
       "[26] 75 78 81 84 87 90 93 96 99"
      ]
     },
     "metadata": {},
     "output_type": "display_data"
    }
   ],
   "source": [
    "# seq(inicio,final,tamaño del paso)\n",
    "seq(0, 100, by = 3)"
   ]
  },
  {
   "cell_type": "code",
   "execution_count": 2,
   "metadata": {},
   "outputs": [],
   "source": [
    "v <- c(1,4,6,7,2,13,2)"
   ]
  },
  {
   "cell_type": "code",
   "execution_count": 3,
   "metadata": {},
   "outputs": [
    {
     "data": {
      "text/html": [
       "<ol class=list-inline>\n",
       "\t<li>1</li>\n",
       "\t<li>2</li>\n",
       "\t<li>2</li>\n",
       "\t<li>4</li>\n",
       "\t<li>6</li>\n",
       "\t<li>7</li>\n",
       "\t<li>13</li>\n",
       "</ol>\n"
      ],
      "text/latex": [
       "\\begin{enumerate*}\n",
       "\\item 1\n",
       "\\item 2\n",
       "\\item 2\n",
       "\\item 4\n",
       "\\item 6\n",
       "\\item 7\n",
       "\\item 13\n",
       "\\end{enumerate*}\n"
      ],
      "text/markdown": [
       "1. 1\n",
       "2. 2\n",
       "3. 2\n",
       "4. 4\n",
       "5. 6\n",
       "6. 7\n",
       "7. 13\n",
       "\n",
       "\n"
      ],
      "text/plain": [
       "[1]  1  2  2  4  6  7 13"
      ]
     },
     "metadata": {},
     "output_type": "display_data"
    }
   ],
   "source": [
    "sort(v)"
   ]
  },
  {
   "cell_type": "code",
   "execution_count": 4,
   "metadata": {},
   "outputs": [
    {
     "data": {
      "text/html": [
       "<ol class=list-inline>\n",
       "\t<li>13</li>\n",
       "\t<li>7</li>\n",
       "\t<li>6</li>\n",
       "\t<li>4</li>\n",
       "\t<li>2</li>\n",
       "\t<li>2</li>\n",
       "\t<li>1</li>\n",
       "</ol>\n"
      ],
      "text/latex": [
       "\\begin{enumerate*}\n",
       "\\item 13\n",
       "\\item 7\n",
       "\\item 6\n",
       "\\item 4\n",
       "\\item 2\n",
       "\\item 2\n",
       "\\item 1\n",
       "\\end{enumerate*}\n"
      ],
      "text/markdown": [
       "1. 13\n",
       "2. 7\n",
       "3. 6\n",
       "4. 4\n",
       "5. 2\n",
       "6. 2\n",
       "7. 1\n",
       "\n",
       "\n"
      ],
      "text/plain": [
       "[1] 13  7  6  4  2  2  1"
      ]
     },
     "metadata": {},
     "output_type": "display_data"
    }
   ],
   "source": [
    "sort(v,decreasing = TRUE)"
   ]
  },
  {
   "cell_type": "code",
   "execution_count": 5,
   "metadata": {},
   "outputs": [
    {
     "data": {
      "text/html": [
       "<ol class=list-inline>\n",
       "\t<li>5</li>\n",
       "\t<li>4</li>\n",
       "\t<li>3</li>\n",
       "\t<li>2</li>\n",
       "\t<li>1</li>\n",
       "</ol>\n"
      ],
      "text/latex": [
       "\\begin{enumerate*}\n",
       "\\item 5\n",
       "\\item 4\n",
       "\\item 3\n",
       "\\item 2\n",
       "\\item 1\n",
       "\\end{enumerate*}\n"
      ],
      "text/markdown": [
       "1. 5\n",
       "2. 4\n",
       "3. 3\n",
       "4. 2\n",
       "5. 1\n",
       "\n",
       "\n"
      ],
      "text/plain": [
       "[1] 5 4 3 2 1"
      ]
     },
     "metadata": {},
     "output_type": "display_data"
    }
   ],
   "source": [
    "v2 <- c(1,2,3,4,5)\n",
    "rev(v2)"
   ]
  },
  {
   "cell_type": "code",
   "execution_count": 6,
   "metadata": {},
   "outputs": [
    {
     "name": "stdout",
     "output_type": "stream",
     "text": [
      " num [1:7] 1 4 6 7 2 13 2\n"
     ]
    }
   ],
   "source": [
    "str(v)"
   ]
  },
  {
   "cell_type": "code",
   "execution_count": 7,
   "metadata": {},
   "outputs": [
    {
     "data": {
      "text/html": [
       "<ol class=list-inline>\n",
       "\t<li>1</li>\n",
       "\t<li>4</li>\n",
       "\t<li>6</li>\n",
       "\t<li>7</li>\n",
       "\t<li>2</li>\n",
       "\t<li>13</li>\n",
       "\t<li>2</li>\n",
       "\t<li>1</li>\n",
       "\t<li>2</li>\n",
       "\t<li>3</li>\n",
       "\t<li>4</li>\n",
       "\t<li>5</li>\n",
       "</ol>\n"
      ],
      "text/latex": [
       "\\begin{enumerate*}\n",
       "\\item 1\n",
       "\\item 4\n",
       "\\item 6\n",
       "\\item 7\n",
       "\\item 2\n",
       "\\item 13\n",
       "\\item 2\n",
       "\\item 1\n",
       "\\item 2\n",
       "\\item 3\n",
       "\\item 4\n",
       "\\item 5\n",
       "\\end{enumerate*}\n"
      ],
      "text/markdown": [
       "1. 1\n",
       "2. 4\n",
       "3. 6\n",
       "4. 7\n",
       "5. 2\n",
       "6. 13\n",
       "7. 2\n",
       "8. 1\n",
       "9. 2\n",
       "10. 3\n",
       "11. 4\n",
       "12. 5\n",
       "\n",
       "\n"
      ],
      "text/plain": [
       " [1]  1  4  6  7  2 13  2  1  2  3  4  5"
      ]
     },
     "metadata": {},
     "output_type": "display_data"
    }
   ],
   "source": [
    "append(v,v2)"
   ]
  },
  {
   "cell_type": "code",
   "execution_count": 8,
   "metadata": {},
   "outputs": [
    {
     "data": {
      "text/html": [
       "<ol class=list-inline>\n",
       "\t<li>1</li>\n",
       "\t<li>1</li>\n",
       "\t<li>2</li>\n",
       "\t<li>2</li>\n",
       "\t<li>2</li>\n",
       "\t<li>3</li>\n",
       "\t<li>4</li>\n",
       "\t<li>4</li>\n",
       "\t<li>5</li>\n",
       "\t<li>6</li>\n",
       "\t<li>7</li>\n",
       "\t<li>13</li>\n",
       "</ol>\n"
      ],
      "text/latex": [
       "\\begin{enumerate*}\n",
       "\\item 1\n",
       "\\item 1\n",
       "\\item 2\n",
       "\\item 2\n",
       "\\item 2\n",
       "\\item 3\n",
       "\\item 4\n",
       "\\item 4\n",
       "\\item 5\n",
       "\\item 6\n",
       "\\item 7\n",
       "\\item 13\n",
       "\\end{enumerate*}\n"
      ],
      "text/markdown": [
       "1. 1\n",
       "2. 1\n",
       "3. 2\n",
       "4. 2\n",
       "5. 2\n",
       "6. 3\n",
       "7. 4\n",
       "8. 4\n",
       "9. 5\n",
       "10. 6\n",
       "11. 7\n",
       "12. 13\n",
       "\n",
       "\n"
      ],
      "text/plain": [
       " [1]  1  1  2  2  2  3  4  4  5  6  7 13"
      ]
     },
     "metadata": {},
     "output_type": "display_data"
    }
   ],
   "source": [
    "sort(append(v,v2))"
   ]
  },
  {
   "cell_type": "markdown",
   "metadata": {},
   "source": [
    "## Verificar el tipo de datos\n",
    "- is.*(): Verificar la clase de un objeto de R\n",
    "- as.*(): Convertir objetos de R \n"
   ]
  },
  {
   "cell_type": "code",
   "execution_count": 9,
   "metadata": {},
   "outputs": [
    {
     "data": {
      "text/html": [
       "TRUE"
      ],
      "text/latex": [
       "TRUE"
      ],
      "text/markdown": [
       "TRUE"
      ],
      "text/plain": [
       "[1] TRUE"
      ]
     },
     "metadata": {},
     "output_type": "display_data"
    }
   ],
   "source": [
    "v <- c(1,2,3)\n",
    "is.vector(v)"
   ]
  },
  {
   "cell_type": "code",
   "execution_count": 10,
   "metadata": {},
   "outputs": [
    {
     "data": {
      "text/html": [
       "FALSE"
      ],
      "text/latex": [
       "FALSE"
      ],
      "text/markdown": [
       "FALSE"
      ],
      "text/plain": [
       "[1] FALSE"
      ]
     },
     "metadata": {},
     "output_type": "display_data"
    }
   ],
   "source": [
    "is.list(v)"
   ]
  },
  {
   "cell_type": "code",
   "execution_count": 11,
   "metadata": {},
   "outputs": [
    {
     "data": {
      "text/html": [
       "<ol>\n",
       "\t<li>1</li>\n",
       "\t<li>2</li>\n",
       "\t<li>3</li>\n",
       "</ol>\n"
      ],
      "text/latex": [
       "\\begin{enumerate}\n",
       "\\item 1\n",
       "\\item 2\n",
       "\\item 3\n",
       "\\end{enumerate}\n"
      ],
      "text/markdown": [
       "1. 1\n",
       "2. 2\n",
       "3. 3\n",
       "\n",
       "\n"
      ],
      "text/plain": [
       "[[1]]\n",
       "[1] 1\n",
       "\n",
       "[[2]]\n",
       "[1] 2\n",
       "\n",
       "[[3]]\n",
       "[1] 3\n"
      ]
     },
     "metadata": {},
     "output_type": "display_data"
    }
   ],
   "source": [
    "as.list(v)"
   ]
  },
  {
   "cell_type": "code",
   "execution_count": 12,
   "metadata": {
    "scrolled": true
   },
   "outputs": [
    {
     "data": {
      "text/html": [
       "<table>\n",
       "<tbody>\n",
       "\t<tr><td>1</td></tr>\n",
       "\t<tr><td>2</td></tr>\n",
       "\t<tr><td>3</td></tr>\n",
       "</tbody>\n",
       "</table>\n"
      ],
      "text/latex": [
       "\\begin{tabular}{l}\n",
       "\t 1\\\\\n",
       "\t 2\\\\\n",
       "\t 3\\\\\n",
       "\\end{tabular}\n"
      ],
      "text/markdown": [
       "\n",
       "| 1 | \n",
       "| 2 | \n",
       "| 3 | \n",
       "\n",
       "\n"
      ],
      "text/plain": [
       "     [,1]\n",
       "[1,] 1   \n",
       "[2,] 2   \n",
       "[3,] 3   "
      ]
     },
     "metadata": {},
     "output_type": "display_data"
    }
   ],
   "source": [
    "as.matrix(v)"
   ]
  },
  {
   "cell_type": "markdown",
   "metadata": {},
   "source": [
    "## Funciones Matematicas\n",
    "R tiene incluidas varias funciones matematicas, por ejemplo:\n",
    "\n",
    "- abs(): calcula el valor absoluto\n",
    "- sum(): SUma todos los elementos de la entrada\n",
    "- mean(): Calcula el promedio\n",
    "- round(): aproxima los valores al entero mas cercado\n"
   ]
  },
  {
   "cell_type": "code",
   "execution_count": null,
   "metadata": {},
   "outputs": [],
   "source": [
    "v <- c(-1,0,1,2,3,4,5)"
   ]
  },
  {
   "cell_type": "code",
   "execution_count": null,
   "metadata": {},
   "outputs": [],
   "source": [
    "abs(-2)"
   ]
  },
  {
   "cell_type": "code",
   "execution_count": null,
   "metadata": {},
   "outputs": [],
   "source": [
    "abs(v)"
   ]
  },
  {
   "cell_type": "code",
   "execution_count": null,
   "metadata": {},
   "outputs": [],
   "source": [
    "sum(v)"
   ]
  },
  {
   "cell_type": "code",
   "execution_count": null,
   "metadata": {},
   "outputs": [],
   "source": [
    "mean(v)"
   ]
  },
  {
   "cell_type": "code",
   "execution_count": null,
   "metadata": {},
   "outputs": [],
   "source": [
    "round(23.1231)"
   ]
  },
  {
   "cell_type": "code",
   "execution_count": null,
   "metadata": {},
   "outputs": [],
   "source": [
    "round(23.1231234,2)"
   ]
  },
  {
   "cell_type": "markdown",
   "metadata": {},
   "source": [
    "Mas Funciones:\n",
    "\n",
    "</p><table border=\"0\">\n",
    "<tr>\n",
    "<td valign=\"top\"><strong>Funcion</strong></td>\n",
    "<td valign=\"top\"><strong>Descripcion</strong></td>\n",
    "</tr>\n",
    "<tr>\n",
    "<td valign=\"top\"><strong>abs(</strong><em>x</em><strong>)</strong></td>\n",
    "<td valign=\"top\">valor absoluto </td>\n",
    "</tr>\n",
    "<tr>\n",
    "<td valign=\"top\"><strong>sqrt(</strong><em>x</em><strong>)</strong></td>\n",
    "<td valign=\"top\">raiz cuadrada</td>\n",
    "</tr>\n",
    "<tr>\n",
    "<td valign=\"top\"><strong>ceiling(</strong><em>x</em><strong>)</strong></td>\n",
    "<td valign=\"top\">ceiling(3.475) es 4 </td>\n",
    "</tr>\n",
    "<tr>\n",
    "<td valign=\"top\"><strong>floor(</strong><em>x</em><strong>)</strong></td>\n",
    "<td valign=\"top\">floor(3.475) es 3 </td>\n",
    "</tr>\n",
    "<tr>\n",
    "<td valign=\"top\"><strong>trunc(</strong><em>x</em><strong>)</strong></td>\n",
    "<td valign=\"top\">trunc(5.99) es 5 </td>\n",
    "</tr>\n",
    "<tr>\n",
    "<td valign=\"top\"><strong>round(</strong><em>x</em><strong>, digits=</strong><em>n</em><strong>) </strong></td>\n",
    "<td valign=\"top\">round(3.475, digits=2) es 3.48 </td>\n",
    "</tr>\n",
    "<tr>\n",
    "<td valign=\"top\"><strong>signif(</strong><em>x</em><strong>, digits=</strong><em>n</em><strong>) </strong></td>\n",
    "<td valign=\"top\">signif(3.475, digits=2) es 3.5 </td>\n",
    "</tr>\n",
    "<tr>\n",
    "<td valign=\"top\"><strong>cos(</strong><em>x</em><strong>), sin(</strong><em>x</em><strong>), tan(</strong><em>x</em><strong>) </strong></td>\n",
    "<td valign=\"top\">tambien acos(<em>x</em>), cosh(<em>x</em>), acosh(<em>x</em>), etc. </td>\n",
    "</tr>\n",
    "<tr>\n",
    "<td valign=\"top\"><strong>log(</strong><em>x</em><strong>)</strong></td>\n",
    "<td valign=\"top\">logaritmo natural</td>\n",
    "</tr>\n",
    "<tr>\n",
    "<td valign=\"top\"><strong>log10(</strong><em>x</em><strong>)</strong></td>\n",
    "<td valign=\"top\">logaritmo base 10 </td>\n",
    "</tr>\n",
    "<tr>\n",
    "<td valign=\"top\"><strong>exp(</strong><em>x</em><strong>)</strong></td>\n",
    "<td valign=\"top\">e^<em>x</em></td>\n",
    "</tr>\n",
    "</table>\n"
   ]
  },
  {
   "cell_type": "markdown",
   "metadata": {},
   "source": [
    "# Funciones Apply\n",
    "La idea basica es que `apply()` aplica una funcion sobre un objeto que es iterable.\n",
    "\n",
    "## `lapply()`\n",
    "Aplica una funcion sobre una lista o un vector.\n",
    "`lapply(X, FUN, ...)` X puede ser una lista o un vector y FUN es la funcion que quiere aplicar"
   ]
  },
  {
   "cell_type": "code",
   "execution_count": null,
   "metadata": {},
   "outputs": [],
   "source": [
    "help(lapply)"
   ]
  },
  {
   "cell_type": "code",
   "execution_count": 13,
   "metadata": {},
   "outputs": [
    {
     "data": {
      "text/html": [
       "1"
      ],
      "text/latex": [
       "1"
      ],
      "text/markdown": [
       "1"
      ],
      "text/plain": [
       "[1] 1"
      ]
     },
     "metadata": {},
     "output_type": "display_data"
    }
   ],
   "source": [
    "# seleccionar un solo numero aleatorio entre 1 y 10\n",
    "sample(x = 1:10,1)"
   ]
  },
  {
   "cell_type": "code",
   "execution_count": 14,
   "metadata": {},
   "outputs": [
    {
     "data": {
      "text/html": [
       "<ol>\n",
       "\t<li>11</li>\n",
       "\t<li>3</li>\n",
       "\t<li>9</li>\n",
       "\t<li>10</li>\n",
       "\t<li>8</li>\n",
       "</ol>\n"
      ],
      "text/latex": [
       "\\begin{enumerate}\n",
       "\\item 11\n",
       "\\item 3\n",
       "\\item 9\n",
       "\\item 10\n",
       "\\item 8\n",
       "\\end{enumerate}\n"
      ],
      "text/markdown": [
       "1. 11\n",
       "2. 3\n",
       "3. 9\n",
       "4. 10\n",
       "5. 8\n",
       "\n",
       "\n"
      ],
      "text/plain": [
       "[[1]]\n",
       "[1] 11\n",
       "\n",
       "[[2]]\n",
       "[1] 3\n",
       "\n",
       "[[3]]\n",
       "[1] 9\n",
       "\n",
       "[[4]]\n",
       "[1] 10\n",
       "\n",
       "[[5]]\n",
       "[1] 8\n"
      ]
     },
     "metadata": {},
     "output_type": "display_data"
    }
   ],
   "source": [
    "# vector\n",
    "v <- c(1,2,3,4,5)\n",
    "\n",
    "# funcion inventada\n",
    "addrand <- function(x){\n",
    "    # obtener un numero aleatorio\n",
    "    ran <-sample(x=1:10,1)\n",
    "    \n",
    "    # devuelve x + el numero aleatorio\n",
    "    return(x+ran)\n",
    "}\n",
    "\n",
    "# lapply()\n",
    "lapply(v,addrand)"
   ]
  },
  {
   "cell_type": "markdown",
   "metadata": {},
   "source": [
    "## Funciones Anonimas\n",
    "No es necesario declarar toda la funcion, si es una funcion simple se puede crear para el momento que se necesita. (Es la idea similar a las expresiones Lambda en Python)"
   ]
  },
  {
   "cell_type": "code",
   "execution_count": 15,
   "metadata": {},
   "outputs": [
    {
     "data": {
      "text/html": [
       "<ol class=list-inline>\n",
       "\t<li>1</li>\n",
       "\t<li>2</li>\n",
       "\t<li>3</li>\n",
       "\t<li>4</li>\n",
       "\t<li>5</li>\n",
       "</ol>\n"
      ],
      "text/latex": [
       "\\begin{enumerate*}\n",
       "\\item 1\n",
       "\\item 2\n",
       "\\item 3\n",
       "\\item 4\n",
       "\\item 5\n",
       "\\end{enumerate*}\n"
      ],
      "text/markdown": [
       "1. 1\n",
       "2. 2\n",
       "3. 3\n",
       "4. 4\n",
       "5. 5\n",
       "\n",
       "\n"
      ],
      "text/plain": [
       "[1] 1 2 3 4 5"
      ]
     },
     "metadata": {},
     "output_type": "display_data"
    }
   ],
   "source": [
    "v"
   ]
  },
  {
   "cell_type": "code",
   "execution_count": 16,
   "metadata": {},
   "outputs": [
    {
     "data": {
      "text/html": [
       "<ol>\n",
       "\t<li>3</li>\n",
       "\t<li>3</li>\n",
       "\t<li>4</li>\n",
       "\t<li>13</li>\n",
       "\t<li>10</li>\n",
       "</ol>\n"
      ],
      "text/latex": [
       "\\begin{enumerate}\n",
       "\\item 3\n",
       "\\item 3\n",
       "\\item 4\n",
       "\\item 13\n",
       "\\item 10\n",
       "\\end{enumerate}\n"
      ],
      "text/markdown": [
       "1. 3\n",
       "2. 3\n",
       "3. 4\n",
       "4. 13\n",
       "5. 10\n",
       "\n",
       "\n"
      ],
      "text/plain": [
       "[[1]]\n",
       "[1] 3\n",
       "\n",
       "[[2]]\n",
       "[1] 3\n",
       "\n",
       "[[3]]\n",
       "[1] 4\n",
       "\n",
       "[[4]]\n",
       "[1] 13\n",
       "\n",
       "[[5]]\n",
       "[1] 10\n"
      ]
     },
     "metadata": {},
     "output_type": "display_data"
    }
   ],
   "source": [
    "# Vamos a hacer lo mismo que con el ejemplo de lapply()\n",
    "# Funcion Anonima con lapply()\n",
    "lapply(v, function(a){a+sample(x=1:10,1)})"
   ]
  },
  {
   "cell_type": "code",
   "execution_count": 17,
   "metadata": {},
   "outputs": [
    {
     "data": {
      "text/html": [
       "<ol>\n",
       "\t<li>3</li>\n",
       "\t<li>4</li>\n",
       "\t<li>5</li>\n",
       "\t<li>6</li>\n",
       "\t<li>7</li>\n",
       "</ol>\n"
      ],
      "text/latex": [
       "\\begin{enumerate}\n",
       "\\item 3\n",
       "\\item 4\n",
       "\\item 5\n",
       "\\item 6\n",
       "\\item 7\n",
       "\\end{enumerate}\n"
      ],
      "text/markdown": [
       "1. 3\n",
       "2. 4\n",
       "3. 5\n",
       "4. 6\n",
       "5. 7\n",
       "\n",
       "\n"
      ],
      "text/plain": [
       "[[1]]\n",
       "[1] 3\n",
       "\n",
       "[[2]]\n",
       "[1] 4\n",
       "\n",
       "[[3]]\n",
       "[1] 5\n",
       "\n",
       "[[4]]\n",
       "[1] 6\n",
       "\n",
       "[[5]]\n",
       "[1] 7\n"
      ]
     },
     "metadata": {},
     "output_type": "display_data"
    }
   ],
   "source": [
    "# Otro Ejemplo\n",
    "# Suma 2 a cada elemento\n",
    "lapply(v,function(x){x+2})"
   ]
  },
  {
   "cell_type": "markdown",
   "metadata": {},
   "source": [
    "Con funciones con varios argumentos?"
   ]
  },
  {
   "cell_type": "code",
   "execution_count": 18,
   "metadata": {},
   "outputs": [
    {
     "data": {
      "text/html": [
       "5"
      ],
      "text/latex": [
       "5"
      ],
      "text/markdown": [
       "5"
      ],
      "text/plain": [
       "[1] 5"
      ]
     },
     "metadata": {},
     "output_type": "display_data"
    }
   ],
   "source": [
    "add_choice <- function(num,choice){\n",
    "    return(num+choice)\n",
    "}\n",
    "add_choice(2,3)"
   ]
  },
  {
   "cell_type": "code",
   "execution_count": 20,
   "metadata": {},
   "outputs": [
    {
     "data": {
      "text/html": [
       "<ol>\n",
       "\t<li>11</li>\n",
       "\t<li>12</li>\n",
       "\t<li>13</li>\n",
       "\t<li>14</li>\n",
       "\t<li>15</li>\n",
       "</ol>\n"
      ],
      "text/latex": [
       "\\begin{enumerate}\n",
       "\\item 11\n",
       "\\item 12\n",
       "\\item 13\n",
       "\\item 14\n",
       "\\item 15\n",
       "\\end{enumerate}\n"
      ],
      "text/markdown": [
       "1. 11\n",
       "2. 12\n",
       "3. 13\n",
       "4. 14\n",
       "5. 15\n",
       "\n",
       "\n"
      ],
      "text/plain": [
       "[[1]]\n",
       "[1] 11\n",
       "\n",
       "[[2]]\n",
       "[1] 12\n",
       "\n",
       "[[3]]\n",
       "[1] 13\n",
       "\n",
       "[[4]]\n",
       "[1] 14\n",
       "\n",
       "[[5]]\n",
       "[1] 15\n"
      ]
     },
     "metadata": {},
     "output_type": "display_data"
    }
   ],
   "source": [
    "lapply(v,add_choice,choice=10)"
   ]
  },
  {
   "cell_type": "markdown",
   "metadata": {},
   "source": [
    "Se pueden seguir poniendo argumentos sin problema.\n",
    "## `sapply()` vs. `lapply()`\n",
    "lapply devuelve una lista, sapply devuelve un vector o una matrix"
   ]
  },
  {
   "cell_type": "code",
   "execution_count": null,
   "metadata": {},
   "outputs": [],
   "source": [
    "help(sapply)"
   ]
  },
  {
   "cell_type": "code",
   "execution_count": 21,
   "metadata": {},
   "outputs": [
    {
     "data": {
      "text/html": [
       "<ol class=list-inline>\n",
       "\t<li>11</li>\n",
       "\t<li>12</li>\n",
       "\t<li>13</li>\n",
       "\t<li>14</li>\n",
       "\t<li>15</li>\n",
       "</ol>\n"
      ],
      "text/latex": [
       "\\begin{enumerate*}\n",
       "\\item 11\n",
       "\\item 12\n",
       "\\item 13\n",
       "\\item 14\n",
       "\\item 15\n",
       "\\end{enumerate*}\n"
      ],
      "text/markdown": [
       "1. 11\n",
       "2. 12\n",
       "3. 13\n",
       "4. 14\n",
       "5. 15\n",
       "\n",
       "\n"
      ],
      "text/plain": [
       "[1] 11 12 13 14 15"
      ]
     },
     "metadata": {},
     "output_type": "display_data"
    }
   ],
   "source": [
    "# Devuelve un vector\n",
    "sapply(v,add_choice,choice=10)"
   ]
  },
  {
   "cell_type": "code",
   "execution_count": 22,
   "metadata": {},
   "outputs": [
    {
     "data": {
      "text/html": [
       "'list'"
      ],
      "text/latex": [
       "'list'"
      ],
      "text/markdown": [
       "'list'"
      ],
      "text/plain": [
       "[1] \"list\""
      ]
     },
     "metadata": {},
     "output_type": "display_data"
    },
    {
     "data": {
      "text/html": [
       "'numeric'"
      ],
      "text/latex": [
       "'numeric'"
      ],
      "text/markdown": [
       "'numeric'"
      ],
      "text/plain": [
       "[1] \"numeric\""
      ]
     },
     "metadata": {},
     "output_type": "display_data"
    }
   ],
   "source": [
    "# Vamos a probarlo\n",
    "lapp <- lapply(v,add_choice,choice=10)\n",
    "sapp <- sapply(v,add_choice,choice=10)\n",
    "\n",
    "class(lapp) # Una lista\n",
    "class(sapp) # Un vector de numeros"
   ]
  },
  {
   "cell_type": "markdown",
   "metadata": {},
   "source": [
    "### Limitaciones de `sapply()`\n",
    "sapply() no podrá devolver automáticamente un vector si la función aplicada no devuelve algo para todos los elementos en ese vector."
   ]
  },
  {
   "cell_type": "code",
   "execution_count": 23,
   "metadata": {},
   "outputs": [
    {
     "data": {
      "text/html": [
       "<ol>\n",
       "\t<li></li>\n",
       "\t<li>2</li>\n",
       "\t<li></li>\n",
       "\t<li>4</li>\n",
       "\t<li></li>\n",
       "</ol>\n"
      ],
      "text/latex": [
       "\\begin{enumerate}\n",
       "\\item \n",
       "\\item 2\n",
       "\\item \n",
       "\\item 4\n",
       "\\item \n",
       "\\end{enumerate}\n"
      ],
      "text/markdown": [
       "1. \n",
       "2. 2\n",
       "3. \n",
       "4. 4\n",
       "5. \n",
       "\n",
       "\n"
      ],
      "text/plain": [
       "[[1]]\n",
       "numeric(0)\n",
       "\n",
       "[[2]]\n",
       "[1] 2\n",
       "\n",
       "[[3]]\n",
       "numeric(0)\n",
       "\n",
       "[[4]]\n",
       "[1] 4\n",
       "\n",
       "[[5]]\n",
       "numeric(0)\n"
      ]
     },
     "metadata": {},
     "output_type": "display_data"
    }
   ],
   "source": [
    "# Verifica los numeros pares\n",
    "even <- function(x) {\n",
    "  return(x[(x %% 2 == 0)])\n",
    "}\n",
    "\n",
    "nums <- c(1,2,3,4,5)\n",
    "\n",
    "sapply(nums,even) #devulelve una lista"
   ]
  },
  {
   "cell_type": "code",
   "execution_count": 24,
   "metadata": {},
   "outputs": [
    {
     "data": {
      "text/html": [
       "<ol>\n",
       "\t<li></li>\n",
       "\t<li>2</li>\n",
       "\t<li></li>\n",
       "\t<li>4</li>\n",
       "\t<li></li>\n",
       "</ol>\n"
      ],
      "text/latex": [
       "\\begin{enumerate}\n",
       "\\item \n",
       "\\item 2\n",
       "\\item \n",
       "\\item 4\n",
       "\\item \n",
       "\\end{enumerate}\n"
      ],
      "text/markdown": [
       "1. \n",
       "2. 2\n",
       "3. \n",
       "4. 4\n",
       "5. \n",
       "\n",
       "\n"
      ],
      "text/plain": [
       "[[1]]\n",
       "numeric(0)\n",
       "\n",
       "[[2]]\n",
       "[1] 2\n",
       "\n",
       "[[3]]\n",
       "numeric(0)\n",
       "\n",
       "[[4]]\n",
       "[1] 4\n",
       "\n",
       "[[5]]\n",
       "numeric(0)\n"
      ]
     },
     "metadata": {},
     "output_type": "display_data"
    }
   ],
   "source": [
    "lapply(nums,even)"
   ]
  },
  {
   "cell_type": "markdown",
   "metadata": {},
   "source": [
    "# Expresiones Regulares\n",
    "Es un término general que cubre la idea de búsqueda de patrones, generalmente en un string (o un vector de strings).\n",
    "- `grepl()` que devuelve un valor lógico que indica si se encontró el patrón \n",
    "- `grep()`  que devuelve un vector de ubicaciones de índice de instancias de patrón coincidentes. \n",
    "\n",
    "Para mas informacion lo puede hcaer en  http://www.regular-expressions.info/rlanguage.html\n",
    "Para ambas funciones, pasará un patrón y luego el objeto que desea buscar. Veamos algunos ejemplos rápidos:"
   ]
  },
  {
   "cell_type": "code",
   "execution_count": 26,
   "metadata": {},
   "outputs": [],
   "source": [
    "text <- \"Los datos son el nuevo petroleo en el siglo XXI\""
   ]
  },
  {
   "cell_type": "code",
   "execution_count": 27,
   "metadata": {},
   "outputs": [
    {
     "data": {
      "text/html": [
       "TRUE"
      ],
      "text/latex": [
       "TRUE"
      ],
      "text/markdown": [
       "TRUE"
      ],
      "text/plain": [
       "[1] TRUE"
      ]
     },
     "metadata": {},
     "output_type": "display_data"
    }
   ],
   "source": [
    "grepl('datos',text)"
   ]
  },
  {
   "cell_type": "code",
   "execution_count": 28,
   "metadata": {},
   "outputs": [
    {
     "data": {
      "text/html": [
       "TRUE"
      ],
      "text/latex": [
       "TRUE"
      ],
      "text/markdown": [
       "TRUE"
      ],
      "text/plain": [
       "[1] TRUE"
      ]
     },
     "metadata": {},
     "output_type": "display_data"
    }
   ],
   "source": [
    "grepl('nuevo',text)"
   ]
  },
  {
   "cell_type": "code",
   "execution_count": 29,
   "metadata": {},
   "outputs": [
    {
     "data": {
      "text/html": [
       "FALSE"
      ],
      "text/latex": [
       "FALSE"
      ],
      "text/markdown": [
       "FALSE"
      ],
      "text/plain": [
       "[1] FALSE"
      ]
     },
     "metadata": {},
     "output_type": "display_data"
    }
   ],
   "source": [
    "grepl('Jose',text)"
   ]
  },
  {
   "cell_type": "code",
   "execution_count": 30,
   "metadata": {},
   "outputs": [],
   "source": [
    "v <- c('a','b','c','d')"
   ]
  },
  {
   "cell_type": "code",
   "execution_count": 31,
   "metadata": {},
   "outputs": [
    {
     "data": {
      "text/html": [
       "1"
      ],
      "text/latex": [
       "1"
      ],
      "text/markdown": [
       "1"
      ],
      "text/plain": [
       "[1] 1"
      ]
     },
     "metadata": {},
     "output_type": "display_data"
    }
   ],
   "source": [
    "grep('a',v)"
   ]
  },
  {
   "cell_type": "code",
   "execution_count": 32,
   "metadata": {},
   "outputs": [
    {
     "data": {
      "text/html": [
       "3"
      ],
      "text/latex": [
       "3"
      ],
      "text/markdown": [
       "3"
      ],
      "text/plain": [
       "[1] 3"
      ]
     },
     "metadata": {},
     "output_type": "display_data"
    }
   ],
   "source": [
    "grep('c',v)"
   ]
  },
  {
   "cell_type": "markdown",
   "metadata": {},
   "source": [
    "---\n",
    "# Timestamps\n",
    "R nos brinda una variedad de herramientas para trabajar con información de tiempo. \n",
    "## Date\n",
    "Puede usar la función `as.Date()` para convertir una cadena de caracteres en un objeto Date, lo que le permitirá contener más información de tiempo. El string deberá estar en un formato de hora estándar. Podemos solicitar la fecha de hoy preguntando al sistema (Sys) por la Fecha:\n"
   ]
  },
  {
   "cell_type": "code",
   "execution_count": 33,
   "metadata": {},
   "outputs": [
    {
     "data": {
      "text/html": [
       "<time datetime=\"2018-08-11\">2018-08-11</time>"
      ],
      "text/latex": [
       "2018-08-11"
      ],
      "text/markdown": [
       "2018-08-11"
      ],
      "text/plain": [
       "[1] \"2018-08-11\""
      ]
     },
     "metadata": {},
     "output_type": "display_data"
    }
   ],
   "source": [
    "Sys.Date()"
   ]
  },
  {
   "cell_type": "code",
   "execution_count": 34,
   "metadata": {},
   "outputs": [
    {
     "data": {
      "text/html": [
       "<time datetime=\"2018-08-11\">2018-08-11</time>"
      ],
      "text/latex": [
       "2018-08-11"
      ],
      "text/markdown": [
       "2018-08-11"
      ],
      "text/plain": [
       "[1] \"2018-08-11\""
      ]
     },
     "metadata": {},
     "output_type": "display_data"
    }
   ],
   "source": [
    "# Guardarlo en una variable\n",
    "today <- Sys.Date()\n",
    "today"
   ]
  },
  {
   "cell_type": "markdown",
   "metadata": {},
   "source": [
    "También puede convertir cadenas de caracteres en R a un objeto Date usando `as.Date()`. Deberá asegurarse de que esté en el formato correcto o usar% símbolos correlacionados con su formato dado:\n",
    "\n",
    "<table border=\"1\">\n",
    "<tr><td>Code</td><td>Value</td></tr>\n",
    "<tr><td><tt>%d</tt></td><td>Day of the month (decimal number)</td></tr>\n",
    "<tr><td><tt>%m</tt></td><td>Month (decimal number)</td></tr>\n",
    "<tr><td><tt>%b</tt></td><td>Month (abbreviated)</td></tr>\n",
    "<tr><td><tt>%B</tt></td><td>Month (full name)</td></tr>\n",
    "<tr><td><tt>%y</tt></td><td>Year (2 digit)</td></tr>\n",
    "<tr><td><tt>%Y</tt></td><td>Year (4 digit)</td></tr></table>\n"
   ]
  },
  {
   "cell_type": "code",
   "execution_count": null,
   "metadata": {},
   "outputs": [],
   "source": [
    "# YYYY-MM-DD\n",
    "as.Date('1990-11-03')"
   ]
  },
  {
   "cell_type": "code",
   "execution_count": null,
   "metadata": {},
   "outputs": [],
   "source": [
    "# Usando format\n",
    "as.Date(\"Nov-03-90\",format=\"%b-%d-%y\")"
   ]
  },
  {
   "cell_type": "code",
   "execution_count": null,
   "metadata": {},
   "outputs": [],
   "source": [
    "# Usando format\n",
    "as.Date(\"November-03-1990\",format=\"%B-%d-%Y\")"
   ]
  },
  {
   "cell_type": "markdown",
   "metadata": {},
   "source": [
    "## Time\n",
    "Convierte un string en un tipo de datos de tiempo, la funcion es `strptime()`"
   ]
  },
  {
   "cell_type": "code",
   "execution_count": null,
   "metadata": {},
   "outputs": [],
   "source": [
    "help(strptime)"
   ]
  },
  {
   "cell_type": "code",
   "execution_count": 35,
   "metadata": {},
   "outputs": [
    {
     "data": {
      "text/plain": [
       "[1] \"2018-08-11 11:02:03 -05\""
      ]
     },
     "metadata": {},
     "output_type": "display_data"
    }
   ],
   "source": [
    "strptime(\"11:02:03\",format=\"%H:%M:%S\")"
   ]
  },
  {
   "cell_type": "markdown",
   "metadata": {},
   "source": [
    "---\n",
    "# Leer y guardar Datos (Data Input and Output)"
   ]
  },
  {
   "cell_type": "markdown",
   "metadata": {},
   "source": [
    "## CSV File (comma-separated values)"
   ]
  },
  {
   "cell_type": "code",
   "execution_count": null,
   "metadata": {},
   "outputs": [],
   "source": [
    "# Poner todo el path completo\n",
    "ex <- read.csv('./Datos/example.csv')"
   ]
  },
  {
   "cell_type": "code",
   "execution_count": null,
   "metadata": {},
   "outputs": [],
   "source": [
    "# Verificar la estructura\n",
    "str(ex)"
   ]
  },
  {
   "cell_type": "code",
   "execution_count": null,
   "metadata": {},
   "outputs": [],
   "source": [
    "# Nombres de las columnas\n",
    "colnames(ex)"
   ]
  },
  {
   "cell_type": "code",
   "execution_count": null,
   "metadata": {},
   "outputs": [],
   "source": [
    "df <- data.frame(ex)\n",
    "head(df)"
   ]
  },
  {
   "cell_type": "code",
   "execution_count": null,
   "metadata": {},
   "outputs": [],
   "source": [
    "# tambein se puede utilizar si el archivo tiene otro tipo de caracter de separacion\n",
    "help(read.csv)"
   ]
  },
  {
   "cell_type": "markdown",
   "metadata": {},
   "source": [
    "### `read.table()`\n",
    "\n",
    "Es la forma general de utilizar `read.csv()`"
   ]
  },
  {
   "cell_type": "code",
   "execution_count": null,
   "metadata": {},
   "outputs": [],
   "source": [
    "read.table('./Datos/example.csv')"
   ]
  },
  {
   "cell_type": "markdown",
   "metadata": {},
   "source": [
    "¡Observe cómo obtenemos un error aquí! Eso significa que necesitamos agregar argumentos adicionales a read.table, como lo que es el delimitador o separador (sep):"
   ]
  },
  {
   "cell_type": "code",
   "execution_count": null,
   "metadata": {},
   "outputs": [],
   "source": [
    "read.table(file = './Datos/example.csv', sep = ',')"
   ]
  },
  {
   "cell_type": "markdown",
   "metadata": {},
   "source": [
    "### Grabar a csv"
   ]
  },
  {
   "cell_type": "code",
   "execution_count": null,
   "metadata": {},
   "outputs": [],
   "source": [
    "### Alternatively\n",
    "write.csv(df, file = \"foo.csv\")\n",
    "read.csv('foo.csv')"
   ]
  },
  {
   "cell_type": "code",
   "execution_count": null,
   "metadata": {},
   "outputs": [],
   "source": [
    "#Sin los nombres de las filas\n",
    "write.csv(df, file = \"foo2.csv\",row.names = FALSE)\n",
    "read.csv('foo2.csv')"
   ]
  },
  {
   "cell_type": "markdown",
   "metadata": {},
   "source": [
    "## Excel\n",
    "Nota rápida: el archivo de Excel utilizado tiene una gran cantidad de valores de NA, así es  el archivo,\n",
    "\n",
    "Para hacer esto, necesitamos el paquete readxl para R. Recuerde que puede descargarlo usando:\n",
    "\n",
    "`install.packages('readxl')`"
   ]
  },
  {
   "cell_type": "code",
   "execution_count": null,
   "metadata": {},
   "outputs": [],
   "source": [
    "# si no tiene el paquete readxl se debe instalar\n",
    "#install.packages('readxl')"
   ]
  },
  {
   "cell_type": "code",
   "execution_count": null,
   "metadata": {},
   "outputs": [],
   "source": [
    "# Load the readxl package\n",
    "library(readxl)"
   ]
  },
  {
   "cell_type": "code",
   "execution_count": null,
   "metadata": {},
   "outputs": [],
   "source": [
    "# list the sheets of the excel file\n",
    "excel_sheets('./Datos/Sample-Sales-Data.xlsx')"
   ]
  },
  {
   "cell_type": "code",
   "execution_count": null,
   "metadata": {},
   "outputs": [],
   "source": [
    "# tomar la informacion de la hoa 1 sheet1\n",
    "df <- read_excel('./Datos/Sample-Sales-Data.xlsx',sheet='Sheet1')"
   ]
  },
  {
   "cell_type": "code",
   "execution_count": null,
   "metadata": {},
   "outputs": [],
   "source": [
    "head(df)"
   ]
  },
  {
   "cell_type": "markdown",
   "metadata": {},
   "source": [
    "Ahora se puede trabajar normalmente con el dataframe"
   ]
  },
  {
   "cell_type": "code",
   "execution_count": null,
   "metadata": {},
   "outputs": [],
   "source": [
    "sum(df['Value'])"
   ]
  },
  {
   "cell_type": "code",
   "execution_count": null,
   "metadata": {},
   "outputs": [],
   "source": [
    "str(df)"
   ]
  },
  {
   "cell_type": "code",
   "execution_count": null,
   "metadata": {},
   "outputs": [],
   "source": [
    "summary(df)"
   ]
  },
  {
   "cell_type": "markdown",
   "metadata": {},
   "source": [
    "Si se tienen varias hojas sheets, se peuden importar en una lista usando la funcion `lapply()`"
   ]
  },
  {
   "cell_type": "code",
   "execution_count": null,
   "metadata": {},
   "outputs": [],
   "source": [
    "entire_workbook <- lapply(excel_sheets(\"./Datos/Sample-Sales-Data.xlsx\"), \n",
    "                      read_excel, \n",
    "                      path = \"./Datos/Sample-Sales-Data.xlsx\")"
   ]
  },
  {
   "cell_type": "code",
   "execution_count": null,
   "metadata": {},
   "outputs": [],
   "source": [
    "# Mostrar la lista completa\n",
    "entire_workbook"
   ]
  },
  {
   "cell_type": "markdown",
   "metadata": {},
   "source": [
    "## SQL EN R\n",
    "La conexión de R a una base de datos SQL depende completamente del tipo de base de datos que esté utilizando (MYSQL, Oracle, etc.).\n",
    "<p> Entonces, en lugar de tratar de cubrir todos estos (ya que cada uno requiere un tratamiento especial), se incluyen los siguientes enlaces:\n",
    "\n",
    "### RODBC\n",
    "La libreria [RODBC](https://cran.r-project.org/web/packages/DBI/DBI.pdf) \n",
    "\n",
    "### MySQL\n",
    "Libreria [\"RMySQL](https://cran.r-project.org/web/packages/RMySQL/index.html)\n",
    "\n",
    "### Oracle\n",
    "Libreria [ROracle](https://cran.r-project.org/web/packages/ROracle/index.html)\n",
    "\n",
    "### JDBC\n",
    "Libreria [JDBC](https://cran.r-project.org/web/packages/RJDBC/index.html)"
   ]
  },
  {
   "cell_type": "markdown",
   "metadata": {},
   "source": [
    "# Referencias\n",
    "- Funciones en R: https://cran.r-project.org/doc/contrib/Short-refcard.pdf\n",
    "- [R para profesionales de los datos: una introducción - Carlos J. Gil Bellosta](https://www.datanalytics.com/libro_r/index.html)- \n",
    "- [R cheatsheet](https://www.rstudio.com/wp-content/uploads/2016/10/r-cheat-sheet-3.pdf)"
   ]
  }
 ],
 "metadata": {
  "kernelspec": {
   "display_name": "R",
   "language": "R",
   "name": "ir"
  },
  "language_info": {
   "codemirror_mode": "r",
   "file_extension": ".r",
   "mimetype": "text/x-r-source",
   "name": "R",
   "pygments_lexer": "r",
   "version": "3.5.0"
  },
  "toc": {
   "base_numbering": 1,
   "nav_menu": {},
   "number_sections": true,
   "sideBar": true,
   "skip_h1_title": false,
   "title_cell": "Contenido",
   "title_sidebar": "Contenido",
   "toc_cell": true,
   "toc_position": {
    "height": "calc(100% - 180px)",
    "left": "10px",
    "top": "150px",
    "width": "379.188px"
   },
   "toc_section_display": true,
   "toc_window_display": true
  }
 },
 "nbformat": 4,
 "nbformat_minor": 2
}